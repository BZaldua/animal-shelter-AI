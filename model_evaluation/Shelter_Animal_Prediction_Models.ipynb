{
 "cells": [
  {
   "cell_type": "markdown",
   "metadata": {},
   "source": [
    "# Data import and Set-up\n",
    "\n",
    "First, we will import our libraries."
   ]
  },
  {
   "cell_type": "code",
   "execution_count": 1,
   "metadata": {},
   "outputs": [
    {
     "data": {
      "text/plain": [
       "'0.23.1'"
      ]
     },
     "execution_count": 1,
     "metadata": {},
     "output_type": "execute_result"
    }
   ],
   "source": [
    "import re\n",
    "import numpy as np\n",
    "import matplotlib.pyplot as plt\n",
    "%matplotlib inline\n",
    "import pandas as pd\n",
    "import seaborn as sns\n",
    "import xgboost as xgb\n",
    "\n",
    "from collections import Counter\n",
    "import sklearn\n",
    "\n",
    "# Scikit-learn libraries for model building\n",
    "from sklearn.linear_model import LogisticRegression\n",
    "from sklearn.naive_bayes import MultinomialNB\n",
    "from sklearn.tree import DecisionTreeClassifier\n",
    "from sklearn.ensemble import RandomForestClassifier\n",
    "from sklearn.decomposition import PCA\n",
    "\n",
    "# Scikit-learn libraries for evaluation\n",
    "from sklearn.metrics import confusion_matrix\n",
    "from sklearn.metrics import log_loss\n",
    "from sklearn import metrics\n",
    "from sklearn.metrics import classification_report\n",
    "from sklearn.model_selection import KFold\n",
    "from sklearn.model_selection import StratifiedKFold\n",
    "from sklearn.model_selection import GridSearchCV\n",
    "from sklearn.model_selection import train_test_split\n",
    "from sklearn.model_selection import *\n",
    "\n",
    "# Imbalanced learn libraries to handle unbalanced data\n",
    "from imblearn.over_sampling import *\n",
    "from imblearn.under_sampling import *\n",
    "\n",
    "# Ignoring all warnings throughout the notebook\n",
    "import warnings\n",
    "warnings.filterwarnings('ignore')\n",
    "\n",
    "sklearn.__version__"
   ]
  },
  {
   "cell_type": "markdown",
   "metadata": {},
   "source": [
    "Now, we will fetch the latest dataset available in Austin Texas Dataset, and we will adapt the format of the dataset, to fit with future work."
   ]
  },
  {
   "cell_type": "code",
   "execution_count": 2,
   "metadata": {
    "scrolled": true
   },
   "outputs": [
    {
     "name": "stdout",
     "output_type": "stream",
     "text": [
      "Downloading and preparing datasets...\n",
      "Done.\n"
     ]
    }
   ],
   "source": [
    "import requests\n",
    "import os.path\n",
    "\n",
    "if os.path.isfile('./data/train.csv') and os.path.isfile('./data/test.csv'):\n",
    "    print (\"Datasets already fetched, delete them if you want the latest datasets!\")\n",
    "else:\n",
    "    print (\"Downloading and preparing datasets...\")\n",
    "\n",
    "    outcomes_endpoint = 'https://data.austintexas.gov/resource/9t4d-g238.json'\n",
    "\n",
    "    params = {'$limit': 10000000} # If not specified it only returns 1000 records\n",
    "    request = requests.get(outcomes_endpoint, params)\n",
    "    out_df = pd.DataFrame(request.json())\n",
    "\n",
    "    # Drop two unnecessary columns. \n",
    "    out_df.drop(['monthyear', 'date_of_birth'], axis=1, inplace=True)\n",
    "\n",
    "    # Re-order Columns\n",
    "    out_df = out_df[['animal_id','name','datetime','outcome_type','outcome_subtype', \n",
    "                     'animal_type', 'sex_upon_outcome', 'age_upon_outcome', 'breed', 'color']]\n",
    "\n",
    "    # Re-name Columns\n",
    "    out_df.columns = ['AnimalID','Name','DateTime','OutcomeType','OutcomeSubtype', 'AnimalType', \n",
    "                      'SexuponOutcome', 'AgeuponOutcome', 'Breed', 'Color']\n",
    "    \n",
    "    # Clean unnecessary rows, we will focus on the 4 main outcomes.\n",
    "    out_df = out_df.drop(out_df[out_df['OutcomeType'] == 'Rto-Adopt'].index)\n",
    "    out_df = out_df.drop(out_df[out_df['OutcomeType'] == 'Disposal'].index)\n",
    "    out_df = out_df.drop(out_df[out_df['OutcomeType'] == 'Missing'].index)\n",
    "    out_df = out_df.drop(out_df[out_df['OutcomeType'] == 'Relocate'].index)\n",
    "    \n",
    "    # Clean Bird/Livestock rows, there is no enough data.\n",
    "    out_df = out_df.drop(out_df[out_df['AnimalType'] == 'Bird'].index)\n",
    "    out_df = out_df.drop(out_df[out_df['AnimalType'] == 'Livestock'].index)\n",
    "    \n",
    "    # Split dataset\n",
    "    train_df, test_df = train_test_split(out_df, test_size=0.2, shuffle=True)\n",
    "\n",
    "    # Drop columns in test_df\n",
    "    test_df.drop(['OutcomeType', 'OutcomeSubtype'], axis=1, inplace=True)\n",
    "\n",
    "    # Re-name Columns in test_df\n",
    "    test_df.columns = ['ID','Name','DateTime', 'AnimalType', \n",
    "                      'SexuponOutcome', 'AgeuponOutcome', 'Breed', 'Color']\n",
    "    # Reset the IDs in test_df\n",
    "    test_df['ID'] = np.arange(len(test_df.index))\n",
    "\n",
    "    # Save both dataframes\n",
    "    if not os.path.exists('./data'):\n",
    "        os.makedirs('./data')\n",
    "        \n",
    "    train_df.to_csv('./data/train.csv', index=False)\n",
    "    test_df.to_csv('./data/test.csv', index=False)\n",
    "    \n",
    "    print(\"Done.\")"
   ]
  },
  {
   "cell_type": "markdown",
   "metadata": {},
   "source": [
    "Next, we load our data, which had already been separated into training and test data."
   ]
  },
  {
   "cell_type": "code",
   "execution_count": 3,
   "metadata": {},
   "outputs": [],
   "source": [
    "# Training and test dataframes, and its structure.\n",
    "train_df = pd.read_csv('./data/train.csv')\n",
    "test_df = pd.read_csv('./data/test.csv')"
   ]
  },
  {
   "cell_type": "markdown",
   "metadata": {},
   "source": [
    "# Exporatory Data Analysis (EDA)\n",
    "First, we look if we have outliers of missing data for each feature."
   ]
  },
  {
   "cell_type": "code",
   "execution_count": 4,
   "metadata": {
    "scrolled": true
   },
   "outputs": [
    {
     "data": {
      "text/html": [
       "<div>\n",
       "<style scoped>\n",
       "    .dataframe tbody tr th:only-of-type {\n",
       "        vertical-align: middle;\n",
       "    }\n",
       "\n",
       "    .dataframe tbody tr th {\n",
       "        vertical-align: top;\n",
       "    }\n",
       "\n",
       "    .dataframe thead th {\n",
       "        text-align: right;\n",
       "    }\n",
       "</style>\n",
       "<table border=\"1\" class=\"dataframe\">\n",
       "  <thead>\n",
       "    <tr style=\"text-align: right;\">\n",
       "      <th></th>\n",
       "      <th>AnimalID</th>\n",
       "      <th>Name</th>\n",
       "      <th>DateTime</th>\n",
       "      <th>OutcomeType</th>\n",
       "      <th>OutcomeSubtype</th>\n",
       "      <th>AnimalType</th>\n",
       "      <th>SexuponOutcome</th>\n",
       "      <th>AgeuponOutcome</th>\n",
       "      <th>Breed</th>\n",
       "      <th>Color</th>\n",
       "    </tr>\n",
       "  </thead>\n",
       "  <tbody>\n",
       "    <tr>\n",
       "      <th>count</th>\n",
       "      <td>96766</td>\n",
       "      <td>66683</td>\n",
       "      <td>96766</td>\n",
       "      <td>96691</td>\n",
       "      <td>44813</td>\n",
       "      <td>96766</td>\n",
       "      <td>96763</td>\n",
       "      <td>96697</td>\n",
       "      <td>96766</td>\n",
       "      <td>96766</td>\n",
       "    </tr>\n",
       "    <tr>\n",
       "      <th>unique</th>\n",
       "      <td>88224</td>\n",
       "      <td>17133</td>\n",
       "      <td>82123</td>\n",
       "      <td>5</td>\n",
       "      <td>22</td>\n",
       "      <td>3</td>\n",
       "      <td>5</td>\n",
       "      <td>50</td>\n",
       "      <td>2322</td>\n",
       "      <td>544</td>\n",
       "    </tr>\n",
       "    <tr>\n",
       "      <th>top</th>\n",
       "      <td>A721033</td>\n",
       "      <td>Max</td>\n",
       "      <td>2016-04-18T00:00:00.000</td>\n",
       "      <td>Adoption</td>\n",
       "      <td>Partner</td>\n",
       "      <td>Dog</td>\n",
       "      <td>Neutered Male</td>\n",
       "      <td>1 year</td>\n",
       "      <td>Domestic Shorthair Mix</td>\n",
       "      <td>Black/White</td>\n",
       "    </tr>\n",
       "    <tr>\n",
       "      <th>freq</th>\n",
       "      <td>26</td>\n",
       "      <td>448</td>\n",
       "      <td>31</td>\n",
       "      <td>43272</td>\n",
       "      <td>24239</td>\n",
       "      <td>55156</td>\n",
       "      <td>34168</td>\n",
       "      <td>16895</td>\n",
       "      <td>24854</td>\n",
       "      <td>10213</td>\n",
       "    </tr>\n",
       "  </tbody>\n",
       "</table>\n",
       "</div>"
      ],
      "text/plain": [
       "       AnimalID   Name                 DateTime OutcomeType OutcomeSubtype  \\\n",
       "count     96766  66683                    96766       96691          44813   \n",
       "unique    88224  17133                    82123           5             22   \n",
       "top     A721033    Max  2016-04-18T00:00:00.000    Adoption        Partner   \n",
       "freq         26    448                       31       43272          24239   \n",
       "\n",
       "       AnimalType SexuponOutcome AgeuponOutcome                   Breed  \\\n",
       "count       96766          96763          96697                   96766   \n",
       "unique          3              5             50                    2322   \n",
       "top           Dog  Neutered Male         1 year  Domestic Shorthair Mix   \n",
       "freq        55156          34168          16895                   24854   \n",
       "\n",
       "              Color  \n",
       "count         96766  \n",
       "unique          544  \n",
       "top     Black/White  \n",
       "freq          10213  "
      ]
     },
     "execution_count": 4,
     "metadata": {},
     "output_type": "execute_result"
    }
   ],
   "source": [
    "# Describe the dataset.\n",
    "train_df.describe()"
   ]
  },
  {
   "cell_type": "code",
   "execution_count": 5,
   "metadata": {},
   "outputs": [],
   "source": [
    "# Show percent of total data in the training dataframe"
   ]
  },
  {
   "cell_type": "code",
   "execution_count": 6,
   "metadata": {},
   "outputs": [
    {
     "data": {
      "text/html": [
       "<div>\n",
       "<style scoped>\n",
       "    .dataframe tbody tr th:only-of-type {\n",
       "        vertical-align: middle;\n",
       "    }\n",
       "\n",
       "    .dataframe tbody tr th {\n",
       "        vertical-align: top;\n",
       "    }\n",
       "\n",
       "    .dataframe thead th {\n",
       "        text-align: right;\n",
       "    }\n",
       "</style>\n",
       "<table border=\"1\" class=\"dataframe\">\n",
       "  <thead>\n",
       "    <tr style=\"text-align: right;\">\n",
       "      <th></th>\n",
       "      <th>Column Count</th>\n",
       "      <th>% Percent of Total Data</th>\n",
       "    </tr>\n",
       "  </thead>\n",
       "  <tbody>\n",
       "    <tr>\n",
       "      <th>AnimalID</th>\n",
       "      <td>96766</td>\n",
       "      <td>100.0</td>\n",
       "    </tr>\n",
       "    <tr>\n",
       "      <th>Name</th>\n",
       "      <td>66683</td>\n",
       "      <td>68.9</td>\n",
       "    </tr>\n",
       "    <tr>\n",
       "      <th>DateTime</th>\n",
       "      <td>96766</td>\n",
       "      <td>100.0</td>\n",
       "    </tr>\n",
       "    <tr>\n",
       "      <th>OutcomeType</th>\n",
       "      <td>96691</td>\n",
       "      <td>99.9</td>\n",
       "    </tr>\n",
       "    <tr>\n",
       "      <th>OutcomeSubtype</th>\n",
       "      <td>44813</td>\n",
       "      <td>46.3</td>\n",
       "    </tr>\n",
       "    <tr>\n",
       "      <th>AnimalType</th>\n",
       "      <td>96766</td>\n",
       "      <td>100.0</td>\n",
       "    </tr>\n",
       "    <tr>\n",
       "      <th>SexuponOutcome</th>\n",
       "      <td>96763</td>\n",
       "      <td>100.0</td>\n",
       "    </tr>\n",
       "    <tr>\n",
       "      <th>AgeuponOutcome</th>\n",
       "      <td>96697</td>\n",
       "      <td>99.9</td>\n",
       "    </tr>\n",
       "    <tr>\n",
       "      <th>Breed</th>\n",
       "      <td>96766</td>\n",
       "      <td>100.0</td>\n",
       "    </tr>\n",
       "    <tr>\n",
       "      <th>Color</th>\n",
       "      <td>96766</td>\n",
       "      <td>100.0</td>\n",
       "    </tr>\n",
       "  </tbody>\n",
       "</table>\n",
       "</div>"
      ],
      "text/plain": [
       "                Column Count  % Percent of Total Data\n",
       "AnimalID               96766                    100.0\n",
       "Name                   66683                     68.9\n",
       "DateTime               96766                    100.0\n",
       "OutcomeType            96691                     99.9\n",
       "OutcomeSubtype         44813                     46.3\n",
       "AnimalType             96766                    100.0\n",
       "SexuponOutcome         96763                    100.0\n",
       "AgeuponOutcome         96697                     99.9\n",
       "Breed                  96766                    100.0\n",
       "Color                  96766                    100.0"
      ]
     },
     "execution_count": 6,
     "metadata": {},
     "output_type": "execute_result"
    }
   ],
   "source": [
    "train_df_counts = pd.DataFrame({'Column Count' : train_df.count(),\n",
    "   ....:                      '% Percent of Total Data' : train_df.count().div(max(train_df.count())) * 100})\n",
    "\n",
    "train_df_counts.round(1)"
   ]
  },
  {
   "cell_type": "markdown",
   "metadata": {},
   "source": [
    "Our initial look at the data reveals 97,216 rows. `Name` is not included for 30,503 cases, but is included for 68.6% of the data. A large quantity of `OutcomeSubtype` data is missing, which we worked to quantify below. Aside from these two columns, we had at least 99.9% of the data in every other column.\n",
    "\n",
    "We are choosing not to use the `Name` variable, as we have blanks for 31.4% of the data, and animals have high variety of names, so the variable had few commonalities among animals. We feel that this level of sparsity within `Name` will not help us to predict the animals outcomes. This makes logical sense as well, as `Name` seems unlikely to be the deciding factor in whether an animal is adopted."
   ]
  },
  {
   "cell_type": "markdown",
   "metadata": {},
   "source": [
    "# Class Variable Review"
   ]
  },
  {
   "cell_type": "code",
   "execution_count": 7,
   "metadata": {},
   "outputs": [
    {
     "data": {
      "image/png": "[encoded data removed]",
      "text/plain": [
       "<Figure size 720x1728 with 2 Axes>"
      ]
     },
     "metadata": {
      "needs_background": "light"
     },
     "output_type": "display_data"
    }
   ],
   "source": [
    "# Obtain headers.\n",
    "headers = train_df.dtypes.index\n",
    "\n",
    "# Categorical headers of classes.\n",
    "cat_headers = ['OutcomeType', 'OutcomeSubtype']\n",
    "\n",
    "# Plot paretos of top 10 values in each column.\n",
    "fig, ax = plt.subplots(len(cat_headers[0:]), 1, figsize=(10, len(cat_headers)*12))\n",
    "for i, column in enumerate(cat_headers[0:]):\n",
    "    to_plot=train_df[column].value_counts().head(10)\n",
    "    plot=sns.barplot(x=to_plot.index, y=to_plot, ax=ax[i])\n",
    "    plot.set_xticklabels(to_plot.index, rotation=90)\n",
    "    plot.set_title(column)\n",
    "    plot.set_ylabel(\"Num of Animals\")\n",
    "fig.show()"
   ]
  },
  {
   "cell_type": "markdown",
   "metadata": {},
   "source": [
    "Overall, we see a large imbalance between the outcome classes, which we will discuss further below in our modeling section. The outomes lean heavily toward Adoption, Transfer, and Return to Owner. There is a smaller portion of Euthanasia outcomes, and a very small number of Died outomes.\n",
    "\n",
    "While the `Outcome Subtype` variable is also missing for many animals, we do not predict based on this variable."
   ]
  },
  {
   "cell_type": "code",
   "execution_count": 8,
   "metadata": {},
   "outputs": [
    {
     "data": {
      "text/html": [
       "<div>\n",
       "<style scoped>\n",
       "    .dataframe tbody tr th:only-of-type {\n",
       "        vertical-align: middle;\n",
       "    }\n",
       "\n",
       "    .dataframe tbody tr th {\n",
       "        vertical-align: top;\n",
       "    }\n",
       "\n",
       "    .dataframe thead th {\n",
       "        text-align: right;\n",
       "    }\n",
       "</style>\n",
       "<table border=\"1\" class=\"dataframe\">\n",
       "  <thead>\n",
       "    <tr style=\"text-align: right;\">\n",
       "      <th></th>\n",
       "      <th>AnimalID</th>\n",
       "      <th>Name</th>\n",
       "      <th>DateTime</th>\n",
       "      <th>OutcomeType</th>\n",
       "      <th>OutcomeSubtype</th>\n",
       "      <th>AnimalType</th>\n",
       "      <th>SexuponOutcome</th>\n",
       "      <th>AgeuponOutcome</th>\n",
       "      <th>Breed</th>\n",
       "      <th>Color</th>\n",
       "    </tr>\n",
       "  </thead>\n",
       "  <tbody>\n",
       "    <tr>\n",
       "      <th>0</th>\n",
       "      <td>A668817</td>\n",
       "      <td>NaN</td>\n",
       "      <td>2013-12-16T14:12:00.000</td>\n",
       "      <td>Adoption</td>\n",
       "      <td>NaN</td>\n",
       "      <td>Dog</td>\n",
       "      <td>Spayed Female</td>\n",
       "      <td>4 years</td>\n",
       "      <td>Miniature Pinscher Mix</td>\n",
       "      <td>Black/Brown</td>\n",
       "    </tr>\n",
       "    <tr>\n",
       "      <th>3</th>\n",
       "      <td>A785454</td>\n",
       "      <td>Cubby</td>\n",
       "      <td>2019-03-18T16:38:00.000</td>\n",
       "      <td>Adoption</td>\n",
       "      <td>NaN</td>\n",
       "      <td>Dog</td>\n",
       "      <td>Spayed Female</td>\n",
       "      <td>5 months</td>\n",
       "      <td>German Shepherd Mix</td>\n",
       "      <td>Black Brindle</td>\n",
       "    </tr>\n",
       "    <tr>\n",
       "      <th>4</th>\n",
       "      <td>A794245</td>\n",
       "      <td>*Moonpie</td>\n",
       "      <td>2019-07-05T11:27:00.000</td>\n",
       "      <td>Adoption</td>\n",
       "      <td>NaN</td>\n",
       "      <td>Cat</td>\n",
       "      <td>Neutered Male</td>\n",
       "      <td>3 months</td>\n",
       "      <td>Domestic Medium Hair Mix</td>\n",
       "      <td>Black/White</td>\n",
       "    </tr>\n",
       "    <tr>\n",
       "      <th>5</th>\n",
       "      <td>A825714</td>\n",
       "      <td>Kuma</td>\n",
       "      <td>2020-11-20T13:57:00.000</td>\n",
       "      <td>Adoption</td>\n",
       "      <td>NaN</td>\n",
       "      <td>Dog</td>\n",
       "      <td>Neutered Male</td>\n",
       "      <td>9 months</td>\n",
       "      <td>Catahoula</td>\n",
       "      <td>Brown Merle/White</td>\n",
       "    </tr>\n",
       "    <tr>\n",
       "      <th>7</th>\n",
       "      <td>A797240</td>\n",
       "      <td>*Garbanzo</td>\n",
       "      <td>2019-06-17T17:10:00.000</td>\n",
       "      <td>Adoption</td>\n",
       "      <td>NaN</td>\n",
       "      <td>Dog</td>\n",
       "      <td>Neutered Male</td>\n",
       "      <td>11 months</td>\n",
       "      <td>Nova Scotia Duck Tolling Retriever</td>\n",
       "      <td>Red</td>\n",
       "    </tr>\n",
       "  </tbody>\n",
       "</table>\n",
       "</div>"
      ],
      "text/plain": [
       "  AnimalID       Name                 DateTime OutcomeType OutcomeSubtype  \\\n",
       "0  A668817        NaN  2013-12-16T14:12:00.000    Adoption            NaN   \n",
       "3  A785454      Cubby  2019-03-18T16:38:00.000    Adoption            NaN   \n",
       "4  A794245   *Moonpie  2019-07-05T11:27:00.000    Adoption            NaN   \n",
       "5  A825714       Kuma  2020-11-20T13:57:00.000    Adoption            NaN   \n",
       "7  A797240  *Garbanzo  2019-06-17T17:10:00.000    Adoption            NaN   \n",
       "\n",
       "  AnimalType SexuponOutcome AgeuponOutcome  \\\n",
       "0        Dog  Spayed Female        4 years   \n",
       "3        Dog  Spayed Female       5 months   \n",
       "4        Cat  Neutered Male       3 months   \n",
       "5        Dog  Neutered Male       9 months   \n",
       "7        Dog  Neutered Male      11 months   \n",
       "\n",
       "                                Breed              Color  \n",
       "0              Miniature Pinscher Mix        Black/Brown  \n",
       "3                 German Shepherd Mix      Black Brindle  \n",
       "4            Domestic Medium Hair Mix        Black/White  \n",
       "5                           Catahoula  Brown Merle/White  \n",
       "7  Nova Scotia Duck Tolling Retriever                Red  "
      ]
     },
     "execution_count": 8,
     "metadata": {},
     "output_type": "execute_result"
    }
   ],
   "source": [
    "train_df_sub = train_df[train_df['OutcomeSubtype'].isnull()]\n",
    "train_df_sub.head()"
   ]
  },
  {
   "cell_type": "markdown",
   "metadata": {},
   "source": [
    "From the data in the table above, we surmise that it is possible the majority of the subtype null data is from the `Return to Owner` or `Adoption` outcome type data. We will examine this further below."
   ]
  },
  {
   "cell_type": "code",
   "execution_count": 9,
   "metadata": {},
   "outputs": [
    {
     "data": {
      "text/html": [
       "<div>\n",
       "<style scoped>\n",
       "    .dataframe tbody tr th:only-of-type {\n",
       "        vertical-align: middle;\n",
       "    }\n",
       "\n",
       "    .dataframe tbody tr th {\n",
       "        vertical-align: top;\n",
       "    }\n",
       "\n",
       "    .dataframe thead th {\n",
       "        text-align: right;\n",
       "    }\n",
       "</style>\n",
       "<table border=\"1\" class=\"dataframe\">\n",
       "  <thead>\n",
       "    <tr style=\"text-align: right;\">\n",
       "      <th></th>\n",
       "      <th>Outcome Types</th>\n",
       "      <th>Count of Null</th>\n",
       "    </tr>\n",
       "  </thead>\n",
       "  <tbody>\n",
       "    <tr>\n",
       "      <th>0</th>\n",
       "      <td>Adoption</td>\n",
       "      <td>34644</td>\n",
       "    </tr>\n",
       "    <tr>\n",
       "      <th>1</th>\n",
       "      <td>Return to Owner</td>\n",
       "      <td>16981</td>\n",
       "    </tr>\n",
       "    <tr>\n",
       "      <th>2</th>\n",
       "      <td>Euthanasia</td>\n",
       "      <td>179</td>\n",
       "    </tr>\n",
       "    <tr>\n",
       "      <th>3</th>\n",
       "      <td>Died</td>\n",
       "      <td>74</td>\n",
       "    </tr>\n",
       "  </tbody>\n",
       "</table>\n",
       "</div>"
      ],
      "text/plain": [
       "     Outcome Types  Count of Null\n",
       "0         Adoption          34644\n",
       "1  Return to Owner          16981\n",
       "2       Euthanasia            179\n",
       "3             Died             74"
      ]
     },
     "execution_count": 9,
     "metadata": {},
     "output_type": "execute_result"
    }
   ],
   "source": [
    "train_df_sub_2 = train_df_sub['OutcomeType'].value_counts().reset_index(name='Count of Null')\n",
    "train_df_sub_2.rename(index=str, columns={\"index\": \"Outcome Types\"})"
   ]
  },
  {
   "cell_type": "markdown",
   "metadata": {},
   "source": [
    "34,777 of the Adoption outcome entries have the outcome subtype as `null`. As we already have outcome subtypes for barn, foster, and offsite within adoption, we feel confident in assuming that these missing subtypes are simply the animals that were adopted. We will assume this is true and fill these null values with `adopted`.\n",
    "\n",
    "As the return-to-owner outcome type also has no subtype, we will make the outcome subtype `return to owner`. It seems that, within the dataset, when the outcome subtype would have been redundant with the outcome type, the outcome subtype was not always listed. Logically, once an animal is adopted or returned to their owner, a shelter feels it does not need further classification or follow up on specific outcomes.\n",
    "\n",
    "For the remaining 23 null outcome subtypes, we will label their subtype as `other`."
   ]
  },
  {
   "cell_type": "code",
   "execution_count": 10,
   "metadata": {},
   "outputs": [],
   "source": [
    "def subtype(x):\n",
    "    if x['OutcomeType'] == 'Adoption' and pd.isnull(x['OutcomeSubtype']) : return 'Adopted'\n",
    "    elif x['OutcomeType'] == 'Return_to_owner' and pd.isnull(x['OutcomeSubtype']): return 'Return to Owner'\n",
    "    elif pd.isnull(x['OutcomeSubtype']) : return 'Other'\n",
    "    else: return x['OutcomeSubtype']\n",
    "\n",
    "train_df['OutcomeSubtype'] = train_df.apply(subtype, axis=1)"
   ]
  },
  {
   "cell_type": "code",
   "execution_count": 11,
   "metadata": {},
   "outputs": [
    {
     "data": {
      "text/html": [
       "<div>\n",
       "<style scoped>\n",
       "    .dataframe tbody tr th:only-of-type {\n",
       "        vertical-align: middle;\n",
       "    }\n",
       "\n",
       "    .dataframe tbody tr th {\n",
       "        vertical-align: top;\n",
       "    }\n",
       "\n",
       "    .dataframe thead th {\n",
       "        text-align: right;\n",
       "    }\n",
       "</style>\n",
       "<table border=\"1\" class=\"dataframe\">\n",
       "  <thead>\n",
       "    <tr style=\"text-align: right;\">\n",
       "      <th></th>\n",
       "      <th>OutcomeType</th>\n",
       "      <th>OutcomeSubtype</th>\n",
       "      <th>Count</th>\n",
       "    </tr>\n",
       "  </thead>\n",
       "  <tbody>\n",
       "    <tr>\n",
       "      <th>0</th>\n",
       "      <td>Adoption</td>\n",
       "      <td>Adopted</td>\n",
       "      <td>34644</td>\n",
       "    </tr>\n",
       "    <tr>\n",
       "      <th>1</th>\n",
       "      <td>Adoption</td>\n",
       "      <td>Foster</td>\n",
       "      <td>8339</td>\n",
       "    </tr>\n",
       "    <tr>\n",
       "      <th>2</th>\n",
       "      <td>Adoption</td>\n",
       "      <td>Offsite</td>\n",
       "      <td>289</td>\n",
       "    </tr>\n",
       "    <tr>\n",
       "      <th>3</th>\n",
       "      <td>Died</td>\n",
       "      <td>At Vet</td>\n",
       "      <td>66</td>\n",
       "    </tr>\n",
       "    <tr>\n",
       "      <th>4</th>\n",
       "      <td>Died</td>\n",
       "      <td>Enroute</td>\n",
       "      <td>67</td>\n",
       "    </tr>\n",
       "    <tr>\n",
       "      <th>5</th>\n",
       "      <td>Died</td>\n",
       "      <td>In Foster</td>\n",
       "      <td>220</td>\n",
       "    </tr>\n",
       "    <tr>\n",
       "      <th>6</th>\n",
       "      <td>Died</td>\n",
       "      <td>In Kennel</td>\n",
       "      <td>447</td>\n",
       "    </tr>\n",
       "    <tr>\n",
       "      <th>7</th>\n",
       "      <td>Died</td>\n",
       "      <td>In Surgery</td>\n",
       "      <td>17</td>\n",
       "    </tr>\n",
       "    <tr>\n",
       "      <th>8</th>\n",
       "      <td>Died</td>\n",
       "      <td>Other</td>\n",
       "      <td>74</td>\n",
       "    </tr>\n",
       "    <tr>\n",
       "      <th>9</th>\n",
       "      <td>Euthanasia</td>\n",
       "      <td>Aggressive</td>\n",
       "      <td>417</td>\n",
       "    </tr>\n",
       "    <tr>\n",
       "      <th>10</th>\n",
       "      <td>Euthanasia</td>\n",
       "      <td>At Vet</td>\n",
       "      <td>116</td>\n",
       "    </tr>\n",
       "    <tr>\n",
       "      <th>11</th>\n",
       "      <td>Euthanasia</td>\n",
       "      <td>Behavior</td>\n",
       "      <td>124</td>\n",
       "    </tr>\n",
       "    <tr>\n",
       "      <th>12</th>\n",
       "      <td>Euthanasia</td>\n",
       "      <td>Court/Investigation</td>\n",
       "      <td>23</td>\n",
       "    </tr>\n",
       "    <tr>\n",
       "      <th>13</th>\n",
       "      <td>Euthanasia</td>\n",
       "      <td>Medical</td>\n",
       "      <td>228</td>\n",
       "    </tr>\n",
       "    <tr>\n",
       "      <th>14</th>\n",
       "      <td>Euthanasia</td>\n",
       "      <td>Other</td>\n",
       "      <td>179</td>\n",
       "    </tr>\n",
       "    <tr>\n",
       "      <th>15</th>\n",
       "      <td>Euthanasia</td>\n",
       "      <td>Rabies Risk</td>\n",
       "      <td>2923</td>\n",
       "    </tr>\n",
       "    <tr>\n",
       "      <th>16</th>\n",
       "      <td>Euthanasia</td>\n",
       "      <td>Suffering</td>\n",
       "      <td>2530</td>\n",
       "    </tr>\n",
       "    <tr>\n",
       "      <th>17</th>\n",
       "      <td>Euthanasia</td>\n",
       "      <td>Underage</td>\n",
       "      <td>28</td>\n",
       "    </tr>\n",
       "    <tr>\n",
       "      <th>18</th>\n",
       "      <td>Return to Owner</td>\n",
       "      <td>At Vet</td>\n",
       "      <td>1</td>\n",
       "    </tr>\n",
       "    <tr>\n",
       "      <th>19</th>\n",
       "      <td>Return to Owner</td>\n",
       "      <td>Customer S</td>\n",
       "      <td>5</td>\n",
       "    </tr>\n",
       "    <tr>\n",
       "      <th>20</th>\n",
       "      <td>Return to Owner</td>\n",
       "      <td>Field</td>\n",
       "      <td>23</td>\n",
       "    </tr>\n",
       "    <tr>\n",
       "      <th>21</th>\n",
       "      <td>Return to Owner</td>\n",
       "      <td>Foster</td>\n",
       "      <td>2</td>\n",
       "    </tr>\n",
       "    <tr>\n",
       "      <th>22</th>\n",
       "      <td>Return to Owner</td>\n",
       "      <td>Other</td>\n",
       "      <td>16981</td>\n",
       "    </tr>\n",
       "    <tr>\n",
       "      <th>23</th>\n",
       "      <td>Return to Owner</td>\n",
       "      <td>Prc</td>\n",
       "      <td>7</td>\n",
       "    </tr>\n",
       "    <tr>\n",
       "      <th>24</th>\n",
       "      <td>Transfer</td>\n",
       "      <td>Barn</td>\n",
       "      <td>7</td>\n",
       "    </tr>\n",
       "    <tr>\n",
       "      <th>25</th>\n",
       "      <td>Transfer</td>\n",
       "      <td>Emer</td>\n",
       "      <td>2</td>\n",
       "    </tr>\n",
       "    <tr>\n",
       "      <th>26</th>\n",
       "      <td>Transfer</td>\n",
       "      <td>Partner</td>\n",
       "      <td>24239</td>\n",
       "    </tr>\n",
       "    <tr>\n",
       "      <th>27</th>\n",
       "      <td>Transfer</td>\n",
       "      <td>SCRP</td>\n",
       "      <td>2580</td>\n",
       "    </tr>\n",
       "    <tr>\n",
       "      <th>28</th>\n",
       "      <td>Transfer</td>\n",
       "      <td>Snr</td>\n",
       "      <td>2113</td>\n",
       "    </tr>\n",
       "  </tbody>\n",
       "</table>\n",
       "</div>"
      ],
      "text/plain": [
       "        OutcomeType       OutcomeSubtype  Count\n",
       "0          Adoption              Adopted  34644\n",
       "1          Adoption               Foster   8339\n",
       "2          Adoption              Offsite    289\n",
       "3              Died               At Vet     66\n",
       "4              Died              Enroute     67\n",
       "5              Died            In Foster    220\n",
       "6              Died            In Kennel    447\n",
       "7              Died           In Surgery     17\n",
       "8              Died                Other     74\n",
       "9        Euthanasia           Aggressive    417\n",
       "10       Euthanasia               At Vet    116\n",
       "11       Euthanasia             Behavior    124\n",
       "12       Euthanasia  Court/Investigation     23\n",
       "13       Euthanasia              Medical    228\n",
       "14       Euthanasia                Other    179\n",
       "15       Euthanasia          Rabies Risk   2923\n",
       "16       Euthanasia            Suffering   2530\n",
       "17       Euthanasia             Underage     28\n",
       "18  Return to Owner               At Vet      1\n",
       "19  Return to Owner           Customer S      5\n",
       "20  Return to Owner                Field     23\n",
       "21  Return to Owner               Foster      2\n",
       "22  Return to Owner                Other  16981\n",
       "23  Return to Owner                  Prc      7\n",
       "24         Transfer                 Barn      7\n",
       "25         Transfer                 Emer      2\n",
       "26         Transfer              Partner  24239\n",
       "27         Transfer                 SCRP   2580\n",
       "28         Transfer                  Snr   2113"
      ]
     },
     "execution_count": 11,
     "metadata": {},
     "output_type": "execute_result"
    }
   ],
   "source": [
    "train_df.groupby(['OutcomeType', 'OutcomeSubtype']).size().reset_index(name='Count')"
   ]
  },
  {
   "cell_type": "markdown",
   "metadata": {},
   "source": [
    "# Feature Review\n",
    "Following the class review, we will now review the specific features themselves. We begin by performing a graphic review of the distribution of values among features in the training set. "
   ]
  },
  {
   "cell_type": "code",
   "execution_count": 12,
   "metadata": {},
   "outputs": [
    {
     "data": {
      "image/png": "[encoded data removed]",
      "text/plain": [
       "<Figure size 720x4320 with 5 Axes>"
      ]
     },
     "metadata": {
      "needs_background": "light"
     },
     "output_type": "display_data"
    }
   ],
   "source": [
    "# Obtain headers.\n",
    "headers = train_df.dtypes.index\n",
    "\n",
    "# Not all of these are categorical variables.  \n",
    "# We need categorical headers and continuous headers, with two different types of plots.\n",
    "\n",
    "# Categorical headers of features.\n",
    "cat_headers = ['Name', 'AnimalType', 'SexuponOutcome', 'Breed', 'Color']\n",
    "\n",
    "# Plot paretos of top 10 values in each column.\n",
    "fig, ax = plt.subplots(len(cat_headers[0:]), 1, figsize=(10, len(cat_headers)*12))\n",
    "for i, column in enumerate(cat_headers[0:]):\n",
    "    to_plot=train_df[column].value_counts().head(10)\n",
    "    plot=sns.barplot(x=to_plot.index, y=to_plot, ax=ax[i])\n",
    "    plot.set_xticklabels(to_plot.index, rotation=90)\n",
    "    plot.set_title(column)\n",
    "    plot.set_ylabel(\"Num of Animals\")\n",
    "fig.show()"
   ]
  },
  {
   "cell_type": "markdown",
   "metadata": {},
   "source": [
    "A breakdown of `Animal Type` shows that there are mainly dogs and cats in the dataset, with dogs accounting for about 60% of cases. The is a quite big portion of Other animals, and a very little quantity of Bird and Livestock types.\n",
    "\n",
    "`Sex Upon Outcome` shows us whether the animal is male or female and whether they were spayed or neutered (fixed) prior to the outcome. There is a roughly even split between male and female animals, an overwhelming majority of which were spayed or neutered upon outcome. There are also a small, but notable, quantity of unknowns. We will look further below at this variable's interaction with animal outcomes.\n",
    "\n",
    "The `Breed` feature is dominated by domestic shorthair cats, which is a catch-all breed label and by far the most common type of cat. There are nearly 25,000 of these. No other breed exceeds 7,000. The most common dog breed is Pitbull Mix.\n",
    "\n",
    "The most common `Color` is Black/White, followed closely by Black. Taken together as predominantly black, these two colors would substantially outweigh any others. Brown Tabby and Brown Tabby/White are the next most common colors, which is interesting, as these are colors that are only attributable to cats. Black/White and Black could be either dogs or cats. The other top colors are evenly distributed."
   ]
  },
  {
   "cell_type": "code",
   "execution_count": 13,
   "metadata": {},
   "outputs": [
    {
     "data": {
      "text/html": [
       "<div>\n",
       "<style scoped>\n",
       "    .dataframe tbody tr th:only-of-type {\n",
       "        vertical-align: middle;\n",
       "    }\n",
       "\n",
       "    .dataframe tbody tr th {\n",
       "        vertical-align: top;\n",
       "    }\n",
       "\n",
       "    .dataframe thead th {\n",
       "        text-align: right;\n",
       "    }\n",
       "</style>\n",
       "<table border=\"1\" class=\"dataframe\">\n",
       "  <thead>\n",
       "    <tr style=\"text-align: right;\">\n",
       "      <th></th>\n",
       "      <th>OutcomeType</th>\n",
       "      <th>SexuponOutcome</th>\n",
       "      <th># of Animals</th>\n",
       "    </tr>\n",
       "  </thead>\n",
       "  <tbody>\n",
       "    <tr>\n",
       "      <th>0</th>\n",
       "      <td>Adoption</td>\n",
       "      <td>Intact Female</td>\n",
       "      <td>902</td>\n",
       "    </tr>\n",
       "    <tr>\n",
       "      <th>1</th>\n",
       "      <td>Adoption</td>\n",
       "      <td>Intact Male</td>\n",
       "      <td>774</td>\n",
       "    </tr>\n",
       "    <tr>\n",
       "      <th>2</th>\n",
       "      <td>Adoption</td>\n",
       "      <td>Neutered Male</td>\n",
       "      <td>21053</td>\n",
       "    </tr>\n",
       "    <tr>\n",
       "      <th>3</th>\n",
       "      <td>Adoption</td>\n",
       "      <td>Spayed Female</td>\n",
       "      <td>20492</td>\n",
       "    </tr>\n",
       "    <tr>\n",
       "      <th>4</th>\n",
       "      <td>Adoption</td>\n",
       "      <td>Unknown</td>\n",
       "      <td>51</td>\n",
       "    </tr>\n",
       "    <tr>\n",
       "      <th>5</th>\n",
       "      <td>Died</td>\n",
       "      <td>Intact Female</td>\n",
       "      <td>226</td>\n",
       "    </tr>\n",
       "    <tr>\n",
       "      <th>6</th>\n",
       "      <td>Died</td>\n",
       "      <td>Intact Male</td>\n",
       "      <td>283</td>\n",
       "    </tr>\n",
       "    <tr>\n",
       "      <th>7</th>\n",
       "      <td>Died</td>\n",
       "      <td>Neutered Male</td>\n",
       "      <td>74</td>\n",
       "    </tr>\n",
       "    <tr>\n",
       "      <th>8</th>\n",
       "      <td>Died</td>\n",
       "      <td>Spayed Female</td>\n",
       "      <td>66</td>\n",
       "    </tr>\n",
       "    <tr>\n",
       "      <th>9</th>\n",
       "      <td>Died</td>\n",
       "      <td>Unknown</td>\n",
       "      <td>242</td>\n",
       "    </tr>\n",
       "    <tr>\n",
       "      <th>10</th>\n",
       "      <td>Euthanasia</td>\n",
       "      <td>Intact Female</td>\n",
       "      <td>792</td>\n",
       "    </tr>\n",
       "    <tr>\n",
       "      <th>11</th>\n",
       "      <td>Euthanasia</td>\n",
       "      <td>Intact Male</td>\n",
       "      <td>958</td>\n",
       "    </tr>\n",
       "    <tr>\n",
       "      <th>12</th>\n",
       "      <td>Euthanasia</td>\n",
       "      <td>Neutered Male</td>\n",
       "      <td>640</td>\n",
       "    </tr>\n",
       "    <tr>\n",
       "      <th>13</th>\n",
       "      <td>Euthanasia</td>\n",
       "      <td>Spayed Female</td>\n",
       "      <td>411</td>\n",
       "    </tr>\n",
       "    <tr>\n",
       "      <th>14</th>\n",
       "      <td>Euthanasia</td>\n",
       "      <td>Unknown</td>\n",
       "      <td>3767</td>\n",
       "    </tr>\n",
       "    <tr>\n",
       "      <th>15</th>\n",
       "      <td>Return to Owner</td>\n",
       "      <td>Intact Female</td>\n",
       "      <td>2028</td>\n",
       "    </tr>\n",
       "    <tr>\n",
       "      <th>16</th>\n",
       "      <td>Return to Owner</td>\n",
       "      <td>Intact Male</td>\n",
       "      <td>2957</td>\n",
       "    </tr>\n",
       "    <tr>\n",
       "      <th>17</th>\n",
       "      <td>Return to Owner</td>\n",
       "      <td>Neutered Male</td>\n",
       "      <td>6881</td>\n",
       "    </tr>\n",
       "    <tr>\n",
       "      <th>18</th>\n",
       "      <td>Return to Owner</td>\n",
       "      <td>Spayed Female</td>\n",
       "      <td>5047</td>\n",
       "    </tr>\n",
       "    <tr>\n",
       "      <th>19</th>\n",
       "      <td>Return to Owner</td>\n",
       "      <td>Unknown</td>\n",
       "      <td>105</td>\n",
       "    </tr>\n",
       "    <tr>\n",
       "      <th>20</th>\n",
       "      <td>Transfer</td>\n",
       "      <td>Intact Female</td>\n",
       "      <td>8138</td>\n",
       "    </tr>\n",
       "    <tr>\n",
       "      <th>21</th>\n",
       "      <td>Transfer</td>\n",
       "      <td>Intact Male</td>\n",
       "      <td>7303</td>\n",
       "    </tr>\n",
       "    <tr>\n",
       "      <th>22</th>\n",
       "      <td>Transfer</td>\n",
       "      <td>Neutered Male</td>\n",
       "      <td>5520</td>\n",
       "    </tr>\n",
       "    <tr>\n",
       "      <th>23</th>\n",
       "      <td>Transfer</td>\n",
       "      <td>Spayed Female</td>\n",
       "      <td>4696</td>\n",
       "    </tr>\n",
       "    <tr>\n",
       "      <th>24</th>\n",
       "      <td>Transfer</td>\n",
       "      <td>Unknown</td>\n",
       "      <td>3284</td>\n",
       "    </tr>\n",
       "  </tbody>\n",
       "</table>\n",
       "</div>"
      ],
      "text/plain": [
       "        OutcomeType SexuponOutcome  # of Animals\n",
       "0          Adoption  Intact Female           902\n",
       "1          Adoption    Intact Male           774\n",
       "2          Adoption  Neutered Male         21053\n",
       "3          Adoption  Spayed Female         20492\n",
       "4          Adoption        Unknown            51\n",
       "5              Died  Intact Female           226\n",
       "6              Died    Intact Male           283\n",
       "7              Died  Neutered Male            74\n",
       "8              Died  Spayed Female            66\n",
       "9              Died        Unknown           242\n",
       "10       Euthanasia  Intact Female           792\n",
       "11       Euthanasia    Intact Male           958\n",
       "12       Euthanasia  Neutered Male           640\n",
       "13       Euthanasia  Spayed Female           411\n",
       "14       Euthanasia        Unknown          3767\n",
       "15  Return to Owner  Intact Female          2028\n",
       "16  Return to Owner    Intact Male          2957\n",
       "17  Return to Owner  Neutered Male          6881\n",
       "18  Return to Owner  Spayed Female          5047\n",
       "19  Return to Owner        Unknown           105\n",
       "20         Transfer  Intact Female          8138\n",
       "21         Transfer    Intact Male          7303\n",
       "22         Transfer  Neutered Male          5520\n",
       "23         Transfer  Spayed Female          4696\n",
       "24         Transfer        Unknown          3284"
      ]
     },
     "execution_count": 13,
     "metadata": {},
     "output_type": "execute_result"
    }
   ],
   "source": [
    "train_df_sex_dropna = train_df.dropna(subset=['SexuponOutcome'])\n",
    "train_df_sex_outcome = train_df_sex_dropna.groupby(['OutcomeType', 'SexuponOutcome']).agg({'AnimalType':'size'}).rename(columns={'AnimalType':'# of Animals'}).reset_index()\n",
    "train_df_sex_outcome"
   ]
  },
  {
   "cell_type": "markdown",
   "metadata": {},
   "source": [
    "Examining the distribution of sexes per outcome illuminates the story better than the earlier graphic representation. More than 40,000 of the adopted animals were spayed or neutered upon adoption. Only 1802 were not. Of the animals that were returned to owners, a large majority had also been spayed or neutered. Among the other category, spayed/neutered/male/female were all evenly distributed. Most of the unknowns are seen in the transfer outcome. We will look to binarize gender and whether an animal was fixed for our analysis below."
   ]
  },
  {
   "cell_type": "markdown",
   "metadata": {},
   "source": [
    "Next, we look into the Age Upon Outcome feature variable. We believed that it is important to make the ages variable continuous, as opposed to categorical, as the relationship of age is continuous in nature. The most logical unit to standardize ages is weeks. Most of the ages are given in weeks, months, or years, all of which easily transform to weeks. Several ages are given in days, but all are 6 days or fewer. We will standardize these as zero weeks so that they are on the same scale as the rest of the data."
   ]
  },
  {
   "cell_type": "code",
   "execution_count": 14,
   "metadata": {},
   "outputs": [],
   "source": [
    "# Map all AgeuponOutcome values to numbers. Mapped to weeks and rounded to the nearest week.\n",
    "train_df['AgeuponOutcome'] = train_df['AgeuponOutcome'].map({'1 week': 1, '1 weeks': 1, '2 weeks': 2, '3 weeks': 3,\n",
    "                                                             '4 weeks': 4, '5 weeks': 5, '1 month': 4, '2 months': 9,\n",
    "                                                             '3 months': 13, '4 months': 17, '5 months': 21, \n",
    "                                                             '6 months': 26, '7 months': 30, '8 months': 34, \n",
    "                                                             '9 months': 38, '10 months': 43, '11 months': 47, \n",
    "                                                             '1 year': 52, '2 years': 204, '3 years': 156,\n",
    "                                                             '4 years': 208, '5 years': 260, '6 years': 312, \n",
    "                                                             '7 years': 364, '8 years': 416, '9 years': 468, \n",
    "                                                             '10 years': 520, '11 years': 572, '12 years': 624, \n",
    "                                                             '13 years': 676, '14 years': 728, '15 years': 780, \n",
    "                                                             '16 years': 832, '17 years': 884, '18 years': 936, \n",
    "                                                             '20 years': 1040, '0 years': 26, '1 day': 0, '2 days': 0,\n",
    "                                                             '3 days': 0, '4 days': 0, '5 days': 0, '6 days': 0})"
   ]
  },
  {
   "cell_type": "code",
   "execution_count": 15,
   "metadata": {},
   "outputs": [
    {
     "data": {
      "image/png": "[encoded data removed]",
      "text/plain": [
       "<Figure size 432x288 with 1 Axes>"
      ]
     },
     "metadata": {
      "needs_background": "light"
     },
     "output_type": "display_data"
    }
   ],
   "source": [
    "train_df_age_dropna = train_df.dropna(subset=['AgeuponOutcome'])\n",
    "\n",
    "plt.hist(train_df_age_dropna['AgeuponOutcome'], bins = 25) \n",
    "\n",
    "plt.title(\"Animal Ages\")\n",
    "plt.xlabel(\"Weeks Old\")\n",
    "plt.ylabel(\"# of Animals\")\n",
    "plt.xticks(np.arange(0, 1000, step=100))\n",
    "\n",
    "# Font size transformations.\n",
    "ax = plt.gca()\n",
    "for item in ([ax.title, ax.xaxis.label, ax.yaxis.label]):\n",
    "    item.set_fontsize(13)\n",
    "\n",
    "plt.grid(False)"
   ]
  },
  {
   "cell_type": "markdown",
   "metadata": {},
   "source": [
    "A substantial portion of the animals in the dataset reached their outcomes at under one year of age (52 weeks). We see sizable numbers of outcomes up to the four-year mark (208 weeks). After four years of age, outcomes drop precipitously."
   ]
  },
  {
   "cell_type": "code",
   "execution_count": 16,
   "metadata": {},
   "outputs": [
    {
     "name": "stdout",
     "output_type": "stream",
     "text": [
      "Examining the ages of younger animals further, 60.62% of animals are under the age of two years old and 66.8% are under the age of three years old.\n"
     ]
    }
   ],
   "source": [
    "train_df_age_dropna_2 = train_df_age_dropna[(train_df_age_dropna.AgeuponOutcome <= 104)]\n",
    "train_df_age_dropna_3 = train_df_age_dropna[(train_df_age_dropna.AgeuponOutcome <= 156)]\n",
    "print(\"Examining the ages of younger animals further, \", round((train_df_age_dropna_2.shape[0] / \n",
    "                                                                train_df_age_dropna.shape[0])*100,2), \n",
    "      \"% of animals are under the age of two years old and \", round((train_df_age_dropna_3.shape[0] / \n",
    "                                                                     train_df_age_dropna.shape[0])*100,2),\n",
    "     \"% are under the age of three years old.\", sep=\"\")"
   ]
  },
  {
   "cell_type": "code",
   "execution_count": 17,
   "metadata": {},
   "outputs": [
    {
     "name": "stdout",
     "output_type": "stream",
     "text": [
      "Avg. Age of Animals Upon Outcome: 124 weeks\n"
     ]
    },
    {
     "data": {
      "text/html": [
       "<div>\n",
       "<style scoped>\n",
       "    .dataframe tbody tr th:only-of-type {\n",
       "        vertical-align: middle;\n",
       "    }\n",
       "\n",
       "    .dataframe tbody tr th {\n",
       "        vertical-align: top;\n",
       "    }\n",
       "\n",
       "    .dataframe thead th {\n",
       "        text-align: right;\n",
       "    }\n",
       "</style>\n",
       "<table border=\"1\" class=\"dataframe\">\n",
       "  <thead>\n",
       "    <tr style=\"text-align: right;\">\n",
       "      <th></th>\n",
       "      <th>OutcomeType</th>\n",
       "      <th># of Animals</th>\n",
       "      <th>Avg. Age Upon Outcome (in Wk)</th>\n",
       "    </tr>\n",
       "  </thead>\n",
       "  <tbody>\n",
       "    <tr>\n",
       "      <th>0</th>\n",
       "      <td>Adoption</td>\n",
       "      <td>43271</td>\n",
       "      <td>99.1</td>\n",
       "    </tr>\n",
       "    <tr>\n",
       "      <th>1</th>\n",
       "      <td>Died</td>\n",
       "      <td>891</td>\n",
       "      <td>86.8</td>\n",
       "    </tr>\n",
       "    <tr>\n",
       "      <th>2</th>\n",
       "      <td>Euthanasia</td>\n",
       "      <td>6560</td>\n",
       "      <td>150.0</td>\n",
       "    </tr>\n",
       "    <tr>\n",
       "      <th>3</th>\n",
       "      <td>Return to Owner</td>\n",
       "      <td>16998</td>\n",
       "      <td>224.1</td>\n",
       "    </tr>\n",
       "    <tr>\n",
       "      <th>4</th>\n",
       "      <td>Transfer</td>\n",
       "      <td>28937</td>\n",
       "      <td>97.0</td>\n",
       "    </tr>\n",
       "  </tbody>\n",
       "</table>\n",
       "</div>"
      ],
      "text/plain": [
       "       OutcomeType  # of Animals  Avg. Age Upon Outcome (in Wk)\n",
       "0         Adoption         43271                           99.1\n",
       "1             Died           891                           86.8\n",
       "2       Euthanasia          6560                          150.0\n",
       "3  Return to Owner         16998                          224.1\n",
       "4         Transfer         28937                           97.0"
      ]
     },
     "execution_count": 17,
     "metadata": {},
     "output_type": "execute_result"
    }
   ],
   "source": [
    "train_df_age_outcome = train_df_age_dropna.groupby('OutcomeType').agg({'AnimalType':'size', \n",
    "                                                                       'AgeuponOutcome':'mean'}).rename(columns={'AnimalType':'# of Animals',\n",
    "                                                                                                                 'AgeuponOutcome':'Avg. Age Upon Outcome (in Wk)'}).reset_index()\n",
    "print(\"Avg. Age of Animals Upon Outcome:\", (round(train_df_age_dropna.AgeuponOutcome.mean())), \"weeks\")\n",
    "\n",
    "train_df_age_outcome.round(1)"
   ]
  },
  {
   "cell_type": "markdown",
   "metadata": {},
   "source": [
    "From the information above, we can see that a more likely outcome for younger animals is to be `Transfer` or `Adoption`, while older animals are more likely to be `returned to their owner` or `euthanized`. While the `Died` outcome has the lowest average age upon outcome, only 0.7% of animals fall into this category. Therefore, we can assume that many of these animals were unhealthy upon birth and died young.\n",
    "\n",
    "The age variable is explicitly defined as the age upon outcome; we do not know the ages of animals when they entered shelters. We also do not know how long animals were at the shelter prior to their outcome, and we have no insights into animals still in shelters."
   ]
  },
  {
   "cell_type": "markdown",
   "metadata": {},
   "source": [
    "Next, we will look at the `DateTime` column to understand a little more about trends over time in the dataset. We will assume that the `DateTime` column references when the outcome of each animal was determined. We will evaluate this information over time by week to group the data."
   ]
  },
  {
   "cell_type": "code",
   "execution_count": 18,
   "metadata": {},
   "outputs": [
    {
     "data": {
      "text/html": [
       "<div>\n",
       "<style scoped>\n",
       "    .dataframe tbody tr th:only-of-type {\n",
       "        vertical-align: middle;\n",
       "    }\n",
       "\n",
       "    .dataframe tbody tr th {\n",
       "        vertical-align: top;\n",
       "    }\n",
       "\n",
       "    .dataframe thead th {\n",
       "        text-align: right;\n",
       "    }\n",
       "</style>\n",
       "<table border=\"1\" class=\"dataframe\">\n",
       "  <thead>\n",
       "    <tr style=\"text-align: right;\">\n",
       "      <th></th>\n",
       "      <th>DateTime</th>\n",
       "      <th>All</th>\n",
       "      <th>Adoption</th>\n",
       "      <th>Transfer</th>\n",
       "      <th>Return_to_owner</th>\n",
       "      <th>Euthanasia</th>\n",
       "      <th>Died</th>\n",
       "    </tr>\n",
       "  </thead>\n",
       "  <tbody>\n",
       "    <tr>\n",
       "      <th>0</th>\n",
       "      <td>2013-09-29</td>\n",
       "      <td>248</td>\n",
       "      <td>90</td>\n",
       "      <td>88</td>\n",
       "      <td>NaN</td>\n",
       "      <td>23</td>\n",
       "      <td>4.0</td>\n",
       "    </tr>\n",
       "    <tr>\n",
       "      <th>1</th>\n",
       "      <td>2013-10-06</td>\n",
       "      <td>342</td>\n",
       "      <td>148</td>\n",
       "      <td>118</td>\n",
       "      <td>NaN</td>\n",
       "      <td>34</td>\n",
       "      <td>1.0</td>\n",
       "    </tr>\n",
       "    <tr>\n",
       "      <th>2</th>\n",
       "      <td>2013-10-13</td>\n",
       "      <td>302</td>\n",
       "      <td>107</td>\n",
       "      <td>135</td>\n",
       "      <td>NaN</td>\n",
       "      <td>26</td>\n",
       "      <td>0.0</td>\n",
       "    </tr>\n",
       "    <tr>\n",
       "      <th>3</th>\n",
       "      <td>2013-10-20</td>\n",
       "      <td>253</td>\n",
       "      <td>86</td>\n",
       "      <td>97</td>\n",
       "      <td>NaN</td>\n",
       "      <td>27</td>\n",
       "      <td>5.0</td>\n",
       "    </tr>\n",
       "    <tr>\n",
       "      <th>4</th>\n",
       "      <td>2013-10-27</td>\n",
       "      <td>260</td>\n",
       "      <td>123</td>\n",
       "      <td>70</td>\n",
       "      <td>NaN</td>\n",
       "      <td>30</td>\n",
       "      <td>1.0</td>\n",
       "    </tr>\n",
       "    <tr>\n",
       "      <th>...</th>\n",
       "      <td>...</td>\n",
       "      <td>...</td>\n",
       "      <td>...</td>\n",
       "      <td>...</td>\n",
       "      <td>...</td>\n",
       "      <td>...</td>\n",
       "      <td>...</td>\n",
       "    </tr>\n",
       "    <tr>\n",
       "      <th>371</th>\n",
       "      <td>2020-11-08</td>\n",
       "      <td>184</td>\n",
       "      <td>78</td>\n",
       "      <td>34</td>\n",
       "      <td>NaN</td>\n",
       "      <td>8</td>\n",
       "      <td>1.0</td>\n",
       "    </tr>\n",
       "    <tr>\n",
       "      <th>372</th>\n",
       "      <td>2020-11-15</td>\n",
       "      <td>133</td>\n",
       "      <td>65</td>\n",
       "      <td>32</td>\n",
       "      <td>NaN</td>\n",
       "      <td>14</td>\n",
       "      <td>1.0</td>\n",
       "    </tr>\n",
       "    <tr>\n",
       "      <th>373</th>\n",
       "      <td>2020-11-22</td>\n",
       "      <td>124</td>\n",
       "      <td>74</td>\n",
       "      <td>18</td>\n",
       "      <td>NaN</td>\n",
       "      <td>12</td>\n",
       "      <td>2.0</td>\n",
       "    </tr>\n",
       "    <tr>\n",
       "      <th>374</th>\n",
       "      <td>2020-11-29</td>\n",
       "      <td>196</td>\n",
       "      <td>99</td>\n",
       "      <td>67</td>\n",
       "      <td>NaN</td>\n",
       "      <td>7</td>\n",
       "      <td>NaN</td>\n",
       "    </tr>\n",
       "    <tr>\n",
       "      <th>375</th>\n",
       "      <td>2020-12-06</td>\n",
       "      <td>53</td>\n",
       "      <td>29</td>\n",
       "      <td>11</td>\n",
       "      <td>NaN</td>\n",
       "      <td>4</td>\n",
       "      <td>NaN</td>\n",
       "    </tr>\n",
       "  </tbody>\n",
       "</table>\n",
       "<p>376 rows × 7 columns</p>\n",
       "</div>"
      ],
      "text/plain": [
       "      DateTime  All  Adoption  Transfer  Return_to_owner  Euthanasia  Died\n",
       "0   2013-09-29  248        90        88              NaN          23   4.0\n",
       "1   2013-10-06  342       148       118              NaN          34   1.0\n",
       "2   2013-10-13  302       107       135              NaN          26   0.0\n",
       "3   2013-10-20  253        86        97              NaN          27   5.0\n",
       "4   2013-10-27  260       123        70              NaN          30   1.0\n",
       "..         ...  ...       ...       ...              ...         ...   ...\n",
       "371 2020-11-08  184        78        34              NaN           8   1.0\n",
       "372 2020-11-15  133        65        32              NaN          14   1.0\n",
       "373 2020-11-22  124        74        18              NaN          12   2.0\n",
       "374 2020-11-29  196        99        67              NaN           7   NaN\n",
       "375 2020-12-06   53        29        11              NaN           4   NaN\n",
       "\n",
       "[376 rows x 7 columns]"
      ]
     },
     "execution_count": 18,
     "metadata": {},
     "output_type": "execute_result"
    }
   ],
   "source": [
    "# Convert our DateTime column to the proper format and then group by week.\n",
    "train_df['DateTime'] = pd.to_datetime(train_df['DateTime']) - pd.to_timedelta(7, unit='d')\n",
    "train_df_time = train_df.groupby([pd.Grouper(key='DateTime', freq='W-SUN')]).size().reset_index().sort_values('DateTime')\n",
    "train_df_time.columns = ['DateTime', 'All']\n",
    "\n",
    "# Filter for the specific outcome types so that we can later look at the differences by outcome type.\n",
    "headers = ['Adoption', 'Transfer', 'Return_to_owner', 'Euthanasia', 'Died']\n",
    "for Outcome in headers:\n",
    "    train_df_outcome = train_df[train_df.OutcomeType == Outcome].groupby([pd.Grouper(key='DateTime', freq='W-SUN')]).size().reset_index().sort_values('DateTime')\n",
    "    train_df_time = pd.merge(train_df_time, train_df_outcome, on='DateTime', how='outer')\n",
    "\n",
    "# Rename the columns to represent each outcome header.\n",
    "train_df_time.columns = ['DateTime', 'All', 'Adoption', 'Transfer', 'Return_to_owner', 'Euthanasia', 'Died']\n",
    "\n",
    "train_df_time"
   ]
  },
  {
   "cell_type": "code",
   "execution_count": 19,
   "metadata": {},
   "outputs": [
    {
     "name": "stderr",
     "output_type": "stream",
     "text": [
      "No handles with labels found to put in legend.\n"
     ]
    },
    {
     "data": {
      "image/png": "[encoded data removed]",
      "text/plain": [
       "<Figure size 1440x576 with 1 Axes>"
      ]
     },
     "metadata": {
      "needs_background": "light"
     },
     "output_type": "display_data"
    }
   ],
   "source": [
    "fig, ax = plt.subplots(figsize=(20, 8))\n",
    "# ax = train_df_time.iloc[1:1, 1:1].plot(ax = ax, x=train_df_time['DateTime'], sort_columns=True, linewidth=3.0)\n",
    "\n",
    "plt.xlabel('Date')\n",
    "plt.ylabel('Outcome Counts')\n",
    "plt.title('Animal Outcomes Over Time')\n",
    "ax.legend()\n",
    "plt.show()"
   ]
  },
  {
   "cell_type": "markdown",
   "metadata": {},
   "source": [
    "From the `DateTime` analysis, we are able to evaluate animal outcomes from Sep 2013 through Dec 2020. We see that most animals are adopted in the summertime, around July and August. Adoption outcomes spike a bit during this time period as well; however, all other outcomes are evenly distributed throughout the time period of analysis."
   ]
  },
  {
   "cell_type": "markdown",
   "metadata": {},
   "source": [
    "# Feature Manipulation and Binarization"
   ]
  },
  {
   "cell_type": "markdown",
   "metadata": {},
   "source": [
    "## Combining Features"
   ]
  },
  {
   "cell_type": "markdown",
   "metadata": {},
   "source": [
    "Before binarizing features, we thought doing some simple feature selection could be a good first start. As the breed type has over 2,300 variations and color has over 500 variations, we will see if combining any like features could make sense."
   ]
  },
  {
   "cell_type": "code",
   "execution_count": 20,
   "metadata": {},
   "outputs": [
    {
     "name": "stdout",
     "output_type": "stream",
     "text": [
      "Number of unique breeds within the dataset: 2322\n"
     ]
    },
    {
     "name": "stdout",
     "output_type": "stream",
     "text": [
      "Abyssinian: 6, Abyssinian Mix: 7, Affenpinscher: 1, Affenpinscher Mix: 7, Afghan Hound Mix: 1, Afghan Hound/German Shepherd: 1, Afghan Hound/Labrador Retriever: 1, Airedale Terrier: 3, Airedale Terrier Mix: 20, Airedale Terrier/Irish Terrier: 1, Airedale Terrier/Labrador Retriever: 1, Airedale Terrier/Miniature Schnauzer: 1, Airedale Terrier/Otterhound: 2, Airedale Terrier/Standard Poodle: 1, Akbash Mix: 5, Akita: 14, Akita Mix: 38, Akita/Australian Cattle Dog: 5, Akita/Belgian Malinois: 2, Akita/Border Collie: 2, Akita/Chow Chow: 1, Akita/German Shepherd: 5, Akita/Great Pyrenees: 1, Akita/Labrador Retriever: 2, Akita/Mastiff: 1, Akita/Pit Bull: 2, Akita/Siberian Husky: 2, Alaskan Husky: 49, Alaskan Husky Mix: 99, Alaskan Husky/Australian Shepherd: 2, Alaskan Husky/Border Collie: 2, Alaskan Husky/Catahoula: 2, Alaskan Husky/Chow Chow: 1, Alaskan Husky/German Shepherd: 21, Alaskan Husky/Labrador Retriever: 8, Alaskan Husky/Miniature Pinscher: 1, Alaskan Malamute: 14, Alaskan Malamute Mix: 21, Alaskan Malamute/Akita: 1, Alaskan Malamute/Alaskan Husky: 3, Alaskan Malamute/Australian Kelpie: 1, Alaskan Malamute/Border Collie: 2, Alaskan Malamute/German Shepherd: 7, Alaskan Malamute/Labrador Retriever: 2, Alaskan Malamute/Siberian Husky: 1, American: 4, American Bulldog: 53, American Bulldog Mix: 364, American Bulldog/American Staffordshire Terrier: 2, American Bulldog/Basset Hound: 3, American Bulldog/Blue Lacy: 1, American Bulldog/Boxer: 6, American Bulldog/Chinese Sharpei: 1, American Bulldog/English Bulldog: 1, American Bulldog/Great Pyrenees: 1, American Bulldog/Labrador Retriever: 10, American Bulldog/Mastiff: 2, American Bulldog/Pit Bull: 21, American Bulldog/Pointer: 2, American Curl Shorthair: 3, American Curl Shorthair Mix: 9, American Curl Shorthair/Siamese: 1, American Eskimo: 10, American Eskimo Mix: 23, American Eskimo/Alaskan Husky: 1, American Eskimo/Australian Shepherd: 1, American Eskimo/Border Collie: 2, American Foxhound: 4, American Foxhound Mix: 21, American Foxhound/Labrador Retriever: 1, American Foxhound/Pointer: 1, American Mix: 6, American Pit Bull Terrier: 80, American Pit Bull Terrier Mix: 231, American Pit Bull Terrier/American Pit Bull Terrier: 2, American Pit Bull Terrier/Basenji: 1, American Pit Bull Terrier/Boxer: 2, American Pit Bull Terrier/Catahoula: 2, American Pit Bull Terrier/Chinese Sharpei: 1, American Pit Bull Terrier/Dachshund: 2, American Pit Bull Terrier/Labrador Retriever: 3, American Pit Bull Terrier/Pit Bull: 2, American Pit Bull Terrier/Pointer: 1, American Pit Bull Terrier/Weimaraner: 1, American Sable: 2, American Shorthair: 40, American Shorthair Mix: 175, American Staffordshire Terrier: 52, American Staffordshire Terrier Mix: 233, American Staffordshire Terrier/American Bulldog: 2, American Staffordshire Terrier/Australian Cattle Dog: 1, American Staffordshire Terrier/Boxer: 2, American Staffordshire Terrier/Catahoula: 1, American Staffordshire Terrier/Chinese Sharpei: 1, American Staffordshire Terrier/French Bulldog: 2, American Staffordshire Terrier/Jack Russell Terrier: 1, American Staffordshire Terrier/Labrador Retriever: 8, American Staffordshire Terrier/Pit Bull: 4, American Staffordshire Terrier/Plott Hound: 1, American Staffordshire Terrier/Rhod Ridgeback: 1, American Staffordshire Terrier/Rottweiler: 1, Anatol Shepherd: 65, Anatol Shepherd Mix: 318, Anatol Shepherd/Akita: 2, Anatol Shepherd/Alaskan Husky: 4, Anatol Shepherd/Australian Cattle Dog: 1, Anatol Shepherd/Australian Shepherd: 1, Anatol Shepherd/Belgian Malinois: 1, Anatol Shepherd/Black Mouth Cur: 1, Anatol Shepherd/Border Collie: 3, Anatol Shepherd/Boxer: 1, Anatol Shepherd/Catahoula: 2, Anatol Shepherd/Chow Chow: 1, Anatol Shepherd/German Shepherd: 15, Anatol Shepherd/German Shorthair Pointer: 2, Anatol Shepherd/Great Pyrenees: 24, Anatol Shepherd/Kangal: 1, Anatol Shepherd/Labrador Retriever: 24, Anatol Shepherd/Mastiff: 2, Anatol Shepherd/Pit Bull: 2, Anatol Shepherd/Redbone Hound: 4, Anatol Shepherd/Siberian Husky: 1, Anatol Shepherd/St. Bernard Smooth Coat: 1, Angora Mix: 10, Angora-English Mix: 2, Angora-French Mix: 3, Angora-Satin: 1, Angora-Satin Mix: 1, Angora/Persian: 1, Armadillo: 3, Armadillo Mix: 5, Australian Cattle Dog: 219, Australian Cattle Dog Mix: 1202, Australian Cattle Dog/Akita: 5, Australian Cattle Dog/Alaskan Husky: 2, Australian Cattle Dog/American Foxhound: 1, Australian Cattle Dog/American Pit Bull Terrier: 2, Australian Cattle Dog/American Staffordshire Terrier: 2, Australian Cattle Dog/Anatol Shepherd: 5, Australian Cattle Dog/Australian Cattle Dog: 3, Australian Cattle Dog/Australian Kelpie: 3, Australian Cattle Dog/Australian Shepherd: 8, Australian Cattle Dog/Basenji: 5, Australian Cattle Dog/Basset Hound: 1, Australian Cattle Dog/Beagle: 14, Australian Cattle Dog/Belgian Malinois: 5, Australian Cattle Dog/Bernese Mountain Dog: 1, Australian Cattle Dog/Black Mouth Cur: 1, Australian Cattle Dog/Bloodhound: 1, Australian Cattle Dog/Border Collie: 18, Australian Cattle Dog/Boston Terrier: 1, Australian Cattle Dog/Boxer: 8, Australian Cattle Dog/Bull Terrier: 4, Australian Cattle Dog/Cairn Terrier: 1, Australian Cattle Dog/Cardigan Welsh Corgi: 6, Australian Cattle Dog/Catahoula: 6, Australian Cattle Dog/Chihuahua Shorthair: 2, Australian Cattle Dog/Chinese Crested: 1, Australian Cattle Dog/Chinese Sharpei: 4, Australian Cattle Dog/Chow Chow: 2, Australian Cattle Dog/Collie Rough: 1, Australian Cattle Dog/Collie Smooth: 2, Australian Cattle Dog/Dachshund: 5, Australian Cattle Dog/Dalmatian: 2, Australian Cattle Dog/Dutch Shepherd: 1, Australian Cattle Dog/English Coonhound: 1, Australian Cattle Dog/German Shepherd: 45, Australian Cattle Dog/German Shorthair Pointer: 3, Australian Cattle Dog/Great Pyrenees: 5, Australian Cattle Dog/Jack Russell Terrier: 5, Australian Cattle Dog/Labrador Retriever: 70, Australian Cattle Dog/Norfolk Terrier: 1, Australian Cattle Dog/Parson Russell Terrier: 2, Australian Cattle Dog/Pembroke Welsh Corgi: 3, Australian Cattle Dog/Pit Bull: 34, Australian Cattle Dog/Plott Hound: 5, Australian Cattle Dog/Pointer: 7, Australian Cattle Dog/Queensland Heeler: 1, Australian Cattle Dog/Rat Terrier: 3, Australian Cattle Dog/Rhod Ridgeback: 1, Australian Cattle Dog/Siberian Husky: 1, Australian Cattle Dog/St. Bernard Smooth Coat: 3, Australian Cattle Dog/Staffordshire: 9, Australian Cattle Dog/Treeing Walker Coonhound: 1, Australian Cattle Dog/Vizsla: 1, Australian Cattle Dog/Whippet: 1, Australian Kelpie: 23, Australian Kelpie Mix: 288, Australian Kelpie/Alaskan Husky: 1, Australian Kelpie/American Pit Bull Terrier: 2, Australian Kelpie/Australian Cattle Dog: 1, Australian Kelpie/Australian Shepherd: 1, Australian Kelpie/Beagle: 3, Australian Kelpie/Blue Lacy: 3, Australian Kelpie/Border Collie: 4, Australian Kelpie/Bull Terrier: 1, Australian Kelpie/Catahoula: 3, Australian Kelpie/Chihuahua Longhair: 1, Australian Kelpie/Chihuahua Shorthair: 1, Australian Kelpie/Chinese Sharpei: 1, Australian Kelpie/Dachshund: 3, Australian Kelpie/Finnish Spitz: 1, Australian Kelpie/German Shepherd: 3, Australian Kelpie/Golden Retriever: 1, Australian Kelpie/Labrador Retriever: 8, Australian Kelpie/Miniature Pinscher: 3, Australian Kelpie/Pit Bull: 5, Australian Kelpie/Plott Hound: 1, Australian Kelpie/Rat Terrier: 3, Australian Kelpie/Shiba Inu: 1, Australian Kelpie/Siberian Husky: 1, Australian Kelpie/Staffordshire: 1, Australian Kelpie/Whippet: 2, Australian Shepherd: 83, Australian Shepherd Mix: 537, Australian Shepherd/Alaskan Malamute: 2, Australian Shepherd/Anatol Shepherd: 6, Australian Shepherd/Australian Cattle Dog: 9, Australian Shepherd/Australian Kelpie: 1, Australian Shepherd/Basset Hound: 3, Australian Shepherd/Border Collie: 12, Australian Shepherd/Boxer: 2, Australian Shepherd/Brittany: 1, Australian Shepherd/Cardigan Welsh Corgi: 5, Australian Shepherd/Catahoula: 3, Australian Shepherd/Cavalier Span: 1, Australian Shepherd/Chihuahua Shorthair: 5, Australian Shepherd/Chow Chow: 6, Australian Shepherd/Cocker Spaniel: 3, Australian Shepherd/Collie Rough: 2, Australian Shepherd/Dalmatian: 1, Australian Shepherd/English Setter: 1, Australian Shepherd/English Springer Spaniel: 1, Australian Shepherd/Field Spaniel: 1, Australian Shepherd/German Shepherd: 14, Australian Shepherd/Golden Retriever: 1, Australian Shepherd/Great Pyrenees: 5, Australian Shepherd/Greyhound: 1, Australian Shepherd/Labrador Retriever: 31, Australian Shepherd/Nova Scotia Duck Tolling Retriever: 2, Australian Shepherd/Parson Russell Terrier: 1, Australian Shepherd/Pembroke Welsh Corgi: 1, Australian Shepherd/Pit Bull: 5, Australian Shepherd/Plott Hound: 4, Australian Shepherd/Queensland Heeler: 1, Australian Shepherd/Rottweiler: 1, Australian Shepherd/Siberian Husky: 1, Australian Shepherd/Staffordshire: 1, Australian Shepherd/Standard Poodle: 1, Australian Shepherd/Unknown: 1, Australian Terrier: 2, Australian Terrier Mix: 16, Australian Terrier/Standard Schnauzer: 1, Balinese: 1, Balinese Mix: 12, Basenji: 6, Basenji Mix: 59, Basenji/Australian Cattle Dog: 3, Basenji/Beagle: 1, Basenji/Carolina Dog: 1, Basenji/Chihuahua Longhair: 1, Basenji/Chihuahua Shorthair: 5, Basenji/Chow Chow: 1, Basenji/Jack Russell Terrier: 2, Basenji/Pit Bull: 2, Basenji/Rhod Ridgeback: 2, Basset Hound: 46, Basset Hound Mix: 129, Basset Hound/American Pit Bull Terrier: 1, Basset Hound/Australian Cattle Dog: 6, Basset Hound/Australian Shepherd: 2, Basset Hound/Beagle: 8, Basset Hound/Beauceron: 1, Basset Hound/Black/Tan Hound: 1, Basset Hound/Blue Lacy: 1, Basset Hound/Border Collie: 3, Basset Hound/Boxer: 4, Basset Hound/Cardigan Welsh Corgi: 1, Basset Hound/Chinese Sharpei: 4, Basset Hound/Dachshund: 2, Basset Hound/English Cocker Spaniel: 1, Basset Hound/French Bulldog: 1, Basset Hound/German Shepherd: 2, Basset Hound/Golden Retriever: 1, Basset Hound/Labrador Retriever: 13, Basset Hound/Pembroke Welsh Corgi: 1, Basset Hound/Pit Bull: 6, Basset Hound/Pointer: 3, Basset Hound/Rat Terrier: 1, Bat: 1074, Bat Mix: 1235, Beagle: 105, Beagle Mix: 438, Beagle/American Foxhound: 1, Beagle/American Staffordshire Terrier: 1, Beagle/Australian Cattle Dog: 8, Beagle/Australian Kelpie: 1, Beagle/Australian Shepherd: 1, Beagle/Basset Hound: 12, Beagle/Black Mouth Cur: 3, Beagle/Border Collie: 1, Beagle/Borzoi: 1, Beagle/Boston Terrier: 1, Beagle/Boxer: 8, Beagle/Cairn Terrier: 1, Beagle/Cardigan Welsh Corgi: 2, Beagle/Catahoula: 5, Beagle/Cavalier Span: 1, Beagle/Chihuahua Shorthair: 27, Beagle/Chinese Sharpei: 1, Beagle/Cocker Spaniel: 2, Beagle/Dachshund: 38, Beagle/Dachshund Longhair: 1, Beagle/English Coonhound: 1, Beagle/German Shepherd: 19, Beagle/German Shorthair Pointer: 1, Beagle/Harrier: 2, Beagle/Jack Russell Terrier: 8, Beagle/Labrador Retriever: 40, Beagle/Manchester Terrier: 1, Beagle/Mastiff: 1, Beagle/Miniature Pinscher: 2, Beagle/Parson Russell Terrier: 2, Beagle/Pekingese: 1, Beagle/Pembroke Welsh Corgi: 1, Beagle/Pit Bull: 5, Beagle/Plott Hound: 1, Beagle/Pointer: 3, Beagle/Pug: 25, Beagle/Queensland Heeler: 3, Beagle/Rat Terrier: 9, Beagle/Standard Poodle: 2, Beagle/Treeing Walker Coonhound: 1, Beagle/Vizsla: 4, Beagle/Whippet: 3, Bearded Collie: 3, Bearded Collie Mix: 9, Bearded Collie/Border Collie: 1, Beauceron: 2, Beauceron Mix: 25, Beauceron/Labrador Retriever: 1, Bedlington Terr Mix: 5, Belgian Hare: 1, Belgian Malinois: 25, Belgian Malinois Mix: 64, Belgian Malinois/Australian Shepherd: 2, Belgian Malinois/Cardigan Welsh Corgi: 2, Belgian Malinois/German Shepherd: 3, Belgian Malinois/Great Pyrenees: 2, Belgian Malinois/Labrador Retriever: 2, Belgian Malinois/Pit Bull: 1, Belgian Malinois/Treeing Cur: 2, Belgian Sheepdog Mix: 3, Belgian Tervuren Mix: 1, Belgian Tervuren/German Shepherd: 2, Bengal: 3, Bengal Mix: 10, Bengal/Domestic Shorthair: 2, Bernese Mountain Dog: 6, Bernese Mountain Dog Mix: 21, Bernese Mountain Dog/Great Pyrenees: 1, Bernese Mountain Dog/Rottweiler: 1, Beveren Mix: 1, Bichon Frise: 17, Bichon Frise Mix: 54, Bichon Frise/Lhasa Apso: 1, Bichon Frise/Miniature Poodle: 4, Bichon Frise/Pekingese: 1, Bichon Frise/Toy Poodle: 1, Birman Mix: 2, Black Mouth Cur: 27, Black Mouth Cur Mix: 290, Black Mouth Cur/American Staffordshire Terrier: 1, Black Mouth Cur/Anatol Shepherd: 2, Black Mouth Cur/Australian Cattle Dog: 1, Black Mouth Cur/Basset Hound: 3, Black Mouth Cur/Beagle: 1, Black Mouth Cur/Blue Lacy: 1, Black Mouth Cur/Boxer: 6, Black Mouth Cur/Catahoula: 4, Black Mouth Cur/Chinese Sharpei: 1, Black Mouth Cur/Chow Chow: 1, Black Mouth Cur/Dachshund: 2, Black Mouth Cur/Doberman Pinsch: 5, Black Mouth Cur/German Shepherd: 8, Black Mouth Cur/Greyhound: 1, Black Mouth Cur/Labrador Retriever: 7, Black Mouth Cur/Mastiff: 2, Black Mouth Cur/Pit Bull: 9, Black Mouth Cur/Plott Hound: 1, Black Mouth Cur/Pointer: 1, Black Mouth Cur/Rhod Ridgeback: 1, Black Mouth Cur/Siberian Husky: 1, Black Mouth Cur/Staffordshire: 1, Black/Tan Hound: 16, Black/Tan Hound Mix: 100, Black/Tan Hound/Beagle: 2, Black/Tan Hound/Black Mouth Cur: 2, Black/Tan Hound/Doberman Pinsch: 1, Black/Tan Hound/German Shepherd: 2, Black/Tan Hound/Great Dane: 1, Black/Tan Hound/Labrador Retriever: 10, Black/Tan Hound/Siberian Husky: 1, Bloodhound: 9, Bloodhound Mix: 25, Bloodhound/German Shepherd: 1, Bloodhound/Great Pyrenees: 1, Bloodhound/Labrador Retriever: 1, Blue Lacy: 19, Blue Lacy Mix: 131, Blue Lacy/American Bulldog: 4, Blue Lacy/Australian Cattle Dog: 1, Blue Lacy/Australian Kelpie: 3, Blue Lacy/Beagle: 3, Blue Lacy/Black Mouth Cur: 2, Blue Lacy/Cardigan Welsh Corgi: 1, Blue Lacy/Collie Smooth: 1, Blue Lacy/Great Dane: 1, Blue Lacy/Labrador Retriever: 3, Blue Lacy/Pit Bull: 10, Blue Lacy/Pointer: 2, Blue Lacy/Weimaraner: 2, Bluetick Hound: 5, Bluetick Hound Mix: 23, Bluetick Hound/Australian Cattle Dog: 1, Bluetick Hound/Australian Kelpie: 1, Bluetick Hound/Chinese Sharpei: 1, Bluetick Hound/Treeing Walker Coonhound: 1, Bobcat Mix: 1, Boerboel: 1, Boerboel Mix: 5, Bombay Mix: 6, Border Collie: 99, Border Collie Mix: 758, Border Collie/Akita: 3, Border Collie/Alaskan Husky: 2, Border Collie/American Eskimo: 1, Border Collie/Anatol Shepherd: 3, Border Collie/Australian Cattle Dog: 20, Border Collie/Australian Kelpie: 1, Border Collie/Australian Shepherd: 11, Border Collie/Basenji: 2, Border Collie/Basset Hound: 1, Border Collie/Beagle: 6, Border Collie/Bernese Mountain Dog: 4, Border Collie/Blue Lacy: 2, Border Collie/Boxer: 2, Border Collie/Bull Terrier: 6, Border Collie/Cardigan Welsh Corgi: 1, Border Collie/Catahoula: 9, Border Collie/Chow Chow: 5, Border Collie/Dachshund: 5, Border Collie/Dalmatian: 1, Border Collie/Doberman Pinsch: 1, Border Collie/English Springer Spaniel: 1, Border Collie/German Shepherd: 26, Border Collie/German Shorthair Pointer: 1, Border Collie/Great Dane: 1, Border Collie/Great Pyrenees: 26, Border Collie/Greyhound: 3, Border Collie/Jack Russell Terrier: 2, Border Collie/Labrador Retriever: 85, Border Collie/Mastiff: 1, Border Collie/Miniature Pinscher: 1, Border Collie/Parson Russell Terrier: 2, Border Collie/Pembroke Welsh Corgi: 3, Border Collie/Pit Bull: 2, Border Collie/Pointer: 3, Border Collie/Pomeranian: 2, Border Collie/Rottweiler: 2, Border Collie/Siberian Husky: 4, Border Collie/Staffordshire: 1, Border Collie/Whippet: 3, Border Terrier: 39, Border Terrier Mix: 160, Border Terrier/Affenpinscher: 1, Border Terrier/Border Collie: 2, Border Terrier/Cardigan Welsh Corgi: 1, Border Terrier/Chihuahua Longhair: 2, Border Terrier/Chihuahua Shorthair: 8, Border Terrier/Dachshund: 3, Border Terrier/Dachshund Wirehair: 1, Border Terrier/Jack Russell Terrier: 1, Border Terrier/Labrador Retriever: 2, Border Terrier/Maltese: 1, Border Terrier/Miniature Poodle: 2, Border Terrier/Miniature Schnauzer: 1, Border Terrier/Pug: 1, Border Terrier/Rat Terrier: 1, Border Terrier/Scottish Terrier: 3, Border Terrier/Shih Tzu: 1, Border Terrier/Soft Coated Wheaten Terrier: 1, Border Terrier/Standard Schnauzer: 1, Border Terrier/Toy Fox Terrier: 3, Border Terrier/Welsh Terrier: 1, Border Terrier/Yorkshire Terrier: 8, Boston Terrier: 51, Boston Terrier Mix: 104, Boston Terrier/Australian Kelpie: 1, Boston Terrier/Beagle: 1, Boston Terrier/Chihuahua Shorthair: 11, Boston Terrier/Dachshund: 3, Boston Terrier/French Bulldog: 2, Boston Terrier/Labrador Retriever: 1, Boston Terrier/Miniature Schnauzer: 1, Boston Terrier/Pembroke Welsh Corgi: 2, Boston Terrier/Pit Bull: 2, Boston Terrier/Pointer: 2, Boston Terrier/Pug: 3, Boston Terrier/Rat Terrier: 1, Bouv Flandres/Otterhound: 1, Boxer: 154, Boxer Mix: 756, Boxer/Akita: 1, Boxer/American Bulldog: 3, Boxer/American Pit Bull Terrier: 1, Boxer/American Staffordshire Terrier: 3, Boxer/Anatol Shepherd: 3, Boxer/Australian Cattle Dog: 8, Boxer/Australian Kelpie: 1, Boxer/Beagle: 13, Boxer/Black Mouth Cur: 3, Boxer/Border Collie: 3, Boxer/Boston Terrier: 1, Boxer/Boxer: 2, Boxer/Bulldog: 1, Boxer/Cardigan Welsh Corgi: 2, Boxer/Catahoula: 7, Boxer/Chinese Sharpei: 9, Boxer/Chow Chow: 2, Boxer/Dachshund: 1, Boxer/Doberman Pinsch: 1, Boxer/Dogue De Bordeaux: 1, Boxer/English Bulldog: 3, Boxer/German Shepherd: 3, Boxer/Great Dane: 3, Boxer/Greyhound: 2, Boxer/Italian Greyhound: 1, Boxer/Jack Russell Terrier: 1, Boxer/Labrador Retriever: 62, Boxer/Mastiff: 2, Boxer/Pit Bull: 68, Boxer/Plott Hound: 3, Boxer/Pointer: 6, Boxer/Pug: 1, Boxer/Queensland Heeler: 2, Boxer/Redbone Hound: 1, Boxer/Rhod Ridgeback: 2, Boxer/Staffordshire: 8, Boxer/Whippet: 2, Boykin Span: 1, Boykin Span Mix: 8, Boykin Span/Cocker Spaniel: 1, Boykin Span/Dachshund: 1, Briard: 1, Britannia Petit Mix: 1, British Shorthair: 2, British Shorthair Mix: 5, Brittany: 9, Brittany Mix: 15, Brittany/Border Collie: 3, Brittany/Chihuahua Shorthair: 1, Brittany/Cocker Spaniel: 1, Brittany/Collie Rough: 1, Brittany/Labrador Retriever: 3, Bruss Griffon: 5, Bruss Griffon Mix: 47, Bruss Griffon/Affenpinscher: 1, Bruss Griffon/Cairn Terrier: 1, Bruss Griffon/Chihuahua Longhair: 1, Bruss Griffon/Chihuahua Shorthair: 3, Bruss Griffon/Dachshund: 2, Bruss Griffon/Maltese: 1, Bruss Griffon/Pug: 2, Bruss Griffon/Yorkshire Terrier: 1, Bull Terrier: 38, Bull Terrier Miniature: 3, Bull Terrier Miniature Mix: 9, Bull Terrier Miniature/Chihuahua Shorthair: 1, Bull Terrier Miniature/Chinese Sharpei: 1, Bull Terrier Mix: 82, Bull Terrier/Australian Kelpie: 1, Bull Terrier/Black Mouth Cur: 1, Bull Terrier/Border Collie: 1, Bull Terrier/Boxer: 2, Bull Terrier/Jack Russell Terrier: 1, Bull Terrier/Pit Bull: 2, Bulldog: 8, Bulldog Mix: 44, Bulldog/Australian Cattle Dog: 1, Bulldog/Boston Terrier: 3, Bulldog/Boxer: 3, Bulldog/Chinese Sharpei: 1, Bulldog/Labrador Retriever: 1, Bulldog/Pit Bull: 2, Bulldog/Staffordshire: 4, Bullmastiff: 9, Bullmastiff Mix: 23, Bullmastiff/Black Mouth Cur: 1, Bullmastiff/Boxer: 1, Burmese: 2, Burmese Mix: 2, Cairn Terrier: 98, Cairn Terrier Mix: 397, Cairn Terrier/Affenpinscher: 1, Cairn Terrier/Bichon Frise: 1, Cairn Terrier/Border Collie: 1, Cairn Terrier/Border Terrier: 1, Cairn Terrier/Cairn Terrier: 1, Cairn Terrier/Cardigan Welsh Corgi: 1, Cairn Terrier/Chihuahua Longhair: 3, Cairn Terrier/Chihuahua Shorthair: 29, Cairn Terrier/Dachshund: 5, Cairn Terrier/Dachshund Wirehair: 4, Cairn Terrier/Italian Greyhound: 2, Cairn Terrier/Miniature Poodle: 5, Cairn Terrier/Miniature Schnauzer: 5, Cairn Terrier/Norfolk Terrier: 1, Cairn Terrier/Scottish Terrier: 1, Cairn Terrier/Shih Tzu: 2, Cairn Terrier/West Highland: 1, Cairn Terrier/Yorkshire Terrier: 12, Californian: 16, Californian Mix: 31, Canaan Dog Mix: 9, Canaan Dog/English Springer Spaniel: 1, Canaan Dog/Redbone Hound: 3, Cane Corso: 5, Cane Corso Mix: 16, Cane Corso/Blue Lacy: 2, Cane Corso/Mastiff: 1, Cardigan Welsh Corgi: 13, Cardigan Welsh Corgi Mix: 121, Cardigan Welsh Corgi/American Eskimo: 2, Cardigan Welsh Corgi/American Staffordshire Terrier: 2, Cardigan Welsh Corgi/Australian Cattle Dog: 7, Cardigan Welsh Corgi/Australian Kelpie: 1, Cardigan Welsh Corgi/Australian Shepherd: 1, Cardigan Welsh Corgi/Beagle: 5, Cardigan Welsh Corgi/Blue Lacy: 1, Cardigan Welsh Corgi/Cairn Terrier: 1, Cardigan Welsh Corgi/Cardigan Welsh Corgi: 1, Cardigan Welsh Corgi/Chihuahua Longhair: 1, Cardigan Welsh Corgi/Chihuahua Shorthair: 17, Cardigan Welsh Corgi/Cocker Spaniel: 3, Cardigan Welsh Corgi/Dachshund: 3, Cardigan Welsh Corgi/English Setter: 1, Cardigan Welsh Corgi/German Shepherd: 4, Cardigan Welsh Corgi/Golden Retriever: 1, Cardigan Welsh Corgi/Jack Russell Terrier: 2, Cardigan Welsh Corgi/Jindo: 1, Cardigan Welsh Corgi/Labrador Retriever: 8, Cardigan Welsh Corgi/Miniature Pinscher: 1, Cardigan Welsh Corgi/Miniature Schnauzer: 1, Cardigan Welsh Corgi/Pit Bull: 1, Cardigan Welsh Corgi/Pointer: 4, Cardigan Welsh Corgi/Pomeranian: 2, Cardigan Welsh Corgi/Rat Terrier: 1, Carolina Dog: 17, Carolina Dog Mix: 70, Carolina Dog/American Pit Bull Terrier: 1, Carolina Dog/Australian Cattle Dog: 1, Carolina Dog/Catahoula: 1, Carolina Dog/Chihuahua Shorthair: 4, Carolina Dog/Labrador Retriever: 1, Carolina Dog/Pit Bull: 3, Catahoula: 60, Catahoula Mix: 540, Catahoula/Akita: 1, Catahoula/Alaskan Husky: 2, Catahoula/American Bulldog: 1, Catahoula/American Pit Bull Terrier: 3, Catahoula/Anatol Shepherd: 2, Catahoula/Australian Cattle Dog: 13, Catahoula/Australian Shepherd: 1, Catahoula/Beagle: 4, Catahoula/Boxer: 2, Catahoula/Bulldog: 2, Catahoula/Cardigan Welsh Corgi: 3, Catahoula/Carolina Dog: 1, Catahoula/Chinese Sharpei: 6, Catahoula/Chow Chow: 1, Catahoula/Doberman Pinsch: 1, Catahoula/English Coonhound: 2, Catahoula/German Shepherd: 8, Catahoula/Great Dane: 5, Catahoula/Greyhound: 1, Catahoula/Harrier: 2, Catahoula/Irish Wolfhound: 1, Catahoula/Jack Russell Terrier: 1, Catahoula/Labrador Retriever: 32, Catahoula/Mastiff: 1, Catahoula/Pit Bull: 14, Catahoula/Plott Hound: 15, Catahoula/Pointer: 5, Catahoula/Rottweiler: 2, Catahoula/Siberian Husky: 3, Catahoula/Staffordshire: 1, Catahoula/Treeing Walker Coonhound: 1, Catahoula/Whippet: 5, Cavalier Span: 14, Cavalier Span Mix: 23, Cavalier Span/Border Collie: 1, Cavalier Span/Chihuahua Longhair: 1, Cavalier Span/Chihuahua Shorthair: 2, Cavalier Span/Papillon: 1, Cavalier Span/Pug: 1, Cavalier Span/Toy Poodle: 1, Chartreux Mix: 1, Chesa Bay Retr: 3, Chesa Bay Retr Mix: 18, Chesa Bay Retr/Australian Cattle Dog: 1, Chesa Bay Retr/Chinese Sharpei: 1, Chesa Bay Retr/Labrador Retriever: 3, Chesa Bay Retr/Pit Bull: 1, Chihuahua Longhair: 60, Chihuahua Longhair Mix: 401, Chihuahua Longhair/Australian Cattle Dog: 1, Chihuahua Longhair/Border Terrier: 1, Chihuahua Longhair/Cairn Terrier: 6, Chihuahua Longhair/Cardigan Welsh Corgi: 2, Chihuahua Longhair/Chihuahua Shorthair: 2, Chihuahua Longhair/Cocker Spaniel: 1, Chihuahua Longhair/Dachshund: 12, Chihuahua Longhair/Dachshund Longhair: 2, Chihuahua Longhair/Dachshund Wirehair: 1, Chihuahua Longhair/Italian Greyhound: 1, Chihuahua Longhair/Jack Russell Terrier: 1, Chihuahua Longhair/Maltese: 2, Chihuahua Longhair/Miniature Poodle: 1, Chihuahua Longhair/Miniature Schnauzer: 1, Chihuahua Longhair/Norfolk Terrier: 3, Chihuahua Longhair/Papillon: 3, Chihuahua Longhair/Pekingese: 2, Chihuahua Longhair/Pomeranian: 10, Chihuahua Longhair/Pug: 2, Chihuahua Longhair/Queensland Heeler: 1, Chihuahua Longhair/Rat Terrier: 6, Chihuahua Longhair/Silky Terrier: 1, Chihuahua Longhair/West Highland: 2, Chihuahua Longhair/Yorkshire Terrier: 3, Chihuahua Shorthair: 773, Chihuahua Shorthair Mix: 4950, Chihuahua Shorthair/Affenpinscher: 1, Chihuahua Shorthair/Australian Cattle Dog: 5, Chihuahua Shorthair/Australian Terrier: 2, Chihuahua Shorthair/Basenji: 2, Chihuahua Shorthair/Basset Hound: 2, Chihuahua Shorthair/Beagle: 25, Chihuahua Shorthair/Border Terrier: 10, Chihuahua Shorthair/Boston Terrier: 15, Chihuahua Shorthair/Boxer: 1, Chihuahua Shorthair/Cairn Terrier: 18, Chihuahua Shorthair/Cardigan Welsh Corgi: 26, Chihuahua Shorthair/Catahoula: 4, Chihuahua Shorthair/Cavalier Span: 1, Chihuahua Shorthair/Chihuahua Shorthair: 1, Chihuahua Shorthair/Chinese Crested: 1, Chihuahua Shorthair/Chinese Sharpei: 2, Chihuahua Shorthair/Cirneco: 1, Chihuahua Shorthair/Cocker Spaniel: 1, Chihuahua Shorthair/Collie Smooth: 1, Chihuahua Shorthair/Dachshund: 275, Chihuahua Shorthair/Dachshund Longhair: 1, Chihuahua Shorthair/Dachshund Wirehair: 10, Chihuahua Shorthair/Doberman Pinsch: 1, Chihuahua Shorthair/Finnish Spitz: 2, Chihuahua Shorthair/French Bulldog: 2, Chihuahua Shorthair/German Shepherd: 4, Chihuahua Shorthair/Italian Greyhound: 13, Chihuahua Shorthair/Jack Russell Terrier: 49, Chihuahua Shorthair/Labrador Retriever: 2, Chihuahua Shorthair/Maltese: 2, Chihuahua Shorthair/Manchester Terrier: 7, Chihuahua Shorthair/Mexican Hairless: 3, Chihuahua Shorthair/Miniature Pinscher: 15, Chihuahua Shorthair/Miniature Poodle: 4, Chihuahua Shorthair/Miniature Schnauzer: 5, Chihuahua Shorthair/Norfolk Terrier: 5, Chihuahua Shorthair/Norwich Terrier: 1, Chihuahua Shorthair/Papillon: 1, Chihuahua Shorthair/Parson Russell Terrier: 3, Chihuahua Shorthair/Pekingese: 3, Chihuahua Shorthair/Pembroke Welsh Corgi: 7, Chihuahua Shorthair/Pit Bull: 6, Chihuahua Shorthair/Pomeranian: 11, Chihuahua Shorthair/Pug: 59, Chihuahua Shorthair/Queensland Heeler: 1, Chihuahua Shorthair/Rat Terrier: 74, Chihuahua Shorthair/Rhod Ridgeback: 1, Chihuahua Shorthair/Rottweiler: 1, Chihuahua Shorthair/Schipperke: 2, Chihuahua Shorthair/Shetland Sheepdog: 1, Chihuahua Shorthair/Shiba Inu: 1, Chihuahua Shorthair/Shih Tzu: 3, Chihuahua Shorthair/Smooth Fox Terrier: 3, Chihuahua Shorthair/Staffordshire: 1, Chihuahua Shorthair/Swedish Vallhund: 6, Chihuahua Shorthair/Toy Fox Terrier: 2, Chihuahua Shorthair/Toy Poodle: 1, Chihuahua Shorthair/Welsh Terrier: 2, Chihuahua Shorthair/Whippet: 5, Chihuahua Shorthair/Wire Hair Fox Terrier: 4, Chihuahua Shorthair/Yorkshire Terrier: 24, Chinchilla: 2, Chinchilla Mix: 5, Chinchilla-Amer: 1, Chinchilla-Stnd Mix: 1, Chinese Crested: 3, Chinese Crested Mix: 10, Chinese Crested/Chihuahua Longhair: 1, Chinese Crested/Chihuahua Shorthair: 2, Chinese Crested/Cocker Spaniel: 1, Chinese Crested/Papillon: 1, Chinese Sharpei: 30, Chinese Sharpei Mix: 107, Chinese Sharpei/American Bulldog: 2, Chinese Sharpei/Australian Cattle Dog: 2, Chinese Sharpei/Basset Hound: 1, Chinese Sharpei/Beagle: 2, Chinese Sharpei/Black Mouth Cur: 2, Chinese Sharpei/Border Collie: 3, Chinese Sharpei/Boxer: 1, Chinese Sharpei/Bull Terrier: 1, Chinese Sharpei/German Shepherd: 1, Chinese Sharpei/Great Dane: 2, Chinese Sharpei/Great Pyrenees: 1, Chinese Sharpei/Labrador Retriever: 22, Chinese Sharpei/Pit Bull: 5, Chinese Sharpei/Pointer: 3, Chinese Sharpei/Rat Terrier: 1, Chinese Sharpei/Rhod Ridgeback: 1, Chinese Sharpei/Rottweiler: 1, Chow Chow: 23, Chow Chow Mix: 144, Chow Chow/American Eskimo: 1, Chow Chow/Anatol Shepherd: 1, Chow Chow/Australian Cattle Dog: 7, Chow Chow/Australian Kelpie: 1, Chow Chow/Basset Hound: 2, Chow Chow/Border Collie: 2, Chow Chow/Cardigan Welsh Corgi: 1, Chow Chow/Chinese Sharpei: 2, Chow Chow/English Cocker Spaniel: 1, Chow Chow/German Shepherd: 11, Chow Chow/Golden Retriever: 5, Chow Chow/Labrador Retriever: 14, Chow Chow/Pekingese: 1, Chow Chow/Pit Bull: 6, Chow Chow/Pomeranian: 1, Chow Chow/Rottweiler: 1, Chow Chow/Siberian Husky: 3, Cinnamon: 2, Cinnamon Mix: 2, Clumber Spaniel: 1, Clumber Spaniel Mix: 1, Clumber Spaniel/American Eskimo: 1, Cocker Spaniel: 67, Cocker Spaniel Mix: 111, Cocker Spaniel/Australian Shepherd: 1, Cocker Spaniel/Australian Terrier: 2, Cocker Spaniel/Basset Hound: 1, Cocker Spaniel/Beagle: 2, Cocker Spaniel/Chihuahua Longhair: 1, Cocker Spaniel/Chihuahua Shorthair: 2, Cocker Spaniel/Dachshund: 7, Cocker Spaniel/Dachshund Longhair: 1, Cocker Spaniel/German Shepherd: 1, Cocker Spaniel/Golden Retriever: 1, Cocker Spaniel/Labrador Retriever: 13, Cocker Spaniel/Miniature Poodle: 14, Cocker Spaniel/Miniature Schnauzer: 1, Cocker Spaniel/Pekingese: 1, Cocker Spaniel/Pembroke Welsh Corgi: 3, Cocker Spaniel/Pomeranian: 1, Cocker Spaniel/Shetland Sheepdog: 1, Cocker Spaniel/Standard Poodle: 1, Cocker Spaniel/Toy Poodle: 1, Cold Water: 7, Cold Water Mix: 6, Collie Rough: 5, Collie Rough Mix: 46, Collie Rough/Anatol Shepherd: 4, Collie Rough/Australian Cattle Dog: 2, Collie Rough/Australian Shepherd: 2, Collie Rough/Chinese Sharpei: 2, Collie Rough/Chow Chow: 1, Collie Rough/German Shepherd: 2, Collie Rough/Golden Retriever: 1, Collie Rough/Great Pyrenees: 3, Collie Rough/Irish Setter: 1, Collie Rough/Keeshond: 1, Collie Rough/Labrador Retriever: 1, Collie Rough/Pembroke Welsh Corgi: 1, Collie Rough/Pointer: 1, Collie Rough/Spanish Water Dog: 4, Collie Smooth: 18, Collie Smooth Mix: 90, Collie Smooth/Australian Kelpie: 1, Collie Smooth/Beagle: 1, Collie Smooth/Boxer: 4, Collie Smooth/Bull Terrier: 1, Collie Smooth/Catahoula: 1, Collie Smooth/Chow Chow: 1, Collie Smooth/German Shepherd: 1, Collie Smooth/Jack Russell Terrier: 1, Collie Smooth/Labrador Retriever: 9, Collie Smooth/Miniature Poodle: 1, Collie Smooth/Siberian Husky: 1, Colorpoint Mix: 3, Cornish Rex: 1, Cornish Rex Mix: 4, Coton De Tulear: 1, Coton De Tulear Mix: 3, Cottontail Mix: 2, Coyote: 9, Coyote Mix: 7, Cymric Mix: 6, Dachshund: 167, Dachshund Longhair: 32, Dachshund Longhair Mix: 100, Dachshund Longhair/Australian Cattle Dog: 1, Dachshund Longhair/Australian Shepherd: 1, Dachshund Longhair/Cairn Terrier: 1, Dachshund Longhair/Cardigan Welsh Corgi: 2, Dachshund Longhair/Chihuahua Longhair: 10, Dachshund Longhair/Chihuahua Shorthair: 8, Dachshund Longhair/Cocker Spaniel: 2, Dachshund Longhair/Golden Retriever: 1, Dachshund Longhair/Maltese: 2, Dachshund Longhair/Miniature Poodle: 1, Dachshund Longhair/Miniature Schnauzer: 3, Dachshund Longhair/Pembroke Welsh Corgi: 1, Dachshund Longhair/Pomeranian: 1, Dachshund Longhair/Rat Terrier: 1, Dachshund Longhair/Siberian Husky: 1, Dachshund Longhair/Tibetan Spaniel: 1, Dachshund Longhair/Toy Poodle: 1, Dachshund Mix: 841, Dachshund Stan Mix: 1, Dachshund Wirehair: 11, Dachshund Wirehair Mix: 89, Dachshund Wirehair/Border Terrier: 6, Dachshund Wirehair/Cairn Terrier: 2, Dachshund Wirehair/Chihuahua Longhair: 1, Dachshund Wirehair/Chihuahua Shorthair: 12, Dachshund Wirehair/Manchester Terrier: 1, Dachshund Wirehair/Miniature Poodle: 10, Dachshund Wirehair/Miniature Schnauzer: 3, Dachshund Wirehair/Norfolk Terrier: 2, Dachshund Wirehair/Pbgv: 1, Dachshund Wirehair/Rat Terrier: 2, Dachshund Wirehair/Shih Tzu: 1, Dachshund Wirehair/Standard Poodle: 1, Dachshund Wirehair/Toy Poodle: 4, Dachshund Wirehair/Yorkshire Terrier: 1, Dachshund/Australian Cattle Dog: 7, Dachshund/Australian Kelpie: 2, Dachshund/Basset Hound: 1, Dachshund/Beagle: 34, Dachshund/Belgian Malinois: 1, Dachshund/Black/Tan Hound: 1, Dachshund/Bloodhound: 3, Dachshund/Blue Lacy: 1, Dachshund/Boston Terrier: 1, Dachshund/Boxer: 1, Dachshund/Bull Terrier: 2, Dachshund/Cardigan Welsh Corgi: 5, Dachshund/Catahoula: 2, Dachshund/Cavalier Span: 1, Dachshund/Chihuahua Longhair: 4, Dachshund/Chihuahua Shorthair: 215, Dachshund/Chinese Sharpei: 1, Dachshund/Dachshund: 1, Dachshund/English Bulldog: 1, Dachshund/English Foxhound: 2, Dachshund/German Pinscher: 1, Dachshund/German Shepherd: 1, Dachshund/Greyhound: 1, Dachshund/Harrier: 2, Dachshund/Havanese: 1, Dachshund/Italian Greyhound: 2, Dachshund/Jack Russell Terrier: 6, Dachshund/Labrador Retriever: 16, Dachshund/Maltese: 1, Dachshund/Manchester Terrier: 8, Dachshund/Miniature Pinscher: 11, Dachshund/Miniature Poodle: 3, Dachshund/Norfolk Terrier: 1, Dachshund/Parson Russell Terrier: 4, Dachshund/Pbgv: 1, Dachshund/Pembroke Welsh Corgi: 2, Dachshund/Pit Bull: 10, Dachshund/Plott Hound: 5, Dachshund/Pomeranian: 1, Dachshund/Pug: 6, Dachshund/Rat Terrier: 18, Dachshund/Shetland Sheepdog: 1, Dachshund/Shih Tzu: 2, Dachshund/Swedish Vallhund: 1, Dachshund/Whippet: 3, Dachshund/Wire Hair Fox Terrier: 1, Dachshund/Yorkshire Terrier: 1, Dalmatian: 6, Dalmatian Mix: 43, Dalmatian/Australian Cattle Dog: 3, Dalmatian/Basset Hound: 1, Dalmatian/Boxer: 1, Dalmatian/Labrador Retriever: 8, Dalmatian/Pit Bull: 6, Dalmatian/Plott Hound: 2, Dalmatian/Pointer: 4, Dalmatian/Staffordshire: 1, Dandie Dinmont: 2, Dandie Dinmont Mix: 3, Dandie Dinmont/Miniature Poodle: 1, Deer Mix: 1, Devon Rex: 2, Devon Rex Mix: 4, Doberman Pinsch: 87, Doberman Pinsch Mix: 135, Doberman Pinsch/Australian Cattle Dog: 2, Doberman Pinsch/Beagle: 3, Doberman Pinsch/Beauceron: 1, Doberman Pinsch/Black Mouth Cur: 2, Doberman Pinsch/Black/Tan Hound: 1, Doberman Pinsch/Border Collie: 1, Doberman Pinsch/Catahoula: 2, Doberman Pinsch/Chihuahua Shorthair: 1, Doberman Pinsch/German Shepherd: 5, Doberman Pinsch/Greyhound: 1, Doberman Pinsch/Labrador Retriever: 7, Doberman Pinsch/Pit Bull: 2, Doberman Pinsch/Vizsla: 1, Dogo Argentino: 3, Dogo Argentino Mix: 25, Dogo Argentino/Boxer: 1, Dogo Argentino/Labrador Retriever: 1, Dogue De Bordeaux: 3, Dogue De Bordeaux Mix: 17, Dogue De Bordeaux/American Bulldog: 1, Domestic Longhair: 187, Domestic Longhair Mix: 1230, Domestic Longhair/Domestic Longhair: 1, Domestic Longhair/Persian: 3, Domestic Longhair/Rex: 1, Domestic Longhair/Russian Blue: 1, Domestic Medium Hair: 604, Domestic Medium Hair Mix: 2531, Domestic Medium Hair/Maine Coon: 2, Domestic Medium Hair/Manx: 1, Domestic Medium Hair/Siamese: 2, Domestic Shorthair: 5158, Domestic Shorthair Mix: 24854, Domestic Shorthair/American Shorthair: 1, Domestic Shorthair/Bengal: 1, Domestic Shorthair/British Shorthair: 1, Domestic Shorthair/Maine Coon: 1, Domestic Shorthair/Manx: 1, Domestic Shorthair/Siamese: 2, Dutch: 2, Dutch Mix: 1, Dutch Sheepdog: 1, Dutch Shepherd: 7, Dutch Shepherd Mix: 34, Dutch Shepherd/Anatol Shepherd: 1, Dutch Shepherd/Australian Kelpie: 1, Dutch Shepherd/Belgian Malinois: 1, Dutch Shepherd/Great Pyrenees: 1, Dutch Shepherd/Labrador Retriever: 2, Dutch Shepherd/Plott Hound: 2, Dutch/Angora-Satin: 1, Dutch/Rabbit Sh: 1, Dwarf Hotot: 1, Eng Toy Spaniel Mix: 1, English Bulldog: 52, English Bulldog Mix: 71, English Bulldog/American Bulldog: 1, English Bulldog/American Staffordshire Terrier: 1, English Bulldog/Australian Cattle Dog: 1, English Bulldog/Beagle: 1, English Bulldog/Boxer: 2, English Bulldog/Cairn Terrier: 1, English Bulldog/Dachshund: 1, English Bulldog/Mastiff: 1, English Bulldog/Pit Bull: 1, English Bulldog/Staffordshire: 1, English Cocker Spaniel: 1, English Cocker Spaniel Mix: 4, English Coonhound: 2, English Coonhound Mix: 24, English Coonhound/Australian Cattle Dog: 1, English Coonhound/Beagle: 1, English Coonhound/Border Collie: 1, English Coonhound/German Shepherd: 4, English Coonhound/Italian Greyhound: 1, English Coonhound/Labrador Retriever: 2, English Foxhound: 2, English Foxhound Mix: 11, English Foxhound/Labrador Retriever: 1, English Foxhound/Smooth Fox Terrier: 1, English Pointer: 4, English Pointer Mix: 23, English Pointer/Boxer: 1, English Pointer/Labrador Retriever: 1, English Setter Mix: 7, English Shepherd: 2, English Shepherd Mix: 10, English Spot: 4, English Spot Mix: 11, English Springer Spaniel: 6, English Springer Spaniel Mix: 14, English Springer Spaniel/Beagle: 1, English Springer Spaniel/Cardigan Welsh Corgi: 1, English Springer Spaniel/Labrador Retriever: 1, Entlebucher/Basset Hound: 1, Exotic Shorthair Mix: 3, Feist Mix: 16, Feist/Beagle: 3, Feist/Chihuahua Shorthair: 1, Ferret: 23, Ferret Mix: 19, Field Spaniel Mix: 10, Field Spaniel/Cocker Spaniel: 2, Finnish Spitz: 6, Finnish Spitz Mix: 22, Finnish Spitz/Australian Shepherd: 1, Finnish Spitz/Cardigan Welsh Corgi: 3, Finnish Spitz/Chow Chow: 2, Finnish Spitz/Dachshund: 1, Finnish Spitz/German Shepherd: 1, Finnish Spitz/Labrador Retriever: 1, Flat Coat Retriever: 2, Flat Coat Retriever Mix: 91, Flat Coat Retriever/Australian Cattle Dog: 1, Flat Coat Retriever/Chow Chow: 1, Flat Coat Retriever/German Shepherd: 2, Flat Coat Retriever/Labrador Retriever: 3, Flat Coat Retriever/Papillon: 5, Flat Coat Retriever/Pit Bull: 3, Flemish Giant: 2, Flemish Giant Mix: 1, Fox: 53, Fox Mix: 51, French Bulldog: 16, French Bulldog Mix: 15, French Bulldog/Chihuahua Shorthair: 2, French Bulldog/Miniature Schnauzer: 1, French Bulldog/Pit Bull: 1, French Bulldog/Pug: 1, Frog: 1, Gerbil: 1, Gerbil Mix: 5, German Pinscher Mix: 5, German Pinscher/Whippet: 1, German Shepherd: 667, German Shepherd Mix: 2322, German Shepherd/Airedale Terrier: 2, German Shepherd/Akita: 3, German Shepherd/Alaskan Husky: 27, German Shepherd/Alaskan Malamute: 6, German Shepherd/Anatol Shepherd: 9, German Shepherd/Australian Cattle Dog: 34, German Shepherd/Australian Kelpie: 12, German Shepherd/Australian Shepherd: 12, German Shepherd/Basenji: 1, German Shepherd/Basset Hound: 1, German Shepherd/Beagle: 2, German Shepherd/Belgian Malinois: 2, German Shepherd/Black Mouth Cur: 11, German Shepherd/Black/Tan Hound: 5, German Shepherd/Border Collie: 11, German Shepherd/Border Terrier: 1, German Shepherd/Boxer: 17, German Shepherd/Bull Terrier: 2, German Shepherd/Cardigan Welsh Corgi: 11, German Shepherd/Carolina Dog: 1, German Shepherd/Catahoula: 13, German Shepherd/Chihuahua Shorthair: 3, German Shepherd/Chinese Sharpei: 8, German Shepherd/Chow Chow: 23, German Shepherd/Collie Rough: 4, German Shepherd/Collie Smooth: 3, German Shepherd/Doberman Pinsch: 10, German Shepherd/English Coonhound: 1, German Shepherd/Finnish Spitz: 1, German Shepherd/German Shepherd: 1, German Shepherd/Golden Retriever: 6, German Shepherd/Great Dane: 2, German Shepherd/Great Pyrenees: 18, German Shepherd/Greyhound: 3, German Shepherd/Ibizan Hound: 2, German Shepherd/Irish Wolfhound: 2, German Shepherd/Labrador Retriever: 200, German Shepherd/Mastiff: 7, German Shepherd/Nova Scotia Duck Tolling Retriever: 4, German Shepherd/Pembroke Welsh Corgi: 4, German Shepherd/Pit Bull: 12, German Shepherd/Plott Hound: 4, German Shepherd/Pointer: 3, German Shepherd/Queensland Heeler: 1, German Shepherd/Redbone Hound: 3, German Shepherd/Rottweiler: 23, German Shepherd/Siberian Husky: 48, German Shepherd/Weimaraner: 1, German Shepherd/Whippet: 2, German Shorthair Pointer: 16, German Shorthair Pointer Mix: 45, German Shorthair Pointer/Australian Cattle Dog: 11, German Shorthair Pointer/Bluetick Hound: 1, German Shorthair Pointer/Brittany: 1, German Wirehaired Pointer: 1, German Wirehaired Pointer Mix: 14, German Wirehaired Pointer/Labrador Retriever: 2, Glen Of Imaal Mix: 11, Glen Of Imaal/Ibizan Hound: 1, Golden Retriever: 41, Golden Retriever Mix: 199, Golden Retriever/Akita: 1, Golden Retriever/Anatol Shepherd: 2, Golden Retriever/Australian Cattle Dog: 1, Golden Retriever/Australian Shepherd: 2, Golden Retriever/Beagle: 3, Golden Retriever/Bearded Collie: 1, Golden Retriever/Border Collie: 4, Golden Retriever/Border Terrier: 1, Golden Retriever/Brittany: 1, Golden Retriever/Chow Chow: 12, Golden Retriever/Cocker Spaniel: 1, Golden Retriever/Collie Rough: 3, Golden Retriever/Dachshund: 1, Golden Retriever/Finnish Spitz: 1, Golden Retriever/German Shepherd: 3, Golden Retriever/Great Pyrenees: 5, Golden Retriever/Irish Setter: 1, Golden Retriever/Labrador Retriever: 26, Golden Retriever/Pembroke Welsh Corgi: 1, Golden Retriever/Siberian Husky: 1, Golden Retriever/Standard Poodle: 4, Golden Retriever/Whippet: 1, Gordon Setter Mix: 2, Grand Basset Griffon Vendeen Mix: 1, Great Dane: 48, Great Dane Mix: 88, Great Dane/Anatol Shepherd: 2, Great Dane/Australian Cattle Dog: 1, Great Dane/Australian Shepherd: 1, Great Dane/Boerboel: 1, Great Dane/Border Collie: 2, Great Dane/Boxer: 3, Great Dane/Catahoula: 1, Great Dane/Doberman Pinsch: 1, Great Dane/German Shepherd: 1, Great Dane/Greyhound: 3, Great Dane/Labrador Retriever: 18, Great Dane/Mastiff: 3, Great Dane/Pit Bull: 5, Great Dane/Pointer: 1, Great Dane/Staffordshire: 1, Great Pyrenees: 156, Great Pyrenees Mix: 455, Great Pyrenees/Alaskan Husky: 1, Great Pyrenees/American Bulldog: 7, Great Pyrenees/Anatol Shepherd: 18, Great Pyrenees/Australian Cattle Dog: 4, Great Pyrenees/Australian Shepherd: 6, Great Pyrenees/Border Collie: 13, Great Pyrenees/Catahoula: 7, Great Pyrenees/Chow Chow: 3, Great Pyrenees/Collie Rough: 1, Great Pyrenees/Dalmatian: 1, Great Pyrenees/English Pointer: 2, Great Pyrenees/English Setter: 1, Great Pyrenees/German Shepherd: 8, Great Pyrenees/Golden Retriever: 7, Great Pyrenees/Great Dane: 1, Great Pyrenees/Kuvasz: 1, Great Pyrenees/Labrador Retriever: 54, Great Pyrenees/Pit Bull: 4, Great Pyrenees/Plott Hound: 1, Great Pyrenees/Pointer: 4, Great Pyrenees/Queensland Heeler: 1, Great Pyrenees/Rat Terrier: 1, Great Pyrenees/Rottweiler: 3, Great Pyrenees/Siberian Husky: 1, Great Pyrenees/St. Bernard Rough Coat: 2, Great Pyrenees/St. Bernard Smooth Coat: 6, Great Pyrenees/Standard Poodle: 3, Greater Swiss Mountain Dog: 1, Greater Swiss Mountain Dog Mix: 5, Greater Swiss Mountain Dog/Pointer: 1, Greyhound: 14, Greyhound Mix: 26, Greyhound/Australian Cattle Dog: 1, Greyhound/Border Collie: 1, Greyhound/Dalmatian: 1, Greyhound/German Shepherd: 1, Greyhound/Great Dane: 1, Greyhound/Labrador Retriever: 6, Greyhound/Pointer: 1, Greyhound/Saluki: 1, Greyhound/Weimaraner: 1, Guinea Pig: 167, Guinea Pig Mix: 123, Hamster: 14, Hamster Mix: 34, Harrier: 8, Harrier Mix: 66, Harrier/Catahoula: 6, Harrier/English Coonhound: 1, Harrier/German Shepherd: 1, Harrier/Great Dane: 1, Harrier/Labrador Retriever: 3, Harrier/Pit Bull: 1, Harrier/Pointer: 1, Havana: 3, Havana Brown: 1, Havana Brown Mix: 3, Havana Mix: 12, Havanese: 6, Havanese Mix: 32, Havanese/Miniature Poodle: 4, Hedgehog: 4, Hermit Crab Mix: 1, Himalayan: 9, Himalayan Mix: 32, Hotot Mix: 2, Hovawart: 1, Hovawart Mix: 1, Hovawart/Flat Coat Retriever: 2, Ibizan Hound: 1, Ibizan Hound Mix: 4, Irish Setter: 1, Irish Setter Mix: 4, Irish Setter/Pit Bull: 4, Irish Terrier: 4, Irish Terrier Mix: 20, Irish Terrier/Basset Hound: 3, Irish Terrier/Border Terrier: 2, Irish Terrier/Irish Wolfhound: 1, Irish Terrier/Labrador Retriever: 1, Irish Wolfhound: 2, Irish Wolfhound Mix: 10, Irish Wolfhound/American Pit Bull Terrier: 1, Irish Wolfhound/Cardigan Welsh Corgi: 1, Irish Wolfhound/German Shepherd: 1, Irish Wolfhound/Great Dane: 1, Irish Wolfhound/Great Pyrenees: 1, Italian Greyhound: 3, Italian Greyhound Mix: 26, Italian Greyhound/Beagle: 1, Italian Greyhound/Cavalier Span: 1, Italian Greyhound/Chihuahua Shorthair: 3, Jack Russell Terrier: 63, Jack Russell Terrier Mix: 443, Jack Russell Terrier/American Staffordshire Terrier: 1, Jack Russell Terrier/Anatol Shepherd: 1, Jack Russell Terrier/Australian Cattle Dog: 12, Jack Russell Terrier/Australian Shepherd: 1, Jack Russell Terrier/Basenji: 3, Jack Russell Terrier/Basset Hound: 2, Jack Russell Terrier/Beagle: 22, Jack Russell Terrier/Border Collie: 4, Jack Russell Terrier/Boston Terrier: 1, Jack Russell Terrier/Brittany: 1, Jack Russell Terrier/Cairn Terrier: 5, Jack Russell Terrier/Cardigan Welsh Corgi: 2, Jack Russell Terrier/Chihuahua Longhair: 1, Jack Russell Terrier/Chihuahua Shorthair: 57, Jack Russell Terrier/Dachshund: 11, Jack Russell Terrier/Dachshund Wirehair: 2, Jack Russell Terrier/Italian Greyhound: 2, Jack Russell Terrier/Labrador Retriever: 8, Jack Russell Terrier/Maltese: 2, Jack Russell Terrier/Manchester Terrier: 1, Jack Russell Terrier/Miniature Poodle: 5, Jack Russell Terrier/Miniature Schnauzer: 1, Jack Russell Terrier/Papillon: 1, Jack Russell Terrier/Pembroke Welsh Corgi: 3, Jack Russell Terrier/Pit Bull: 4, Jack Russell Terrier/Pointer: 1, Jack Russell Terrier/Pug: 2, Jack Russell Terrier/Rat Terrier: 7, Jack Russell Terrier/Shetland Sheepdog: 1, Jack Russell Terrier/Shih Tzu: 3, Jack Russell Terrier/Standard Schnauzer: 1, Jack Russell Terrier/Unknown: 1, Jack Russell Terrier/Welsh Terrier: 2, Jack Russell Terrier/Whippet: 1, Jack Russell Terrier/Yorkshire Terrier: 4, Japanese Bobtail Mix: 8, Japanese Bobtail/American Curl Shorthair: 1, Japanese Chin: 2, Japanese Chin Mix: 8, Javanese Mix: 2, Jindo: 2, Jindo Mix: 7, Jindo/Labrador Retriever: 1, Jindo/Pembroke Welsh Corgi: 2, Jindo/Shiba Inu: 1, Keeshond: 1, Keeshond Mix: 9, Keeshond/Finnish Spitz: 1, Kuvasz Mix: 5, Kuvasz/Labrador Retriever: 1, Labrador Retriever: 817, Labrador Retriever Mix: 5409, Labrador Retriever/Akita: 1, Labrador Retriever/Alaskan Husky: 8, Labrador Retriever/Alaskan Malamute: 1, Labrador Retriever/American Bulldog: 6, Labrador Retriever/American Foxhound: 1, Labrador Retriever/American Pit Bull Terrier: 3, Labrador Retriever/American Staffordshire Terrier: 1, Labrador Retriever/Anatol Shepherd: 22, Labrador Retriever/Australian Cattle Dog: 97, Labrador Retriever/Australian Kelpie: 16, Labrador Retriever/Australian Shepherd: 33, Labrador Retriever/Basenji: 2, Labrador Retriever/Basset Hound: 22, Labrador Retriever/Beagle: 55, Labrador Retriever/Bearded Collie: 7, Labrador Retriever/Beauceron: 2, Labrador Retriever/Belgian Malinois: 1, Labrador Retriever/Bernese Mountain Dog: 1, Labrador Retriever/Black Mouth Cur: 3, Labrador Retriever/Black/Tan Hound: 7, Labrador Retriever/Bloodhound: 2, Labrador Retriever/Blue Lacy: 16, Labrador Retriever/Border Collie: 110, Labrador Retriever/Border Terrier: 1, Labrador Retriever/Boston Terrier: 2, Labrador Retriever/Boxer: 62, Labrador Retriever/Bullmastiff: 1, Labrador Retriever/Cardigan Welsh Corgi: 3, Labrador Retriever/Catahoula: 32, Labrador Retriever/Chesa Bay Retr: 3, Labrador Retriever/Chihuahua Shorthair: 2, Labrador Retriever/Chinese Sharpei: 33, Labrador Retriever/Chow Chow: 40, Labrador Retriever/Cocker Spaniel: 2, Labrador Retriever/Collie Rough: 3, Labrador Retriever/Collie Smooth: 6, Labrador Retriever/Dachshund: 25, Labrador Retriever/Dachshund Wirehair: 3, Labrador Retriever/Dalmatian: 5, Labrador Retriever/Doberman Pinsch: 16, Labrador Retriever/English Bulldog: 1, Labrador Retriever/English Springer Spaniel: 1, Labrador Retriever/Flat Coat Retriever: 6, Labrador Retriever/German Shepherd: 192, Labrador Retriever/German Shorthair Pointer: 1, Labrador Retriever/Golden Retriever: 32, Labrador Retriever/Great Dane: 13, Labrador Retriever/Great Pyrenees: 87, Labrador Retriever/Greyhound: 11, Labrador Retriever/Harrier: 1, Labrador Retriever/Irish Setter: 1, Labrador Retriever/Irish Wolfhound: 1, Labrador Retriever/Italian Greyhound: 1, Labrador Retriever/Jack Russell Terrier: 8, Labrador Retriever/Labrador Retriever: 9, Labrador Retriever/Mastiff: 8, Labrador Retriever/Miniature Poodle: 5, Labrador Retriever/Newfoundland: 3, Labrador Retriever/Patterdale Terr: 1, Labrador Retriever/Pekingese: 1, Labrador Retriever/Pembroke Welsh Corgi: 2, Labrador Retriever/Pharaoh Hound: 1, Labrador Retriever/Pit Bull: 284, Labrador Retriever/Plott Hound: 32, Labrador Retriever/Pointer: 49, Labrador Retriever/Pug: 4, Labrador Retriever/Queensland Heeler: 7, Labrador Retriever/Rat Terrier: 1, Labrador Retriever/Redbone Hound: 6, Labrador Retriever/Rhod Ridgeback: 10, Labrador Retriever/Rottweiler: 33, Labrador Retriever/Shiba Inu: 3, Labrador Retriever/Siberian Husky: 26, Labrador Retriever/Smooth Fox Terrier: 2, Labrador Retriever/St. Bernard Rough Coat: 1, Labrador Retriever/Staffordshire: 9, Labrador Retriever/Standard Poodle: 11, Labrador Retriever/Standard Schnauzer: 3, Labrador Retriever/Treeing Walker Coonhound: 3, Labrador Retriever/Vizsla: 5, Labrador Retriever/Weimaraner: 8, Labrador Retriever/Whippet: 11, Lakeland Terrier Mix: 1, Landseer: 4, Landseer Mix: 14, Landseer/Border Collie: 1, Landseer/Collie Smooth: 1, Landseer/English Setter: 2, Leonberger: 3, Leonberger Mix: 13, Lhasa Apso: 28, Lhasa Apso Mix: 110, Lhasa Apso/Border Terrier: 1, Lhasa Apso/Cairn Terrier: 2, Lhasa Apso/Cocker Spaniel: 1, Lhasa Apso/Dachshund: 1, Lhasa Apso/Havanese: 1, Lhasa Apso/Miniature Poodle: 15, Lhasa Apso/Miniature Schnauzer: 1, Lhasa Apso/Pbgv: 1, Lhasa Apso/Pekingese: 1, Lhasa Apso/Shih Tzu: 5, Lhasa Apso/Standard Poodle: 1, Lhasa Apso/Yorkshire Terrier: 1, Lionhead: 7, Lionhead Mix: 19, Lizard: 3, Lizard Mix: 10, Lop-Amer Fuzzy: 2, Lop-Amer Fuzzy Mix: 2, Lop-English Mix: 12, Lop-Holland: 5, Lop-Holland Mix: 9, Lop-Mini: 4, Lop-Mini Mix: 3, Lop-Mini/Lop-Holland: 2, Lowchen Mix: 1, Lowchen/Miniature Poodle: 1, Lowchen/Yorkshire Terrier: 2, Maine Coon: 19, Maine Coon Mix: 100, Maltese: 65, Maltese Mix: 184, Maltese/Bichon Frise: 1, Maltese/Border Terrier: 1, Maltese/Cocker Spaniel: 1, Maltese/Dachshund: 1, Maltese/Dalmatian: 1, Maltese/Jack Russell Terrier: 2, Maltese/Lhasa Apso: 1, Maltese/Miniature Poodle: 72, Maltese/Papillon: 1, Maltese/Shih Tzu: 2, Maltese/Standard Poodle: 1, Maltese/Toy Poodle: 13, Maltese/Wirehaired Pointing Griffon: 1, Maltese/Yorkshire: 1, Maltese/Yorkshire Terrier: 11, Manchester Terrier: 3, Manchester Terrier Mix: 98, Manchester Terrier/Australian Kelpie: 1, Manchester Terrier/Basenji: 1, Manchester Terrier/Beagle: 6, Manchester Terrier/Chihuahua Longhair: 1, Manchester Terrier/Chihuahua Shorthair: 8, Manchester Terrier/Dachshund: 5, Manchester Terrier/Jack Russell Terrier: 3, Manchester Terrier/Labrador Retriever: 2, Manchester Terrier/Miniature Pinscher: 1, Manchester Terrier/Norfolk Terrier: 3, Manchester Terrier/Pembroke Welsh Corgi: 2, Manx: 9, Manx Mix: 89, Manx/Domestic Longhair: 2, Manx/Domestic Medium Hair: 3, Manx/Domestic Shorthair: 3, Mastiff: 24, Mastiff Mix: 107, Mastiff/American Pit Bull Terrier: 2, Mastiff/Anatol Shepherd: 1, Mastiff/Black Mouth Cur: 2, Mastiff/Bloodhound: 1, Mastiff/Boxer: 4, Mastiff/Cane Corso: 1, Mastiff/Chinese Sharpei: 4, Mastiff/Dutch Shepherd: 1, Mastiff/German Shepherd: 1, Mastiff/Great Dane: 2, Mastiff/Labrador Retriever: 4, Mastiff/Pit Bull: 9, Mastiff/Plott Hound: 1, Mastiff/Rottweiler: 5, Mastiff/Staffordshire: 1, Mexican Hairless: 2, Mexican Hairless Mix: 6, Mexican Hairless/Chihuahua Shorthair: 1, Miniature Pinscher: 61, Miniature Pinscher Mix: 167, Miniature Pinscher/Australian Cattle Dog: 3, Miniature Pinscher/Chihuahua Shorthair: 20, Miniature Pinscher/Dachshund: 7, Miniature Pinscher/Dachshund Wirehair: 1, Miniature Pinscher/Maltese: 1, Miniature Pinscher/Pug: 3, Miniature Pinscher/Smooth Fox Terrier: 1, Miniature Pinscher/Whippet: 2, Miniature Poodle: 109, Miniature Poodle Mix: 675, Miniature Poodle/American Eskimo: 1, Miniature Poodle/Australian Cattle Dog: 1, Miniature Poodle/Australian Shepherd: 1, Miniature Poodle/Beagle: 1, Miniature Poodle/Bichon Frise: 9, Miniature Poodle/Cairn Terrier: 5, Miniature Poodle/Cavalier Span: 1, Miniature Poodle/Chihuahua Longhair: 1, Miniature Poodle/Chihuahua Shorthair: 5, Miniature Poodle/Cocker Spaniel: 12, Miniature Poodle/Dachshund: 8, Miniature Poodle/English Cocker Spaniel: 1, Miniature Poodle/Golden Retriever: 2, Miniature Poodle/Havanese: 2, Miniature Poodle/Italian Greyhound: 1, Miniature Poodle/Labrador Retriever: 3, Miniature Poodle/Lhasa Apso: 15, Miniature Poodle/Maltese: 26, Miniature Poodle/Miniature Schnauzer: 31, Miniature Poodle/Pomeranian: 1, Miniature Poodle/Scottish Terrier: 1, Miniature Poodle/Shih Tzu: 6, Miniature Poodle/West Highland: 1, Miniature Poodle/Yorkshire Terrier: 7, Miniature Schnauzer: 96, Miniature Schnauzer Mix: 470, Miniature Schnauzer/Australian Cattle Dog: 2, Miniature Schnauzer/Beagle: 4, Miniature Schnauzer/Border Collie: 1, Miniature Schnauzer/Cairn Terrier: 6, Miniature Schnauzer/Chihuahua Longhair: 2, Miniature Schnauzer/Chihuahua Shorthair: 10, Miniature Schnauzer/Cocker Spaniel: 2, Miniature Schnauzer/Dachshund: 5, Miniature Schnauzer/Dachshund Longhair: 2, Miniature Schnauzer/Dachshund Wirehair: 2, Miniature Schnauzer/Jack Russell Terrier: 2, Miniature Schnauzer/Labrador Retriever: 2, Miniature Schnauzer/Lhasa Apso: 1, Miniature Schnauzer/Maltese: 3, Miniature Schnauzer/Miniature Poodle: 72, Miniature Schnauzer/Queensland Heeler: 1, Miniature Schnauzer/Scottish Terrier: 1, Miniature Schnauzer/Shih Tzu: 2, Miniature Schnauzer/Soft Coated Wheaten Terrier: 1, Miniature Schnauzer/Toy Poodle: 3, Miniature Schnauzer/Whippet: 1, Miniature Schnauzer/Wire Hair Fox Terrier: 1, Miniature Schnauzer/Yorkshire Terrier: 20, Mouse: 1, Mouse Mix: 7, Munchkin Longhair Mix: 2, Munchkin Shorthair Mix: 3, Neapolitan Mastiff: 3, Neapolitan Mastiff Mix: 7, Neapolitan Mastiff/Pit Bull: 1, Netherlnd Dwarf: 6, Netherlnd Dwarf Mix: 5, New Zealand Wht: 4, New Zealand Wht Mix: 5, Newfoundland: 1, Newfoundland Mix: 9, Newfoundland/Australian Cattle Dog: 1, Newfoundland/Border Collie: 1, Newfoundland/Great Pyrenees: 2, Newfoundland/Labrador Retriever: 2, Norfolk Terrier: 14, Norfolk Terrier Mix: 79, Norfolk Terrier/Border Terrier: 1, Norfolk Terrier/Bruss Griffon: 1, Norfolk Terrier/Cairn Terrier: 1, Norfolk Terrier/Cardigan Welsh Corgi: 1, Norfolk Terrier/Chihuahua Shorthair: 18, Norfolk Terrier/Dachshund: 1, Norfolk Terrier/Dachshund Wirehair: 1, Norfolk Terrier/German Shepherd: 1, Norfolk Terrier/Lhasa Apso: 1, Norfolk Terrier/Miniature Poodle: 1, Norfolk Terrier/Pug: 1, Norfolk Terrier/Standard Poodle: 1, Norfolk Terrier/Yorkshire Terrier: 5, Norwegian Elkhound Mix: 1, Norwegian Elkhound/Alaskan Husky: 1, Norwegian Forest Cat Mix: 3, Norwich Terrier: 9, Norwich Terrier Mix: 49, Norwich Terrier/Australian Cattle Dog: 1, Norwich Terrier/Bichon Frise: 1, Norwich Terrier/Border Terrier: 1, Norwich Terrier/Cairn Terrier: 2, Norwich Terrier/Chihuahua Longhair: 1, Norwich Terrier/Chihuahua Shorthair: 1, Norwich Terrier/Pug: 1, Norwich Terrier/Yorkshire Terrier: 4, Nova Scotia Duck Tolling Retriever: 4, Nova Scotia Duck Tolling Retriever Mix: 4, Ocicat Mix: 1, Old English Bulldog: 7, Old English Bulldog Mix: 10, Old English Sheepdog: 3, Old English Sheepdog Mix: 4, Opossum: 121, Opossum Mix: 154, Oriental Sh: 1, Oriental Sh Mix: 2, Otter: 1, Otter Mix: 1, Otterhound Mix: 5, Papillon: 6, Papillon Mix: 46, Papillon/Australian Cattle Dog: 1, Papillon/Brittany: 1, Papillon/Chihuahua Longhair: 1, Papillon/Chihuahua Shorthair: 2, Papillon/Dachshund: 2, Papillon/Miniature Poodle: 2, Papillon/Pembroke Welsh Corgi: 1, Papillon/Shih Tzu: 1, Papillon/Skye Terrier: 1, Parson Russell Terrier: 12, Parson Russell Terrier Mix: 35, Parson Russell Terrier/Beagle: 4, Parson Russell Terrier/Chihuahua Shorthair: 3, Patterdale Terr Mix: 12, Patterdale Terr/Chihuahua Shorthair: 1, Patterdale Terr/Labrador Retriever: 1, Pbgv: 11, Pbgv Mix: 42, Pbgv/Jack Russell Terrier: 2, Pbgv/Pit Bull: 1, Pekingese: 33, Pekingese Mix: 75, Pekingese/Boston Terrier: 1, Pekingese/Cardigan Welsh Corgi: 1, Pekingese/Catahoula: 1, Pekingese/Cavalier Span: 1, Pekingese/Chihuahua Shorthair: 2, Pekingese/Jack Russell Terrier: 2, Pekingese/Lhasa Apso: 1, Pekingese/Maltese: 1, Pekingese/Miniature Poodle: 3, Pekingese/Norfolk Terrier: 1, Pekingese/Pomeranian: 2, Pekingese/Pug: 1, Pekingese/Shih Tzu: 3, Pekingese/Tibetan Terrier: 1, Pekingese/Toy Poodle: 1, Pembroke Welsh Corgi: 13, Pembroke Welsh Corgi Mix: 60, Pembroke Welsh Corgi/Anatol Shepherd: 1, Pembroke Welsh Corgi/Australian Cattle Dog: 1, Pembroke Welsh Corgi/Australian Shepherd: 1, Pembroke Welsh Corgi/Brittany: 1, Pembroke Welsh Corgi/Chihuahua Longhair: 1, Pembroke Welsh Corgi/Chihuahua Shorthair: 7, Pembroke Welsh Corgi/Collie Smooth: 1, Pembroke Welsh Corgi/Dachshund: 1, Pembroke Welsh Corgi/German Shepherd: 2, Pembroke Welsh Corgi/Golden Retriever: 1, Pembroke Welsh Corgi/Labrador Retriever: 2, Pembroke Welsh Corgi/Pit Bull: 1, Persian: 10, Persian Mix: 17, Pharaoh Hound: 10, Pharaoh Hound Mix: 31, Pharaoh Hound/Black Mouth Cur: 4, Pharaoh Hound/Border Collie: 1, Pharaoh Hound/Boxer: 2, Picardy Sheepdog: 2, Picardy Sheepdog Mix: 8, Pit Bull: 906, Pit Bull Mix: 6718, Pit Bull/Alaskan Husky: 3, Pit Bull/American Bulldog: 3, Pit Bull/American Foxhound: 1, Pit Bull/Australian Cattle Dog: 32, Pit Bull/Australian Kelpie: 1, Pit Bull/Basset Hound: 7, Pit Bull/Beagle: 4, Pit Bull/Belgian Malinois: 1, Pit Bull/Black Mouth Cur: 4, Pit Bull/Blue Lacy: 4, Pit Bull/Border Collie: 12, Pit Bull/Border Terrier: 1, Pit Bull/Boston Terrier: 7, Pit Bull/Boxer: 69, Pit Bull/Bull Terrier: 3, Pit Bull/Bulldog: 5, Pit Bull/Carolina Dog: 2, Pit Bull/Catahoula: 27, Pit Bull/Chihuahua Shorthair: 10, Pit Bull/Chinese Sharpei: 30, Pit Bull/Chow Chow: 5, Pit Bull/Dachshund: 5, Pit Bull/Dalmatian: 6, Pit Bull/Doberman Pinsch: 1, Pit Bull/Dogue De Bordeaux: 1, Pit Bull/English Bulldog: 3, Pit Bull/Flat Coat Retriever: 2, Pit Bull/French Bulldog: 2, Pit Bull/German Shepherd: 17, Pit Bull/Jack Russell Terrier: 2, Pit Bull/Jindo: 1, Pit Bull/Labrador Retriever: 144, Pit Bull/Mastiff: 4, Pit Bull/Pharaoh Hound: 1, Pit Bull/Pit Bull: 2, Pit Bull/Plott Hound: 7, Pit Bull/Pointer: 21, Pit Bull/Pug: 2, Pit Bull/Queensland Heeler: 2, Pit Bull/Rat Terrier: 3, Pit Bull/Rhod Ridgeback: 1, Pit Bull/Rottweiler: 5, Pit Bull/Siberian Husky: 1, Pit Bull/St. Bernard Smooth Coat: 1, Pit Bull/Vizsla: 1, Pit Bull/Weimaraner: 7, Pixiebob Shorthair Mix: 3, Plott Hound: 25, Plott Hound Mix: 330, Plott Hound/Australian Cattle Dog: 5, Plott Hound/Beagle: 1, Plott Hound/Black/Tan Hound: 1, Plott Hound/Blue Lacy: 2, Plott Hound/Border Collie: 1, Plott Hound/Boxer: 3, Plott Hound/Bull Terrier: 1, Plott Hound/Dachshund: 1, Plott Hound/German Shepherd: 2, Plott Hound/Great Pyrenees: 1, Plott Hound/Labrador Retriever: 32, Plott Hound/Mastiff: 2, Plott Hound/Pit Bull: 4, Plott Hound/Rhod Ridgeback: 1, Plott Hound/Rottweiler: 1, Plott Hound/Whippet: 1, Podengo Pequeno Mix: 5, Pointer: 66, Pointer Mix: 431, Pointer/American Bulldog: 2, Pointer/American Pit Bull Terrier: 4, Pointer/Anatol Shepherd: 1, Pointer/Australian Cattle Dog: 12, Pointer/Australian Kelpie: 1, Pointer/Australian Shepherd: 1, Pointer/Basenji: 2, Pointer/Basset Hound: 1, Pointer/Beagle: 8, Pointer/Border Collie: 8, Pointer/Boston Terrier: 1, Pointer/Boxer: 8, Pointer/Brittany: 1, Pointer/Bull Terrier: 1, Pointer/Catahoula: 7, Pointer/Chihuahua Longhair: 4, Pointer/Chinese Sharpei: 2, Pointer/Collie Smooth: 2, Pointer/Dalmatian: 3, Pointer/German Shorthair Pointer: 1, Pointer/German Wirehaired Pointer: 3, Pointer/Great Dane: 2, Pointer/Great Pyrenees: 1, Pointer/Harrier: 1, Pointer/Ibizan Hound: 1, Pointer/Jack Russell Terrier: 2, Pointer/Labrador Retriever: 44, Pointer/Pit Bull: 31, Pointer/Plott Hound: 1, Pointer/Rhod Ridgeback: 1, Pointer/Staffordshire: 2, Polish: 2, Polish Mix: 1, Pomeranian: 43, Pomeranian Mix: 126, Pomeranian/American Eskimo: 1, Pomeranian/Beagle: 2, Pomeranian/Border Terrier: 1, Pomeranian/Cairn Terrier: 1, Pomeranian/Chihuahua Longhair: 12, Pomeranian/Chihuahua Shorthair: 5, Pomeranian/Cocker Spaniel: 1, Pomeranian/Jack Russell Terrier: 1, Pomeranian/Schipperke: 1, Pomeranian/Shetland Sheepdog: 2, Port Water Dog: 2, Port Water Dog Mix: 1, Prairie Dog Mix: 1, Presa Canario: 2, Presa Canario Mix: 7, Pug: 80, Pug Mix: 114, Pug/Beagle: 45, Pug/Border Terrier: 2, Pug/Boston Terrier: 1, Pug/Boxer: 1, Pug/Cairn Terrier: 1, Pug/Chihuahua Longhair: 2, Pug/Chihuahua Shorthair: 30, Pug/Cocker Spaniel: 1, Pug/Dachshund: 1, Pug/French Bulldog: 2, Pug/Italian Greyhound: 2, Pug/Labrador Retriever: 6, Pug/Miniature Pinscher: 1, Pug/Miniature Schnauzer: 1, Pug/Pekingese: 2, Pug/Pit Bull: 1, Pug/Pomeranian: 1, Pug/Schipperke: 1, Pug/Staffordshire: 2, Queensland Heeler: 23, Queensland Heeler Mix: 131, Queensland Heeler/Australian Cattle Dog: 1, Queensland Heeler/Chihuahua Shorthair: 4, Queensland Heeler/Dachshund: 1, Queensland Heeler/Entlebucher: 2, Queensland Heeler/German Shepherd: 1, Queensland Heeler/Great Pyrenees: 2, Queensland Heeler/Labrador Retriever: 2, Queensland Heeler/Pit Bull: 5, Queensland Heeler/Pointer: 2, Queensland Heeler/Shetland Sheepdog: 1, Rabbit Lh: 5, Rabbit Lh Mix: 12, Rabbit Sh: 79, Rabbit Sh Mix: 268, Rabbit Sh/Lop-Mini: 1, Raccoon: 298, Raccoon Mix: 413, Ragdoll: 4, Ragdoll Mix: 37, Ragdoll/Munchkin Longhair: 2, Ragdoll/Snowshoe: 1, Rat: 32, Rat Mix: 57, Rat Terrier: 72, Rat Terrier Mix: 487, Rat Terrier/American Pit Bull Terrier: 1, Rat Terrier/Australian Cattle Dog: 2, Rat Terrier/Basenji: 1, Rat Terrier/Beagle: 4, Rat Terrier/Boston Terrier: 5, Rat Terrier/Cardigan Welsh Corgi: 2, Rat Terrier/Chihuahua Longhair: 4, Rat Terrier/Chihuahua Shorthair: 68, Rat Terrier/Dachshund: 5, Rat Terrier/Jack Russell Terrier: 2, Rat Terrier/Labrador Retriever: 5, Rat Terrier/Miniature Pinscher: 1, Rat Terrier/Miniature Poodle: 2, Rat Terrier/Pekingese: 1, Rat Terrier/Pembroke Welsh Corgi: 1, Rat Terrier/Pit Bull: 1, Rat Terrier/Pointer: 1, Rat Terrier/Queensland Heeler: 1, Rat Terrier/Smooth Fox Terrier: 1, Redbone Hound: 10, Redbone Hound Mix: 69, Redbone Hound/Anatol Shepherd: 1, Redbone Hound/Australian Cattle Dog: 1, Redbone Hound/Catahoula: 1, Redbone Hound/Dachshund: 1, Redbone Hound/Labrador Retriever: 7, Redbone Hound/Redbone Hound: 1, Redbone Hound/Rhod Ridgeback: 2, Rex: 2, Rex Mix: 16, Rex-Mini: 1, Rex-Mini/Lop-English: 1, Rex/Lop-English: 1, Rhinelander Mix: 1, Rhod Ridgeback: 14, Rhod Ridgeback Mix: 81, Rhod Ridgeback/Australian Cattle Dog: 1, Rhod Ridgeback/Boxer: 2, Rhod Ridgeback/Bullmastiff: 1, Rhod Ridgeback/Chow Chow: 1, Rhod Ridgeback/German Shepherd: 4, Rhod Ridgeback/Great Dane: 5, Rhod Ridgeback/Harrier: 1, Rhod Ridgeback/Labrador Retriever: 16, Rhod Ridgeback/Mastiff: 1, Rhod Ridgeback/Pit Bull: 2, Rhod Ridgeback/Plott Hound: 1, Rhod Ridgeback/Pointer: 1, Rhod Ridgeback/Redbone Hound: 1, Rhod Ridgeback/Vizsla: 1, Ringtail Mix: 2, Rottweiler: 142, Rottweiler Mix: 333, Rottweiler/Australian Cattle Dog: 5, Rottweiler/Australian Kelpie: 1, Rottweiler/Australian Shepherd: 3, Rottweiler/Beagle: 2, Rottweiler/Blue Lacy: 1, Rottweiler/Boxer: 1, Rottweiler/Chinese Sharpei: 1, Rottweiler/Chow Chow: 4, Rottweiler/Dachshund: 1, Rottweiler/Doberman Pinsch: 1, Rottweiler/English Bulldog: 1, Rottweiler/English Coonhound: 1, Rottweiler/German Shepherd: 18, Rottweiler/Great Pyrenees: 1, Rottweiler/Labrador Retriever: 32, Rottweiler/Pit Bull: 5, Rottweiler/Plott Hound: 4, Rottweiler/Rhod Ridgeback: 1, Rottweiler/Siberian Husky: 5, Rottweiler/Staffordshire: 1, Russian Blue: 17, Russian Blue Mix: 66, Saluki: 4, Saluki Mix: 7, Saluki/Doberman Pinsch: 1, Saluki/Labrador Retriever: 1, Samoyed: 3, Samoyed Mix: 9, Schipperke Mix: 16, Schipperke/Catahoula: 1, Schipperke/Chihuahua Shorthair: 2, Schnauzer Giant: 1, Schnauzer Giant Mix: 18, Schnauzer Giant/Labrador Retriever: 1, Schnauzer Giant/Otterhound: 1, Schnauzer Giant/Standard Poodle: 1, Scottish Fold Mix: 2, Scottish Terrier: 3, Scottish Terrier Mix: 27, Scottish Terrier/Basset Hound: 1, Scottish Terrier/Cairn Terrier: 1, Scottish Terrier/Chihuahua Shorthair: 1, Scottish Terrier/Miniature Poodle"
     ]
    },
    {
     "name": "stdout",
     "output_type": "stream",
     "text": [
      ": 1, Scottish Terrier/Standard Schnauzer: 1, Sealyham Terr Mix: 1, Shetland Sheepdog: 10, Shetland Sheepdog Mix: 39, Shetland Sheepdog/Basenji: 1, Shetland Sheepdog/Border Collie: 5, Shetland Sheepdog/Brittany: 1, Shetland Sheepdog/Cardigan Welsh Corgi: 1, Shetland Sheepdog/Cavalier Span: 1, Shetland Sheepdog/Chihuahua Longhair: 1, Shetland Sheepdog/Dachshund Longhair: 1, Shetland Sheepdog/German Shepherd: 1, Shetland Sheepdog/Italian Greyhound: 1, Shetland Sheepdog/Keeshond: 1, Shetland Sheepdog/Pomeranian: 1, Shiba Inu: 9, Shiba Inu Mix: 42, Shiba Inu/Australian Kelpie: 3, Shiba Inu/Chow Chow: 1, Shiba Inu/Dachshund: 1, Shiba Inu/German Shepherd: 1, Shiba Inu/Siberian Husky: 1, Shih Tzu: 153, Shih Tzu Mix: 341, Shih Tzu/Australian Shepherd: 1, Shih Tzu/Bichon Frise: 1, Shih Tzu/Border Terrier: 1, Shih Tzu/Bruss Griffon: 2, Shih Tzu/Cardigan Welsh Corgi: 1, Shih Tzu/Cavalier Span: 1, Shih Tzu/Chihuahua Longhair: 1, Shih Tzu/Chihuahua Shorthair: 10, Shih Tzu/Cocker Spaniel: 3, Shih Tzu/Dachshund: 3, Shih Tzu/Havanese: 3, Shih Tzu/Maltese: 9, Shih Tzu/Miniature Poodle: 17, Shih Tzu/Miniature Schnauzer: 3, Shih Tzu/Pekingese: 1, Shih Tzu/Pit Bull: 3, Shih Tzu/Pomeranian: 1, Shih Tzu/Pug: 1, Shih Tzu/Toy Poodle: 5, Shih Tzu/Yorkshire Terrier: 4, Siamese: 170, Siamese Mix: 1005, Siamese/Angora: 1, Siamese/Domestic Shorthair: 17, Siamese/Japanese Bobtail: 2, Siberian Husky: 335, Siberian Husky Mix: 530, Siberian Husky/Akita: 3, Siberian Husky/Alaskan Malamute: 2, Siberian Husky/American Pit Bull Terrier: 1, Siberian Husky/Anatol Shepherd: 3, Siberian Husky/Australian Cattle Dog: 16, Siberian Husky/Australian Shepherd: 1, Siberian Husky/Beagle: 1, Siberian Husky/Border Collie: 9, Siberian Husky/Catahoula: 1, Siberian Husky/Chinese Sharpei: 2, Siberian Husky/German Shepherd: 48, Siberian Husky/Labrador Retriever: 20, Siberian Husky/Pit Bull: 9, Siberian Husky/Rottweiler: 1, Silky Terrier: 2, Silky Terrier Mix: 11, Silky Terrier/Maltese: 1, Silky Terrier/Yorkshire Terrier: 3, Skunk: 70, Skunk Mix: 78, Skye Terrier: 2, Skye Terrier Mix: 9, Skye Terrier/Miniature Poodle: 1, Smooth Fox Terrier: 7, Smooth Fox Terrier Mix: 37, Smooth Fox Terrier/Beagle: 1, Smooth Fox Terrier/Border Collie: 1, Smooth Fox Terrier/Cardigan Welsh Corgi: 2, Smooth Fox Terrier/Chihuahua Shorthair: 1, Smooth Fox Terrier/Jack Russell Terrier: 2, Smooth Fox Terrier/Labrador Retriever: 2, Smooth Fox Terrier/Rat Terrier: 1, Snake: 12, Snake Mix: 14, Snake/Python: 1, Snowshoe: 10, Snowshoe Mix: 153, Snowshoe/Ragdoll: 2, Snowshoe/Siamese: 1, Soft Coated Wheaten Terrier: 14, Soft Coated Wheaten Terrier Mix: 62, Soft Coated Wheaten Terrier/Border Terrier: 2, Soft Coated Wheaten Terrier/Labrador Retriever: 2, Soft Coated Wheaten Terrier/Miniature Poodle: 1, Soft Coated Wheaten Terrier/Standard Poodle: 1, Soft Coated Wheaten Terrier/Yorkshire Terrier: 1, Spanish Mastiff Mix: 1, Spanish Water Dog: 1, Sphynx: 5, Spinone Italiano Mix: 3, Squirrel: 38, Squirrel Mix: 61, St. Bernard Rough Coat: 4, St. Bernard Rough Coat Mix: 19, St. Bernard Rough Coat/Anatol Shepherd: 1, St. Bernard Rough Coat/Beagle: 1, St. Bernard Rough Coat/Boxer: 6, St. Bernard Rough Coat/German Shepherd: 1, St. Bernard Rough Coat/Great Pyrenees: 1, St. Bernard Smooth Coat: 6, St. Bernard Smooth Coat Mix: 17, St. Bernard Smooth Coat/Anatol Shepherd: 1, Staffordshire: 41, Staffordshire Mix: 521, Staffordshire/American Bulldog: 1, Staffordshire/Australian Cattle Dog: 3, Staffordshire/Basenji: 1, Staffordshire/Basset Hound: 1, Staffordshire/Beagle: 2, Staffordshire/Blue Lacy: 2, Staffordshire/Border Collie: 1, Staffordshire/Boston Terrier: 2, Staffordshire/Boxer: 8, Staffordshire/Bull Terrier: 3, Staffordshire/Bulldog: 1, Staffordshire/Chinese Sharpei: 1, Staffordshire/Dachshund: 1, Staffordshire/English Bulldog: 6, Staffordshire/Labrador Retriever: 9, Staffordshire/Pit Bull: 2, Staffordshire/Plott Hound: 2, Staffordshire/Rat Terrier: 1, Standard Poodle: 9, Standard Poodle Mix: 21, Standard Poodle/Golden Retriever: 3, Standard Poodle/Jack Russell Terrier: 1, Standard Poodle/Labrador Retriever: 17, Standard Poodle/Whippet: 1, Standard Schnauzer: 12, Standard Schnauzer Mix: 41, Standard Schnauzer/German Shepherd: 2, Standard Schnauzer/Labrador Retriever: 2, Standard Schnauzer/Miniature Poodle: 9, Standard Schnauzer/Soft Coated Wheaten Terrier: 1, Standard Schnauzer/Standard Poodle: 2, Standard Schnauzer/Toy Poodle: 1, Sugar Glider: 4, Sussex Span Mix: 1, Swedish Vallhund: 1, Swedish Vallhund Mix: 14, Swedish Vallhund/Chihuahua Longhair: 1, Swedish Vallhund/Miniature Poodle: 1, Swiss Hound/Pit Bull: 1, Tarantula: 4, Tibetan Spaniel: 3, Tibetan Spaniel Mix: 29, Tibetan Spaniel/Beagle: 2, Tibetan Spaniel/Chihuahua Longhair: 1, Tibetan Spaniel/Dachshund Longhair: 1, Tibetan Terrier: 4, Tibetan Terrier Mix: 15, Tibetan Terrier/Lhasa Apso: 2, Tonkinese: 1, Tonkinese Mix: 8, Tortoise: 6, Tortoise Mix: 8, Toy Fox Terrier: 3, Toy Fox Terrier Mix: 24, Toy Fox Terrier/Chihuahua Shorthair: 1, Toy Fox Terrier/Dachshund: 1, Toy Fox Terrier/Yorkshire Terrier: 1, Toy Poodle: 31, Toy Poodle Mix: 99, Toy Poodle/Bichon Frise: 1, Toy Poodle/Chihuahua Shorthair: 1, Toy Poodle/Cocker Spaniel: 1, Toy Poodle/Dachshund: 1, Toy Poodle/Lhasa Apso: 5, Toy Poodle/Maltese: 2, Toy Poodle/Miniature Schnauzer: 3, Treeing Cur: 2, Treeing Cur Mix: 15, Treeing Tennesse Brindle: 3, Treeing Tennesse Brindle Mix: 3, Treeing Walker Coonhound: 3, Treeing Walker Coonhound Mix: 28, Treeing Walker Coonhound/Australian Cattle Dog: 1, Treeing Walker Coonhound/German Shepherd: 3, Treeing Walker Coonhound/German Shorthair Pointer: 1, Treeing Walker Coonhound/Great Dane: 2, Treeing Walker Coonhound/Labrador Retriever: 2, Treeing Walker Coonhound/Plott Hound: 1, Tropical Mix: 1, Turkish Angora: 1, Turkish Angora Mix: 3, Turkish Van Mix: 7, Turtle: 10, Turtle Mix: 15, Unknown: 1, Unknown Mix: 3, Vizsla: 19, Vizsla Mix: 43, Vizsla/Boxer: 2, Vizsla/Catahoula: 1, Vizsla/Dachshund: 2, Vizsla/German Shepherd: 2, Vizsla/Golden Retriever: 2, Vizsla/Great Pyrenees: 1, Vizsla/Greyhound: 1, Vizsla/Labrador Retriever: 5, Vizsla/Pit Bull: 1, Vizsla/Pointer: 1, Vizsla/Rhod Ridgeback: 1, Vizsla/Staffordshire: 1, Weimaraner: 14, Weimaraner Mix: 54, Weimaraner/American Bulldog: 1, Weimaraner/Labrador Retriever: 11, Weimaraner/Pit Bull: 5, Weimaraner/Plott Hound: 1, Weimaraner/Vizsla: 5, Welsh Springer Spaniel: 3, Welsh Springer Spaniel Mix: 3, Welsh Springer Spaniel/Labrador Retriever: 1, Welsh Terrier: 22, Welsh Terrier Mix: 14, Welsh Terrier/Miniature Poodle: 1, West Highland: 16, West Highland Mix: 49, West Highland/Cairn Terrier: 1, West Highland/Chihuahua Shorthair: 1, West Highland/Lhasa Apso: 1, West Highland/Maltese: 1, West Highland/Miniature Poodle: 2, West Highland/Patterdale Terr: 2, West Highland/Shetland Sheepdog: 1, West Highland/Soft Coated Wheaten Terrier: 1, Whippet: 3, Whippet Mix: 66, Whippet/Anatol Shepherd: 1, Whippet/Australian Cattle Dog: 1, Whippet/Australian Kelpie: 3, Whippet/Beagle: 3, Whippet/Borzoi: 1, Whippet/Catahoula: 1, Whippet/Chihuahua Shorthair: 2, Whippet/Dachshund: 3, Whippet/German Shepherd: 3, Whippet/Jack Russell Terrier: 1, Whippet/Labrador Retriever: 2, Whippet/Miniature Pinscher: 1, Whippet/Pit Bull: 1, Whippet/Plott Hound: 1, Whippet/Rat Terrier: 1, Whippet/Shetland Sheepdog: 1, Wire Hair Fox Terrier: 42, Wire Hair Fox Terrier Mix: 46, Wire Hair Fox Terrier/Beagle: 3, Wire Hair Fox Terrier/Chihuahua Shorthair: 7, Wire Hair Fox Terrier/Dachshund: 3, Wire Hair Fox Terrier/German Shepherd: 1, Wire Hair Fox Terrier/Golden Retriever: 1, Wire Hair Fox Terrier/Standard Schnauzer: 1, Wirehaired Pointing Griffon Mix: 8, Wolf Hybrid Mix: 1, Yorkshire Terrier: 87, Yorkshire Terrier Mix: 503, Yorkshire Terrier/Australian Terrier: 1, Yorkshire Terrier/Border Terrier: 9, Yorkshire Terrier/Bruss Griffon: 1, Yorkshire Terrier/Cairn Terrier: 8, Yorkshire Terrier/Chihuahua Longhair: 13, Yorkshire Terrier/Chihuahua Shorthair: 22, Yorkshire Terrier/Chinese Crested: 1, Yorkshire Terrier/Dachshund: 1, Yorkshire Terrier/Dachshund Longhair: 1, Yorkshire Terrier/Dachshund Wirehair: 2, Yorkshire Terrier/Havanese: 2, Yorkshire Terrier/Jack Russell Terrier: 2, Yorkshire Terrier/Lhasa Apso: 2, Yorkshire Terrier/Maltese: 12, Yorkshire Terrier/Miniature Poodle: 22, Yorkshire Terrier/Miniature Schnauzer: 13, Yorkshire Terrier/Norfolk Terrier: 8, Yorkshire Terrier/Parson Russell Terrier: 1, Yorkshire Terrier/Pomeranian: 2, Yorkshire Terrier/Rat Terrier: 4, Yorkshire Terrier/Scottish Terrier: 2, Yorkshire Terrier/Shih Tzu: 3, Yorkshire Terrier/Soft Coated Wheaten Terrier: 1, Yorkshire Terrier/Toy Poodle: 10, Yorkshire Terrier/Yorkshire Terrier: 1, "
     ]
    }
   ],
   "source": [
    "# Evaluate the Breed feature set for combination.\n",
    "train_df_breed_list = train_df['Breed'].tolist()\n",
    "train_df_breed_dict = {i:train_df_breed_list.count(i) for i in set(train_df_breed_list)}\n",
    "\n",
    "print(\"Number of unique breeds within the dataset:\", train_df['Breed'].describe()[1])\n",
    "\n",
    "# Analyze the different combinations of breeds.\n",
    "for k in sorted(train_df_breed_dict): \n",
    "    print(k,\": \",train_df_breed_dict[k], sep=\"\", end=\", \")"
   ]
  },
  {
   "cell_type": "code",
   "execution_count": 21,
   "metadata": {},
   "outputs": [],
   "source": [
    "# Remove the secondary breed name.\n",
    "def split_breed(x):\n",
    "    if '/' in x['Breed'] : return x['Breed'].split('/', 1)[1]\n",
    "    else : return x['Breed']\n",
    "    \n",
    "train_df['Breed'] = train_df.apply(split_breed, axis=1)"
   ]
  },
  {
   "cell_type": "code",
   "execution_count": 22,
   "metadata": {},
   "outputs": [],
   "source": [
    "# Remove the word \"mix\" from the breed type.\n",
    "train_df['Breed'] = train_df['Breed'].str.replace(' Mix', '')"
   ]
  },
  {
   "cell_type": "code",
   "execution_count": 23,
   "metadata": {},
   "outputs": [
    {
     "name": "stdout",
     "output_type": "stream",
     "text": [
      "We have taken the unique number of breeds from 1,380 to 317 by removing the secondary breed type and the word \"mix\".\n"
     ]
    }
   ],
   "source": [
    "print(\"We have taken the unique number of breeds from 1,380 to\", \n",
    "      train_df['Breed'].describe()[1], \"by removing the secondary breed type\",\n",
    "      \"and the word \\\"mix\\\".\")"
   ]
  },
  {
   "cell_type": "code",
   "execution_count": 24,
   "metadata": {},
   "outputs": [
    {
     "name": "stdout",
     "output_type": "stream",
     "text": [
      "Number of unique colors within the dataset: 544\n",
      "Agouti: 16, Agouti/Brown Tabby: 1, Agouti/Cream: 1, Agouti/Gray: 1, Agouti/White: 2, Apricot: 62, Apricot/Brown: 3, Apricot/Tricolor: 2, Apricot/White: 11, Black: 8094, Black Brindle: 91, Black Brindle/Black: 7, Black Brindle/Blue: 1, Black Brindle/Blue Tick: 1, Black Brindle/Brown: 12, Black Brindle/Brown Brindle: 3, Black Brindle/Tan: 1, Black Brindle/White: 192, Black Smoke: 145, Black Smoke/Black: 1, Black Smoke/Black Tiger: 1, Black Smoke/Blue Tick: 1, Black Smoke/Brown: 1, Black Smoke/Brown Tabby: 1, Black Smoke/Chocolate: 1, Black Smoke/Gray: 1, Black Smoke/White: 40, Black Tabby: 184, Black Tabby/Gray: 1, Black Tabby/Gray Tabby: 1, Black Tabby/Orange: 1, Black Tabby/White: 58, Black Tiger: 4, Black Tiger/White: 1, Black/Black: 120, Black/Black Brindle: 12, Black/Black Smoke: 4, Black/Black Tabby: 2, Black/Blue: 4, Black/Blue Merle: 15, Black/Blue Tick: 24, Black/Brown: 2051, Black/Brown Brindle: 123, Black/Brown Merle: 1, Black/Brown Tabby: 2, Black/Buff: 15, Black/Chocolate: 7, Black/Cream: 41, Black/Fawn: 10, Black/Gray: 357, Black/Gray Tabby: 2, Black/Orange: 10, Black/Pink: 1, Black/Red: 54, Black/Silver: 22, Black/Silver Tabby: 1, Black/Tan: 2186, Black/Tortie: 2, Black/Tricolor: 307, Black/White: 10213, Black/Yellow: 4, Black/Yellow Brindle: 3, Blue: 1692, Blue Cream: 54, Blue Cream/Blue Tabby: 1, Blue Cream/Blue Tiger: 1, Blue Cream/Buff: 1, Blue Cream/Tortie: 2, Blue Cream/White: 10, Blue Merle: 213, Blue Merle/Black: 13, Blue Merle/Blue Merle: 3, Blue Merle/Brown: 11, Blue Merle/Brown Brindle: 1, Blue Merle/Gray: 1, Blue Merle/Red: 2, Blue Merle/Red Merle: 1, Blue Merle/Tan: 43, Blue Merle/Tricolor: 6, Blue Merle/White: 141, Blue Point: 56, Blue Point/Cream: 1, Blue Point/White: 6, Blue Smoke: 11, Blue Smoke/Gray: 1, Blue Smoke/White: 6, Blue Tabby: 1448, Blue Tabby/Black: 2, Blue Tabby/Blue Cream: 3, Blue Tabby/Brown: 1, Blue Tabby/Buff: 1, Blue Tabby/Cream: 7, Blue Tabby/Orange: 1, Blue Tabby/Tortie: 1, Blue Tabby/White: 675, Blue Tick: 79, Blue Tick/Black: 30, Blue Tick/Brown: 10, Blue Tick/Red: 3, Blue Tick/Red Tick: 4, Blue Tick/Tan: 27, Blue Tick/Tricolor: 10, Blue Tick/White: 13, Blue Tiger: 10, Blue Tiger/White: 34, Blue/Black: 8, Blue/Black Brindle: 1, Blue/Blue: 5, Blue/Brown: 11, Blue/Brown Brindle: 5, Blue/Cream: 4, Blue/Gray: 10, Blue/Orange: 2, Blue/Silver: 1, Blue/Tan: 87, Blue/Tortie: 6, Blue/Tricolor: 12, Blue/White: 2661, Brown: 4037, Brown Brindle: 839, Brown Brindle/Black: 40, Brown Brindle/Blue: 1, Brown Brindle/Blue Cream: 1, Brown Brindle/Blue Tick: 1, Brown Brindle/Brown: 15, Brown Brindle/Brown Brindle: 1, Brown Brindle/Brown Merle: 1, Brown Brindle/Gray: 1, Brown Brindle/Liver Tick: 1, Brown Brindle/Red Tick: 3, Brown Brindle/Tan: 7, Brown Brindle/White: 1629, Brown Merle: 95, Brown Merle/Black: 3, Brown Merle/Blue Merle: 2, Brown Merle/Brown: 4, Brown Merle/Brown Tabby: 1, Brown Merle/Chocolate: 1, Brown Merle/Gray: 2, Brown Merle/Tan: 5, Brown Merle/White: 89, Brown Tabby: 5542, Brown Tabby/Agouti: 1, Brown Tabby/Black: 54, Brown Tabby/Black Brindle: 1, Brown Tabby/Blue: 1, Brown Tabby/Brown: 3, Brown Tabby/Brown Tabby: 3, Brown Tabby/Calico: 2, Brown Tabby/Cream: 2, Brown Tabby/Gray: 3, Brown Tabby/Gray Tabby: 1, Brown Tabby/Lynx Point: 1, Brown Tabby/Orange: 7, Brown Tabby/Orange Tabby: 1, Brown Tabby/Silver: 4, Brown Tabby/Tortie: 5, Brown Tabby/White: 2886, Brown Tiger: 19, Brown Tiger/Brown: 1, Brown Tiger/White: 13, Brown/Apricot: 1, Brown/Black: 1762, Brown/Black Brindle: 2, Brown/Black Smoke: 1, Brown/Black Tabby: 1, Brown/Blue: 1, Brown/Blue Merle: 1, Brown/Brown: 78, Brown/Brown Brindle: 6, Brown/Brown Merle: 1, Brown/Brown Tabby: 2, Brown/Buff: 7, Brown/Chocolate: 5, Brown/Cream: 27, Brown/Fawn: 6, Brown/Gray: 46, Brown/Green: 2, Brown/Liver: 1, Brown/Orange: 3, Brown/Pink: 1, Brown/Red: 30, Brown/Red Merle: 1, Brown/Red Tick: 4, Brown/Silver: 10, Brown/Tan: 340, Brown/Tricolor: 109, Brown/White: 3169, Brown/Yellow: 1, Buff: 430, Buff/Black: 14, Buff/Brown: 2, Buff/Cream: 3, Buff/Gray: 4, Buff/Red: 2, Buff/Tan: 17, Buff/White: 120, Buff/Yellow: 4, Calico: 1620, Calico Point: 45, Calico Point/Gray: 1, Calico Point/Lynx Point: 1, Calico Point/White: 7, Calico/Black: 12, Calico/Blue Cream: 3, Calico/Blue Tabby: 2, Calico/Brown: 3, Calico/Brown Tabby: 7, Calico/Calico: 2, Calico/Gray Tabby: 1, Calico/Orange: 1, Calico/Orange Tabby: 1, Calico/Tricolor: 4, Calico/White: 98, Chocolate: 431, Chocolate Point: 57, Chocolate Point/Cream: 1, Chocolate Point/White: 8, Chocolate/Black: 5, Chocolate/Black Smoke: 3, Chocolate/Blue Tick: 1, Chocolate/Brown: 13, Chocolate/Brown Brindle: 5, Chocolate/Brown Merle: 1, Chocolate/Brown Tabby: 3, Chocolate/Chocolate: 2, Chocolate/Cream: 5, Chocolate/Fawn: 1, Chocolate/Gray: 3, Chocolate/Liver Tick: 1, Chocolate/Red: 3, Chocolate/Red Tick: 1, Chocolate/Seal Point: 1, Chocolate/Tan: 208, Chocolate/Tricolor: 17, Chocolate/White: 738, Chocolate/Yellow: 1, Cream: 600, Cream Tabby: 651, Cream Tabby/Cream Tabby: 1, Cream Tabby/Orange: 1, Cream Tabby/White: 307, Cream Tiger: 1, Cream Tiger/Brown Tabby: 1, Cream/Black: 51, Cream/Blue: 1, Cream/Brown: 17, Cream/Brown Merle: 1, Cream/Cream: 1, Cream/Gray: 3, Cream/Orange: 2, Cream/Red: 5, Cream/Seal Point: 3, Cream/Silver: 1, Cream/Tan: 51, Cream/Tricolor: 2, Cream/White: 182, Cream/Yellow: 3, Fawn: 218, Fawn/Black: 54, Fawn/Blue: 6, Fawn/Brown: 11, Fawn/Brown Brindle: 1, Fawn/Chocolate: 1, Fawn/Cream: 1, Fawn/Gray: 3, Fawn/Tan: 5, Fawn/Tricolor: 5, Fawn/White: 440, Flame Point: 220, Flame Point/Cream: 1, Flame Point/White: 7, Gold: 150, Gold/Black: 6, Gold/Brown: 3, Gold/Buff: 1, Gold/Cream: 3, Gold/Gold: 5, Gold/Gray: 1, Gold/Silver: 1, Gold/Tan: 4, Gold/White: 51, Gold/Yellow: 2, Gray: 552, Gray Tabby: 262, Gray Tabby/Black: 19, Gray Tabby/Gray: 2, Gray Tabby/White: 128, Gray/Black: 341, Gray/Blue: 3, Gray/Blue Merle: 1, Gray/Brown: 34, Gray/Brown Brindle: 1, Gray/Buff: 1, Gray/Cream: 12, Gray/Fawn: 2, Gray/Gold: 3, Gray/Gray: 33, Gray/Gray Tabby: 1, Gray/Orange: 6, Gray/Pink: 12, Gray/Red: 12, Gray/Silver: 5, Gray/Tan: 39, Gray/Tortie: 4, Gray/Tricolor: 3, Gray/White: 454, Green: 18, Green/Brown: 2, Green/Orange: 1, Green/Red: 1, Green/Yellow: 3, Lilac Point: 96, Lilac Point/Black: 1, Lilac Point/Cream: 1, Lilac Point/White: 11, Liver: 3, Liver Tick: 6, Liver Tick/White: 1, Liver/Brown Brindle: 1, Liver/Buff: 1, Liver/Liver Tick: 1, Liver/Tan: 5, Liver/White: 20, Lynx Point: 497, Lynx Point/Brown Tabby: 1, Lynx Point/Cream: 1, Lynx Point/Gray: 2, Lynx Point/Gray Tabby: 1, Lynx Point/Tan: 1, Lynx Point/Tortie Point: 3, Lynx Point/White: 54, Orange: 98, Orange Tabby: 2706, Orange Tabby/Apricot: 1, Orange Tabby/Black: 1, Orange Tabby/Brown: 2, Orange Tabby/Cream: 5, Orange Tabby/Orange: 3, Orange Tabby/Orange Tabby: 2, Orange Tabby/White: 1354, Orange Tiger: 3, Orange/Black: 2, Orange/Blue: 1, Orange/Orange Tabby: 1, Orange/Tan: 5, Orange/White: 120, Pink: 28, Red: 1154, Red Merle: 58, Red Merle/Black: 2, Red Merle/Brown Merle: 1, Red Merle/Red Merle: 1, Red Merle/Tan: 1, Red Merle/Tricolor: 1, Red Merle/White: 46, Red Tick: 80, Red Tick/Black: 1, Red Tick/Blue Tick: 2, Red Tick/Brown: 4, Red Tick/Brown Brindle: 1, Red Tick/Red: 3, Red Tick/Tan: 5, Red Tick/Tricolor: 2, Red Tick/White: 36, Red/Black: 186, Red/Blue: 1, Red/Brown: 37, Red/Brown Brindle: 1, Red/Buff: 2, Red/Cream: 22, Red/Gold: 2, Red/Gray: 11, Red/Red: 2, Red/Red Merle: 2, Red/Red Tick: 4, Red/Silver: 5, Red/Tan: 71, Red/Tricolor: 4, Red/White: 1003, Red/Yellow: 2, Ruddy/Cream: 1, Sable: 475, Sable/Black: 32, Sable/Brown: 15, Sable/Buff: 2, Sable/Cream: 8, Sable/Gray: 2, Sable/Red: 4, Sable/Red Merle: 1, Sable/Tan: 28, Sable/White: 226, Seal Point: 371, Seal Point/Brown: 3, Seal Point/Buff: 1, Seal Point/Cream: 1, Seal Point/Gray: 3, Seal Point/White: 54, Silver: 43, Silver Lynx Point: 16, Silver Lynx Point/White: 1, Silver Tabby: 80, Silver Tabby/Black: 1, Silver Tabby/White: 26, Silver/Black: 13, Silver/Blue: 1, Silver/Brown: 10, Silver/Chocolate: 3, Silver/Cream: 2, Silver/Gray: 4, Silver/Orange: 1, Silver/Red: 3, Silver/Silver Tabby: 1, Silver/Tan: 39, Silver/White: 16, Tan: 2439, Tan/Black: 895, Tan/Blue: 6, Tan/Blue Merle: 1, Tan/Brown: 112, Tan/Brown Brindle: 2, Tan/Brown Merle: 1, Tan/Buff: 17, Tan/Cream: 49, Tan/Cream Tabby: 1, Tan/Fawn: 8, Tan/Gold: 2, Tan/Gray: 33, Tan/Red: 13, Tan/Red Merle: 1, Tan/Red Tick: 4, Tan/Silver: 24, Tan/Tan: 34, Tan/Tricolor: 30, Tan/White: 2947, Tan/Yellow: 4, Tan/Yellow Brindle: 1, Torbie: 1082, Torbie/Black: 2, Torbie/Blue Cream: 4, Torbie/Blue Tabby: 2, Torbie/Brown: 2, Torbie/Brown Tabby: 3, Torbie/Calico: 1, Torbie/Gray: 2, Torbie/White: 230, Tortie: 1714, Tortie Point: 102, Tortie Point/Lynx Point: 1, Tortie Point/Seal Point: 1, Tortie Point/White: 6, Tortie/Black: 21, Tortie/Black Smoke: 1, Tortie/Blue: 2, Tortie/Blue Cream: 11, Tortie/Brown: 2, Tortie/Calico: 2, Tortie/Gray: 2, Tortie/Orange: 3, Tortie/White: 90, Tricolor: 2266, Tricolor/Black: 41, Tricolor/Blue: 5, Tricolor/Blue Merle: 6, Tricolor/Blue Tick: 5, Tricolor/Brown: 62, Tricolor/Brown Brindle: 27, Tricolor/Brown Merle: 2, Tricolor/Calico: 1, Tricolor/Chocolate: 2, Tricolor/Cream: 1, Tricolor/Gray: 3, Tricolor/Orange: 1, Tricolor/Red: 2, Tricolor/Red Tick: 1, Tricolor/Silver: 2, Tricolor/Tan: 11, Tricolor/Tricolor: 1, Tricolor/White: 85, Unknown: 69, White: 3392, White/Agouti: 1, White/Apricot: 4, White/Black: 2671, White/Black Brindle: 26, White/Black Smoke: 4, White/Black Tabby: 13, White/Black Tiger: 1, White/Blue: 441, White/Blue Cream: 5, White/Blue Merle: 32, White/Blue Tabby: 65, White/Blue Tick: 11, White/Blue Tiger: 1, White/Brown: 1866, White/Brown Brindle: 367, White/Brown Merle: 19, White/Brown Tabby: 382, White/Brown Tiger: 2, White/Buff: 77, White/Calico: 14, White/Calico Point: 1, White/Chocolate: 119, White/Chocolate Point: 2, White/Cream: 121, White/Cream Tabby: 24, White/Fawn: 28, White/Flame Point: 1, White/Gold: 5, White/Gray: 371, White/Gray Tabby: 19, White/Gray Tiger: 1, White/Lilac Point: 1, White/Liver: 28, White/Liver Tick: 2, White/Lynx Point: 3, White/Orange: 82, White/Orange Tabby: 137, White/Pink: 5, White/Red: 198, White/Red Merle: 16, White/Red Tick: 20, White/Seal Point: 5, White/Silver: 8, White/Silver Tabby: 1, White/Tan: 1471, White/Tortie: 2, White/Tricolor: 199, White/White: 77, White/Yellow: 19, White/Yellow Brindle: 5, Yellow: 513, Yellow Brindle: 27, Yellow Brindle/Blue: 1, Yellow Brindle/White: 54, Yellow/Black: 3, Yellow/Brown: 1, Yellow/Cream: 4, Yellow/Gray: 1, Yellow/Orange: 2, Yellow/Orange Tabby: 2, Yellow/Tan: 4, Yellow/White: 121, Yellow/Yellow: 1, "
     ]
    }
   ],
   "source": [
    "# Evaluate the Color feature set for combination.\n",
    "train_df_color_list = train_df['Color'].tolist()\n",
    "train_df_color_dict = {i:train_df_color_list.count(i) for i in set(train_df_color_list)}\n",
    "\n",
    "print(\"Number of unique colors within the dataset:\", train_df['Color'].describe()[1])\n",
    "\n",
    "# Analyzing the different combinations of colors.\n",
    "for k in sorted(train_df_color_dict):\n",
    "    print(k,\": \",train_df_color_dict[k], sep=\"\", end=\", \")"
   ]
  },
  {
   "cell_type": "code",
   "execution_count": 25,
   "metadata": {},
   "outputs": [],
   "source": [
    "# Remove the secondary color name to focus on the principal color.\n",
    "def split_color(x):\n",
    "    if '/' in x['Color'] : return x['Color'].split('/', 1)[1]\n",
    "    else : return x['Color']\n",
    "    \n",
    "train_df['Color'] = train_df.apply(split_color, axis=1)"
   ]
  },
  {
   "cell_type": "code",
   "execution_count": 26,
   "metadata": {},
   "outputs": [
    {
     "name": "stdout",
     "output_type": "stream",
     "text": [
      "We have taken the unique number of colors from 366 to 60 by focusing on the primary color \n",
      "and removing the secondary color.\n"
     ]
    }
   ],
   "source": [
    "print(\"We have taken the unique number of colors from 366 to\", \n",
    "      train_df['Color'].describe()[1], \"by focusing on the primary color\",\n",
    "      \"\\nand removing the secondary color.\")"
   ]
  },
  {
   "cell_type": "markdown",
   "metadata": {},
   "source": [
    "Moving forward, we are focusing on primary breed and color, working under the assumption that someone adopting an animal is likely to focus on the predominant feature in each of these categories. When a potential adopter sees border collie mix or border collie/labrador retriever, they are likely to process this as \"border collie\" first and foremost. Colors work the same way: the difference between calico vs. calico/white is negligible. \n",
    "\n",
    "The remaining colors could be reduced further, as they mix colors and coat types (blue vs. blue tabby), but we determined that these were unique enough to keep separate in a single field."
   ]
  },
  {
   "cell_type": "markdown",
   "metadata": {},
   "source": [
    "## Train Data Transformations and Binarization"
   ]
  },
  {
   "cell_type": "markdown",
   "metadata": {},
   "source": [
    "In order to transform our dataset and make it ready for model evaluation, we are going to create dummy variables for all of our continuous variables and binarize all of our features. For our age variable, we are going to normalize all of the data, as the variable is continuous."
   ]
  },
  {
   "cell_type": "code",
   "execution_count": 27,
   "metadata": {},
   "outputs": [
    {
     "data": {
      "text/html": [
       "<div>\n",
       "<style scoped>\n",
       "    .dataframe tbody tr th:only-of-type {\n",
       "        vertical-align: middle;\n",
       "    }\n",
       "\n",
       "    .dataframe tbody tr th {\n",
       "        vertical-align: top;\n",
       "    }\n",
       "\n",
       "    .dataframe thead th {\n",
       "        text-align: right;\n",
       "    }\n",
       "</style>\n",
       "<table border=\"1\" class=\"dataframe\">\n",
       "  <thead>\n",
       "    <tr style=\"text-align: right;\">\n",
       "      <th></th>\n",
       "      <th>AnimalID</th>\n",
       "      <th>Name</th>\n",
       "      <th>DateTime</th>\n",
       "      <th>OutcomeType</th>\n",
       "      <th>OutcomeSubtype</th>\n",
       "      <th>AnimalType</th>\n",
       "      <th>SexuponOutcome</th>\n",
       "      <th>AgeuponOutcome</th>\n",
       "      <th>Breed</th>\n",
       "      <th>Color</th>\n",
       "    </tr>\n",
       "  </thead>\n",
       "  <tbody>\n",
       "    <tr>\n",
       "      <th>0</th>\n",
       "      <td>A668817</td>\n",
       "      <td>NaN</td>\n",
       "      <td>2013-12-09 14:12:00</td>\n",
       "      <td>Adoption</td>\n",
       "      <td>Adopted</td>\n",
       "      <td>Dog</td>\n",
       "      <td>Spayed Female</td>\n",
       "      <td>208.0</td>\n",
       "      <td>Miniature Pinscher</td>\n",
       "      <td>Brown</td>\n",
       "    </tr>\n",
       "  </tbody>\n",
       "</table>\n",
       "</div>"
      ],
      "text/plain": [
       "  AnimalID Name            DateTime OutcomeType OutcomeSubtype AnimalType  \\\n",
       "0  A668817  NaN 2013-12-09 14:12:00    Adoption        Adopted        Dog   \n",
       "\n",
       "  SexuponOutcome  AgeuponOutcome               Breed  Color  \n",
       "0  Spayed Female           208.0  Miniature Pinscher  Brown  "
      ]
     },
     "execution_count": 27,
     "metadata": {},
     "output_type": "execute_result"
    }
   ],
   "source": [
    "train_df_binarize = train_df.copy()\n",
    "train_df_binarize.head(1)"
   ]
  },
  {
   "cell_type": "code",
   "execution_count": 28,
   "metadata": {},
   "outputs": [
    {
     "data": {
      "text/html": [
       "<div>\n",
       "<style scoped>\n",
       "    .dataframe tbody tr th:only-of-type {\n",
       "        vertical-align: middle;\n",
       "    }\n",
       "\n",
       "    .dataframe tbody tr th {\n",
       "        vertical-align: top;\n",
       "    }\n",
       "\n",
       "    .dataframe thead th {\n",
       "        text-align: right;\n",
       "    }\n",
       "</style>\n",
       "<table border=\"1\" class=\"dataframe\">\n",
       "  <thead>\n",
       "    <tr style=\"text-align: right;\">\n",
       "      <th></th>\n",
       "      <th>AnimalID</th>\n",
       "      <th>Name</th>\n",
       "      <th>DateTime</th>\n",
       "      <th>OutcomeType</th>\n",
       "      <th>OutcomeSubtype</th>\n",
       "      <th>AnimalType</th>\n",
       "      <th>SexuponOutcome</th>\n",
       "      <th>AgeuponOutcome</th>\n",
       "      <th>Breed</th>\n",
       "      <th>Color</th>\n",
       "      <th>State</th>\n",
       "      <th>Gender</th>\n",
       "    </tr>\n",
       "  </thead>\n",
       "  <tbody>\n",
       "    <tr>\n",
       "      <th>0</th>\n",
       "      <td>A668817</td>\n",
       "      <td>NaN</td>\n",
       "      <td>2013-12-09 14:12:00</td>\n",
       "      <td>Adoption</td>\n",
       "      <td>Adopted</td>\n",
       "      <td>Dog</td>\n",
       "      <td>Spayed Female</td>\n",
       "      <td>208.0</td>\n",
       "      <td>Miniature Pinscher</td>\n",
       "      <td>Brown</td>\n",
       "      <td>Fixed</td>\n",
       "      <td>Female</td>\n",
       "    </tr>\n",
       "  </tbody>\n",
       "</table>\n",
       "</div>"
      ],
      "text/plain": [
       "  AnimalID Name            DateTime OutcomeType OutcomeSubtype AnimalType  \\\n",
       "0  A668817  NaN 2013-12-09 14:12:00    Adoption        Adopted        Dog   \n",
       "\n",
       "  SexuponOutcome  AgeuponOutcome               Breed  Color  State  Gender  \n",
       "0  Spayed Female           208.0  Miniature Pinscher  Brown  Fixed  Female  "
      ]
     },
     "execution_count": 28,
     "metadata": {},
     "output_type": "execute_result"
    }
   ],
   "source": [
    "# Split SexuponOutcome into dummy variables, so that both will only have two options.\n",
    "train_df_binarize['State'], train_df_binarize['Gender'] = train_df_binarize['SexuponOutcome'].str.split(' ', 1).str\n",
    "\n",
    "train_df_binarize['State'] = train_df_binarize['State'].map({'Neutered': 'Fixed', \n",
    "                                                             'Spayed': 'Fixed', \n",
    "                                                             'Intact': 'Intact'})\n",
    "train_df_binarize.head(1)"
   ]
  },
  {
   "cell_type": "code",
   "execution_count": 29,
   "metadata": {},
   "outputs": [
    {
     "data": {
      "text/html": [
       "<div>\n",
       "<style scoped>\n",
       "    .dataframe tbody tr th:only-of-type {\n",
       "        vertical-align: middle;\n",
       "    }\n",
       "\n",
       "    .dataframe tbody tr th {\n",
       "        vertical-align: top;\n",
       "    }\n",
       "\n",
       "    .dataframe thead th {\n",
       "        text-align: right;\n",
       "    }\n",
       "</style>\n",
       "<table border=\"1\" class=\"dataframe\">\n",
       "  <thead>\n",
       "    <tr style=\"text-align: right;\">\n",
       "      <th></th>\n",
       "      <th>AnimalID</th>\n",
       "      <th>Name</th>\n",
       "      <th>DateTime</th>\n",
       "      <th>OutcomeType</th>\n",
       "      <th>OutcomeSubtype</th>\n",
       "      <th>AnimalType</th>\n",
       "      <th>SexuponOutcome</th>\n",
       "      <th>AgeuponOutcome</th>\n",
       "      <th>Breed</th>\n",
       "      <th>Color</th>\n",
       "      <th>State</th>\n",
       "      <th>Gender</th>\n",
       "      <th>State(Fixed=1)</th>\n",
       "      <th>Gender(Male=1)</th>\n",
       "    </tr>\n",
       "  </thead>\n",
       "  <tbody>\n",
       "    <tr>\n",
       "      <th>0</th>\n",
       "      <td>A668817</td>\n",
       "      <td>NaN</td>\n",
       "      <td>2013-12-09 14:12:00</td>\n",
       "      <td>Adoption</td>\n",
       "      <td>Adopted</td>\n",
       "      <td>Dog</td>\n",
       "      <td>Spayed Female</td>\n",
       "      <td>208.0</td>\n",
       "      <td>Miniature Pinscher</td>\n",
       "      <td>Brown</td>\n",
       "      <td>Fixed</td>\n",
       "      <td>Female</td>\n",
       "      <td>1</td>\n",
       "      <td>0</td>\n",
       "    </tr>\n",
       "  </tbody>\n",
       "</table>\n",
       "</div>"
      ],
      "text/plain": [
       "  AnimalID Name            DateTime OutcomeType OutcomeSubtype AnimalType  \\\n",
       "0  A668817  NaN 2013-12-09 14:12:00    Adoption        Adopted        Dog   \n",
       "\n",
       "  SexuponOutcome  AgeuponOutcome               Breed  Color  State  Gender  \\\n",
       "0  Spayed Female           208.0  Miniature Pinscher  Brown  Fixed  Female   \n",
       "\n",
       "   State(Fixed=1)  Gender(Male=1)  \n",
       "0               1               0  "
      ]
     },
     "execution_count": 29,
     "metadata": {},
     "output_type": "execute_result"
    }
   ],
   "source": [
    "# Pick the column(s) to binarize.\n",
    "train_df_binarize_state = pd.get_dummies(train_df_binarize['State'])\n",
    "train_df_binarize_gender = pd.get_dummies(train_df_binarize['Gender'])\n",
    "\n",
    "# Only keep one, as we only have two variables.\n",
    "train_df_binarize_state = train_df_binarize_state['Fixed']\n",
    "train_df_binarize_gender = train_df_binarize_gender['Male']\n",
    "\n",
    "# Combine the state binarization and the original dataset.\n",
    "train_df_binarize = pd.concat([train_df_binarize, train_df_binarize_state, train_df_binarize_gender], axis=1)\n",
    "\n",
    "# Change the name of the columns that we just concatenated.\n",
    "train_df_binarize = train_df_binarize.rename(index=str, columns={'Fixed': 'State(Fixed=1)', \n",
    "                                                                 'Male': 'Gender(Male=1)'})\n",
    "                                                                 \n",
    "train_df_binarize.head(1)"
   ]
  },
  {
   "cell_type": "code",
   "execution_count": 30,
   "metadata": {},
   "outputs": [
    {
     "data": {
      "text/html": [
       "<div>\n",
       "<style scoped>\n",
       "    .dataframe tbody tr th:only-of-type {\n",
       "        vertical-align: middle;\n",
       "    }\n",
       "\n",
       "    .dataframe tbody tr th {\n",
       "        vertical-align: top;\n",
       "    }\n",
       "\n",
       "    .dataframe thead th {\n",
       "        text-align: right;\n",
       "    }\n",
       "</style>\n",
       "<table border=\"1\" class=\"dataframe\">\n",
       "  <thead>\n",
       "    <tr style=\"text-align: right;\">\n",
       "      <th></th>\n",
       "      <th>AnimalID</th>\n",
       "      <th>Name</th>\n",
       "      <th>DateTime</th>\n",
       "      <th>OutcomeType</th>\n",
       "      <th>OutcomeSubtype</th>\n",
       "      <th>AnimalType</th>\n",
       "      <th>SexuponOutcome</th>\n",
       "      <th>AgeuponOutcome</th>\n",
       "      <th>Breed</th>\n",
       "      <th>Color</th>\n",
       "      <th>...</th>\n",
       "      <th>Silver Tabby</th>\n",
       "      <th>Tan</th>\n",
       "      <th>Torbie</th>\n",
       "      <th>Tortie</th>\n",
       "      <th>Tortie Point</th>\n",
       "      <th>Tricolor</th>\n",
       "      <th>Unknown</th>\n",
       "      <th>White</th>\n",
       "      <th>Yellow</th>\n",
       "      <th>Yellow Brindle</th>\n",
       "    </tr>\n",
       "  </thead>\n",
       "  <tbody>\n",
       "    <tr>\n",
       "      <th>0</th>\n",
       "      <td>A668817</td>\n",
       "      <td>NaN</td>\n",
       "      <td>2013-12-09 14:12:00</td>\n",
       "      <td>Adoption</td>\n",
       "      <td>Adopted</td>\n",
       "      <td>Dog</td>\n",
       "      <td>Spayed Female</td>\n",
       "      <td>208.0</td>\n",
       "      <td>Miniature Pinscher</td>\n",
       "      <td>Brown</td>\n",
       "      <td>...</td>\n",
       "      <td>0</td>\n",
       "      <td>0</td>\n",
       "      <td>0</td>\n",
       "      <td>0</td>\n",
       "      <td>0</td>\n",
       "      <td>0</td>\n",
       "      <td>0</td>\n",
       "      <td>0</td>\n",
       "      <td>0</td>\n",
       "      <td>0</td>\n",
       "    </tr>\n",
       "  </tbody>\n",
       "</table>\n",
       "<p>1 rows × 394 columns</p>\n",
       "</div>"
      ],
      "text/plain": [
       "  AnimalID Name            DateTime OutcomeType OutcomeSubtype AnimalType  \\\n",
       "0  A668817  NaN 2013-12-09 14:12:00    Adoption        Adopted        Dog   \n",
       "\n",
       "  SexuponOutcome  AgeuponOutcome               Breed  Color  ... Silver Tabby  \\\n",
       "0  Spayed Female           208.0  Miniature Pinscher  Brown  ...            0   \n",
       "\n",
       "  Tan  Torbie  Tortie  Tortie Point  Tricolor  Unknown  White  Yellow  \\\n",
       "0   0       0       0             0         0        0      0       0   \n",
       "\n",
       "   Yellow Brindle  \n",
       "0               0  \n",
       "\n",
       "[1 rows x 394 columns]"
      ]
     },
     "execution_count": 30,
     "metadata": {},
     "output_type": "execute_result"
    }
   ],
   "source": [
    "# Pick the column(s) to binarize.\n",
    "train_df_binarize_animaltype = pd.get_dummies(train_df_binarize['AnimalType'])\n",
    "train_df_binarize_breed = pd.get_dummies(train_df_binarize['Breed'])\n",
    "train_df_binarize_color = pd.get_dummies(train_df_binarize['Color'])\n",
    "\n",
    "# Need to keep all of the columns, as we have more than two breeds.\n",
    "# Combine the breed binarization and the original dataset.\n",
    "train_df_binarize = pd.concat([train_df_binarize, train_df_binarize_animaltype, train_df_binarize_breed, \n",
    "                               train_df_binarize_color], axis=1)\n",
    "\n",
    "train_df_binarize.head(1)"
   ]
  },
  {
   "cell_type": "code",
   "execution_count": 31,
   "metadata": {},
   "outputs": [
    {
     "data": {
      "text/html": [
       "<div>\n",
       "<style scoped>\n",
       "    .dataframe tbody tr th:only-of-type {\n",
       "        vertical-align: middle;\n",
       "    }\n",
       "\n",
       "    .dataframe tbody tr th {\n",
       "        vertical-align: top;\n",
       "    }\n",
       "\n",
       "    .dataframe thead th {\n",
       "        text-align: right;\n",
       "    }\n",
       "</style>\n",
       "<table border=\"1\" class=\"dataframe\">\n",
       "  <thead>\n",
       "    <tr style=\"text-align: right;\">\n",
       "      <th></th>\n",
       "      <th>AnimalID</th>\n",
       "      <th>Name</th>\n",
       "      <th>DateTime</th>\n",
       "      <th>OutcomeType</th>\n",
       "      <th>OutcomeSubtype</th>\n",
       "      <th>AnimalType</th>\n",
       "      <th>SexuponOutcome</th>\n",
       "      <th>AgeuponOutcome</th>\n",
       "      <th>Breed</th>\n",
       "      <th>Color</th>\n",
       "      <th>...</th>\n",
       "      <th>Tan</th>\n",
       "      <th>Torbie</th>\n",
       "      <th>Tortie</th>\n",
       "      <th>Tortie Point</th>\n",
       "      <th>Tricolor</th>\n",
       "      <th>Unknown</th>\n",
       "      <th>White</th>\n",
       "      <th>Yellow</th>\n",
       "      <th>Yellow Brindle</th>\n",
       "      <th>AgeuponOutcome_norm</th>\n",
       "    </tr>\n",
       "  </thead>\n",
       "  <tbody>\n",
       "    <tr>\n",
       "      <th>0</th>\n",
       "      <td>A668817</td>\n",
       "      <td>NaN</td>\n",
       "      <td>2013-12-09 14:12:00</td>\n",
       "      <td>Adoption</td>\n",
       "      <td>Adopted</td>\n",
       "      <td>Dog</td>\n",
       "      <td>Spayed Female</td>\n",
       "      <td>208.0</td>\n",
       "      <td>Miniature Pinscher</td>\n",
       "      <td>Brown</td>\n",
       "      <td>...</td>\n",
       "      <td>0</td>\n",
       "      <td>0</td>\n",
       "      <td>0</td>\n",
       "      <td>0</td>\n",
       "      <td>0</td>\n",
       "      <td>0</td>\n",
       "      <td>0</td>\n",
       "      <td>0</td>\n",
       "      <td>0</td>\n",
       "      <td>0.2</td>\n",
       "    </tr>\n",
       "  </tbody>\n",
       "</table>\n",
       "<p>1 rows × 395 columns</p>\n",
       "</div>"
      ],
      "text/plain": [
       "  AnimalID Name            DateTime OutcomeType OutcomeSubtype AnimalType  \\\n",
       "0  A668817  NaN 2013-12-09 14:12:00    Adoption        Adopted        Dog   \n",
       "\n",
       "  SexuponOutcome  AgeuponOutcome               Breed  Color  ... Tan Torbie  \\\n",
       "0  Spayed Female           208.0  Miniature Pinscher  Brown  ...   0      0   \n",
       "\n",
       "   Tortie  Tortie Point  Tricolor  Unknown  White  Yellow  Yellow Brindle  \\\n",
       "0       0             0         0        0      0       0               0   \n",
       "\n",
       "   AgeuponOutcome_norm  \n",
       "0                  0.2  \n",
       "\n",
       "[1 rows x 395 columns]"
      ]
     },
     "execution_count": 31,
     "metadata": {},
     "output_type": "execute_result"
    }
   ],
   "source": [
    "# Normalize age upon outcome.\n",
    "train_df_binarize['AgeuponOutcome_norm'] = train_df_binarize['AgeuponOutcome']/max(train_df_binarize['AgeuponOutcome'])\n",
    "\n",
    "train_df_binarize.head(1)"
   ]
  },
  {
   "cell_type": "code",
   "execution_count": 32,
   "metadata": {},
   "outputs": [
    {
     "data": {
      "text/html": [
       "<div>\n",
       "<style scoped>\n",
       "    .dataframe tbody tr th:only-of-type {\n",
       "        vertical-align: middle;\n",
       "    }\n",
       "\n",
       "    .dataframe tbody tr th {\n",
       "        vertical-align: top;\n",
       "    }\n",
       "\n",
       "    .dataframe thead th {\n",
       "        text-align: right;\n",
       "    }\n",
       "</style>\n",
       "<table border=\"1\" class=\"dataframe\">\n",
       "  <thead>\n",
       "    <tr style=\"text-align: right;\">\n",
       "      <th></th>\n",
       "      <th>AnimalID</th>\n",
       "      <th>Name</th>\n",
       "      <th>DateTime</th>\n",
       "      <th>OutcomeType</th>\n",
       "      <th>OutcomeSubtype</th>\n",
       "      <th>AnimalType</th>\n",
       "      <th>SexuponOutcome</th>\n",
       "      <th>AgeuponOutcome</th>\n",
       "      <th>Breed</th>\n",
       "      <th>Color</th>\n",
       "      <th>...</th>\n",
       "      <th>Tan</th>\n",
       "      <th>Torbie</th>\n",
       "      <th>Tortie</th>\n",
       "      <th>Tortie Point</th>\n",
       "      <th>Tricolor</th>\n",
       "      <th>Unknown</th>\n",
       "      <th>White</th>\n",
       "      <th>Yellow</th>\n",
       "      <th>Yellow Brindle</th>\n",
       "      <th>AgeuponOutcome_norm</th>\n",
       "    </tr>\n",
       "  </thead>\n",
       "  <tbody>\n",
       "    <tr>\n",
       "      <th>0</th>\n",
       "      <td>A668817</td>\n",
       "      <td>NaN</td>\n",
       "      <td>2013-12-09 14:12:00</td>\n",
       "      <td>Adoption</td>\n",
       "      <td>Adopted</td>\n",
       "      <td>Dog</td>\n",
       "      <td>Spayed Female</td>\n",
       "      <td>208.0</td>\n",
       "      <td>Miniature Pinscher</td>\n",
       "      <td>Brown</td>\n",
       "      <td>...</td>\n",
       "      <td>0</td>\n",
       "      <td>0</td>\n",
       "      <td>0</td>\n",
       "      <td>0</td>\n",
       "      <td>0</td>\n",
       "      <td>0</td>\n",
       "      <td>0</td>\n",
       "      <td>0</td>\n",
       "      <td>0</td>\n",
       "      <td>0.2</td>\n",
       "    </tr>\n",
       "  </tbody>\n",
       "</table>\n",
       "<p>1 rows × 395 columns</p>\n",
       "</div>"
      ],
      "text/plain": [
       "  AnimalID Name            DateTime OutcomeType OutcomeSubtype AnimalType  \\\n",
       "0  A668817  NaN 2013-12-09 14:12:00    Adoption        Adopted        Dog   \n",
       "\n",
       "  SexuponOutcome  AgeuponOutcome               Breed  Color  ... Tan Torbie  \\\n",
       "0  Spayed Female           208.0  Miniature Pinscher  Brown  ...   0      0   \n",
       "\n",
       "   Tortie  Tortie Point  Tricolor  Unknown  White  Yellow  Yellow Brindle  \\\n",
       "0       0             0         0        0      0       0               0   \n",
       "\n",
       "   AgeuponOutcome_norm  \n",
       "0                  0.2  \n",
       "\n",
       "[1 rows x 395 columns]"
      ]
     },
     "execution_count": 32,
     "metadata": {},
     "output_type": "execute_result"
    }
   ],
   "source": [
    "# Fill NaN values with the median value for the column.\n",
    "train_df_binarize['AgeuponOutcome_norm'].fillna(train_df_binarize['AgeuponOutcome_norm'].median(), inplace=True)\n",
    "\n",
    "train_df_binarize.head(1)"
   ]
  },
  {
   "cell_type": "markdown",
   "metadata": {},
   "source": [
    "As discussed above, we decided not to binarize the `Name` variable, as the dataset has over 6,000 unique names. With just over 26,700 rows in the dataset, and names only present in just over 19,000, we believed that the dataset would be too sparse if we created a unique column for each name. The sparsity would lead to the names likely not being very good features in predicting animal outcomes."
   ]
  },
  {
   "cell_type": "code",
   "execution_count": 33,
   "metadata": {},
   "outputs": [
    {
     "name": "stdout",
     "output_type": "stream",
     "text": [
      "Num of columns: 395 \n",
      "and columns: ['AnimalID', 'Name', 'DateTime', 'OutcomeType', 'OutcomeSubtype', 'AnimalType', 'SexuponOutcome', 'AgeuponOutcome', 'Breed', 'Color', 'State', 'Gender', 'State(Fixed=1)', 'Gender(Male=1)', 'Cat', 'Dog', 'Other', 'Abyssinian', 'Affenpinscher', 'Afghan Hound', 'Airedale Terrier', 'Akbash', 'Akita', 'Alaskan Husky', 'Alaskan Malamute', 'American', 'American Bulldog', 'American Curl Shorthair', 'American Eskimo', 'American Foxhound', 'American Pit Bull Terrier', 'American Sable', 'American Shorthair', 'American Staffordshire Terrier', 'Anatol Shepherd', 'Angora', 'Angora-English', 'Angora-French', 'Angora-Satin', 'Armadillo', 'Australian Cattle Dog', 'Australian Kelpie', 'Australian Shepherd', 'Australian Terrier', 'Balinese', 'Basenji', 'Basset Hound', 'Bat', 'Beagle', 'Bearded Collie', 'Beauceron', 'Bedlington Terr', 'Belgian Hare', 'Belgian Malinois', 'Belgian Sheepdog', 'Belgian Tervuren', 'Bengal', 'Bernese Mountain Dog', 'Beveren', 'Bichon Frise', 'Birman', 'Black Mouth Cur', 'Black/Tan Hound', 'Bloodhound', 'Blue Lacy', 'Bluetick Hound', 'Bobcat', 'Boerboel', 'Bombay', 'Border Collie', 'Border Terrier', 'Borzoi', 'Boston Terrier', 'Boxer', 'Boykin Span', 'Briard', 'Britannia Petit', 'British Shorthair', 'Brittany', 'Bruss Griffon', 'Bull Terrier', 'Bull Terrier Miniature', 'Bulldog', 'Bullmastiff', 'Burmese', 'Cairn Terrier', 'Californian', 'Canaan Dog', 'Cane Corso', 'Cardigan Welsh Corgi', 'Carolina Dog', 'Catahoula', 'Cavalier Span', 'Chartreux', 'Chesa Bay Retr', 'Chihuahua Longhair', 'Chihuahua Shorthair', 'Chinchilla', 'Chinchilla-Amer', 'Chinchilla-Stnd', 'Chinese Crested', 'Chinese Sharpei', 'Chow Chow', 'Cinnamon', 'Cirneco', 'Clumber Spaniel', 'Cocker Spaniel', 'Cold Water', 'Collie Rough', 'Collie Smooth', 'Colorpoint', 'Cornish Rex', 'Coton De Tulear', 'Cottontail', 'Coyote', 'Cymric', 'Dachshund', 'Dachshund Longhair', 'Dachshund Stan', 'Dachshund Wirehair', 'Dalmatian', 'Dandie Dinmont', 'Deer', 'Devon Rex', 'Doberman Pinsch', 'Dogo Argentino', 'Dogue De Bordeaux', 'Domestic Longhair', 'Domestic Medium Hair', 'Domestic Shorthair', 'Dutch', 'Dutch Sheepdog', 'Dutch Shepherd', 'Dwarf Hotot', 'Eng Toy Spaniel', 'English Bulldog', 'English Cocker Spaniel', 'English Coonhound', 'English Foxhound', 'English Pointer', 'English Setter', 'English Shepherd', 'English Spot', 'English Springer Spaniel', 'Entlebucher', 'Exotic Shorthair', 'Feist', 'Ferret', 'Field Spaniel', 'Finnish Spitz', 'Flat Coat Retriever', 'Flemish Giant', 'Fox', 'French Bulldog', 'Frog', 'Gerbil', 'German Pinscher', 'German Shepherd', 'German Shorthair Pointer', 'German Wirehaired Pointer', 'Glen Of Imaal', 'Golden Retriever', 'Gordon Setter', 'Grand Basset Griffon Vendeen', 'Great Dane', 'Great Pyrenees', 'Greater Swiss Mountain Dog', 'Greyhound', 'Guinea Pig', 'Hamster', 'Harrier', 'Havana', 'Havana Brown', 'Havanese', 'Hedgehog', 'Hermit Crab', 'Himalayan', 'Hotot', 'Hovawart', 'Ibizan Hound', 'Irish Setter', 'Irish Terrier', 'Irish Wolfhound', 'Italian Greyhound', 'Jack Russell Terrier', 'Japanese Bobtail', 'Japanese Chin', 'Javanese', 'Jindo', 'Kangal', 'Keeshond', 'Kuvasz', 'Labrador Retriever', 'Lakeland Terrier', 'Landseer', 'Leonberger', 'Lhasa Apso', 'Lionhead', 'Lizard', 'Lop-Amer Fuzzy', 'Lop-English', 'Lop-Holland', 'Lop-Mini', 'Lowchen', 'Maine Coon', 'Maltese', 'Manchester Terrier', 'Manx', 'Mastiff', 'Mexican Hairless', 'Miniature Pinscher', 'Miniature Poodle', 'Miniature Schnauzer', 'Mouse', 'Munchkin Longhair', 'Munchkin Shorthair', 'Neapolitan Mastiff', 'Netherlnd Dwarf', 'New Zealand Wht', 'Newfoundland', 'Norfolk Terrier', 'Norwegian Elkhound', 'Norwegian Forest Cat', 'Norwich Terrier', 'Nova Scotia Duck Tolling Retriever', 'Ocicat', 'Old English Bulldog', 'Old English Sheepdog', 'Opossum', 'Oriental Sh', 'Otter', 'Otterhound', 'Papillon', 'Parson Russell Terrier', 'Patterdale Terr', 'Pbgv', 'Pekingese', 'Pembroke Welsh Corgi', 'Persian', 'Pharaoh Hound', 'Picardy Sheepdog', 'Pit Bull', 'Pixiebob Shorthair', 'Plott Hound', 'Podengo Pequeno', 'Pointer', 'Polish', 'Pomeranian', 'Port Water Dog', 'Prairie Dog', 'Presa Canario', 'Pug', 'Python', 'Queensland Heeler', 'Rabbit Lh', 'Rabbit Sh', 'Raccoon', 'Ragdoll', 'Rat', 'Rat Terrier', 'Redbone Hound', 'Rex', 'Rex-Mini', 'Rhinelander', 'Rhod Ridgeback', 'Ringtail', 'Rottweiler', 'Russian Blue', 'Saluki', 'Samoyed', 'Schipperke', 'Schnauzer Giant', 'Scottish Fold', 'Scottish Terrier', 'Sealyham Terr', 'Shetland Sheepdog', 'Shiba Inu', 'Shih Tzu', 'Siamese', 'Siberian Husky', 'Silky Terrier', 'Skunk', 'Skye Terrier', 'Smooth Fox Terrier', 'Snake', 'Snowshoe', 'Soft Coated Wheaten Terrier', 'Spanish Mastiff', 'Spanish Water Dog', 'Sphynx', 'Spinone Italiano', 'Squirrel', 'St. Bernard Rough Coat', 'St. Bernard Smooth Coat', 'Staffordshire', 'Standard Poodle', 'Standard Schnauzer', 'Sugar Glider', 'Sussex Span', 'Swedish Vallhund', 'Tan Hound', 'Tan Hound/Beagle', 'Tan Hound/Black Mouth Cur', 'Tan Hound/Doberman Pinsch', 'Tan Hound/German Shepherd', 'Tan Hound/Great Dane', 'Tan Hound/Labrador Retriever', 'Tan Hound/Siberian Husky', 'Tarantula', 'Tibetan Spaniel', 'Tibetan Terrier', 'Tonkinese', 'Tortoise', 'Toy Fox Terrier', 'Toy Poodle', 'Treeing Cur', 'Treeing Tennesse Brindle', 'Treeing Walker Coonhound', 'Tropical', 'Turkish Angora', 'Turkish Van', 'Turtle', 'Unknown', 'Vizsla', 'Weimaraner', 'Welsh Springer Spaniel', 'Welsh Terrier', 'West Highland', 'Whippet', 'Wire Hair Fox Terrier', 'Wirehaired Pointing Griffon', 'Wolf Hybrid', 'Yorkshire', 'Yorkshire Terrier', 'Agouti', 'Apricot', 'Black', 'Black Brindle', 'Black Smoke', 'Black Tabby', 'Black Tiger', 'Blue', 'Blue Cream', 'Blue Merle', 'Blue Point', 'Blue Smoke', 'Blue Tabby', 'Blue Tick', 'Blue Tiger', 'Brown', 'Brown Brindle', 'Brown Merle', 'Brown Tabby', 'Brown Tiger', 'Buff', 'Calico', 'Calico Point', 'Chocolate', 'Chocolate Point', 'Cream', 'Cream Tabby', 'Cream Tiger', 'Fawn', 'Flame Point', 'Gold', 'Gray', 'Gray Tabby', 'Gray Tiger', 'Green', 'Lilac Point', 'Liver', 'Liver Tick', 'Lynx Point', 'Orange', 'Orange Tabby', 'Orange Tiger', 'Pink', 'Red', 'Red Merle', 'Red Tick', 'Sable', 'Seal Point', 'Silver', 'Silver Lynx Point', 'Silver Tabby', 'Tan', 'Torbie', 'Tortie', 'Tortie Point', 'Tricolor', 'Unknown', 'White', 'Yellow', 'Yellow Brindle', 'AgeuponOutcome_norm']"
     ]
    }
   ],
   "source": [
    "# Print full list of columns from binarization to check work.\n",
    "print(\"Num of columns:\", len(list(train_df_binarize.columns.values)), \n",
    "      \"\\nand columns:\", list(train_df_binarize.columns.values),end=\"\")"
   ]
  },
  {
   "cell_type": "code",
   "execution_count": 34,
   "metadata": {},
   "outputs": [
    {
     "name": "stdout",
     "output_type": "stream",
     "text": [
      "Sparsity of the binarized training set: 95.66 %\n"
     ]
    }
   ],
   "source": [
    "# Check sparsity of the training set.\n",
    "print(\"Sparsity of the binarized training set:\", '%.2f'%(100*((np.product(train_df_binarize.shape) - np.count_nonzero(train_df_binarize))/np.product(train_df_binarize.shape))),\"%\")"
   ]
  },
  {
   "cell_type": "markdown",
   "metadata": {},
   "source": [
    "Despite the feature consolidation, the binarization resulted in a very sparse data set."
   ]
  },
  {
   "cell_type": "code",
   "execution_count": 35,
   "metadata": {},
   "outputs": [],
   "source": [
    "# Export a CSV record of the dataset.\n",
    "if not os.path.exists('./data'):\n",
    "        os.makedirs('./data')\n",
    "        \n",
    "train_df_binarize.to_csv('./data/train_df_binarization.csv')"
   ]
  },
  {
   "cell_type": "markdown",
   "metadata": {},
   "source": [
    "## Test Data Transformations and Binarization"
   ]
  },
  {
   "cell_type": "markdown",
   "metadata": {},
   "source": [
    "Our features have to be consistent between the training and test datasets for prediction purposes. Therefore, we are making the same feature transformations and binarizations of our test dataset."
   ]
  },
  {
   "cell_type": "code",
   "execution_count": 36,
   "metadata": {},
   "outputs": [
    {
     "data": {
      "text/html": [
       "<div>\n",
       "<style scoped>\n",
       "    .dataframe tbody tr th:only-of-type {\n",
       "        vertical-align: middle;\n",
       "    }\n",
       "\n",
       "    .dataframe tbody tr th {\n",
       "        vertical-align: top;\n",
       "    }\n",
       "\n",
       "    .dataframe thead th {\n",
       "        text-align: right;\n",
       "    }\n",
       "</style>\n",
       "<table border=\"1\" class=\"dataframe\">\n",
       "  <thead>\n",
       "    <tr style=\"text-align: right;\">\n",
       "      <th></th>\n",
       "      <th>ID</th>\n",
       "      <th>Name</th>\n",
       "      <th>DateTime</th>\n",
       "      <th>AnimalType</th>\n",
       "      <th>SexuponOutcome</th>\n",
       "      <th>AgeuponOutcome</th>\n",
       "      <th>Breed</th>\n",
       "      <th>Color</th>\n",
       "    </tr>\n",
       "  </thead>\n",
       "  <tbody>\n",
       "    <tr>\n",
       "      <th>0</th>\n",
       "      <td>0</td>\n",
       "      <td>NaN</td>\n",
       "      <td>2014-05-02T18:36:00.000</td>\n",
       "      <td>Dog</td>\n",
       "      <td>Neutered Male</td>\n",
       "      <td>5 months</td>\n",
       "      <td>Yorkshire Terrier Mix</td>\n",
       "      <td>Silver/Tan</td>\n",
       "    </tr>\n",
       "  </tbody>\n",
       "</table>\n",
       "</div>"
      ],
      "text/plain": [
       "   ID Name                 DateTime AnimalType SexuponOutcome AgeuponOutcome  \\\n",
       "0   0  NaN  2014-05-02T18:36:00.000        Dog  Neutered Male       5 months   \n",
       "\n",
       "                   Breed       Color  \n",
       "0  Yorkshire Terrier Mix  Silver/Tan  "
      ]
     },
     "execution_count": 36,
     "metadata": {},
     "output_type": "execute_result"
    }
   ],
   "source": [
    "test_df_binarize = test_df.copy()\n",
    "test_df_binarize.head(1)"
   ]
  },
  {
   "cell_type": "code",
   "execution_count": 37,
   "metadata": {},
   "outputs": [
    {
     "data": {
      "text/html": [
       "<div>\n",
       "<style scoped>\n",
       "    .dataframe tbody tr th:only-of-type {\n",
       "        vertical-align: middle;\n",
       "    }\n",
       "\n",
       "    .dataframe tbody tr th {\n",
       "        vertical-align: top;\n",
       "    }\n",
       "\n",
       "    .dataframe thead th {\n",
       "        text-align: right;\n",
       "    }\n",
       "</style>\n",
       "<table border=\"1\" class=\"dataframe\">\n",
       "  <thead>\n",
       "    <tr style=\"text-align: right;\">\n",
       "      <th></th>\n",
       "      <th>ID</th>\n",
       "      <th>Name</th>\n",
       "      <th>DateTime</th>\n",
       "      <th>AnimalType</th>\n",
       "      <th>SexuponOutcome</th>\n",
       "      <th>AgeuponOutcome</th>\n",
       "      <th>Breed</th>\n",
       "      <th>Color</th>\n",
       "      <th>State</th>\n",
       "      <th>Gender</th>\n",
       "    </tr>\n",
       "  </thead>\n",
       "  <tbody>\n",
       "    <tr>\n",
       "      <th>0</th>\n",
       "      <td>0</td>\n",
       "      <td>NaN</td>\n",
       "      <td>2014-05-02T18:36:00.000</td>\n",
       "      <td>Dog</td>\n",
       "      <td>Neutered Male</td>\n",
       "      <td>5 months</td>\n",
       "      <td>Yorkshire Terrier Mix</td>\n",
       "      <td>Silver/Tan</td>\n",
       "      <td>Fixed</td>\n",
       "      <td>Male</td>\n",
       "    </tr>\n",
       "  </tbody>\n",
       "</table>\n",
       "</div>"
      ],
      "text/plain": [
       "   ID Name                 DateTime AnimalType SexuponOutcome AgeuponOutcome  \\\n",
       "0   0  NaN  2014-05-02T18:36:00.000        Dog  Neutered Male       5 months   \n",
       "\n",
       "                   Breed       Color  State Gender  \n",
       "0  Yorkshire Terrier Mix  Silver/Tan  Fixed   Male  "
      ]
     },
     "execution_count": 37,
     "metadata": {},
     "output_type": "execute_result"
    }
   ],
   "source": [
    "# Split SexuponOutcome into variables, so that both will only have two options as we did for the training dataset.\n",
    "test_df_binarize['State'], test_df_binarize['Gender'] = test_df_binarize['SexuponOutcome'].str.split(' ', 1).str\n",
    "\n",
    "test_df_binarize['State'] = test_df_binarize['State'].map({'Neutered': 'Fixed', \n",
    "                                                             'Spayed': 'Fixed', \n",
    "                                                             'Intact': 'Intact'})\n",
    "test_df_binarize.head(1)"
   ]
  },
  {
   "cell_type": "code",
   "execution_count": 38,
   "metadata": {},
   "outputs": [],
   "source": [
    "# Map all AgeuponOutcome values to numbers as we did in the test dataset. Mapped to weeks and rounded to the nearest week.\n",
    "test_df_binarize['AgeuponOutcome'] = test_df_binarize['AgeuponOutcome'].map({'1 week': 1, '1 weeks': 1, '2 weeks': 2, \n",
    "                                                                             '3 weeks': 3, '4 weeks': 4, '5 weeks': 5, \n",
    "                                                                             '1 month': 4, '2 months': 9, '3 months': 13, \n",
    "                                                                             '4 months': 17, '5 months': 21, '6 months': 26, \n",
    "                                                                             '7 months': 30, '8 months': 34, '9 months': 38, \n",
    "                                                                             '10 months': 43, '11 months': 47, '1 year': 52, \n",
    "                                                                             '2 years': 204, '3 years': 156, '4 years': 208, \n",
    "                                                                             '5 years': 260, '6 years': 312, '7 years': 364, \n",
    "                                                                             '8 years': 416, '9 years': 468, '10 years': 520, \n",
    "                                                                             '11 years': 572, '12 years': 624, '13 years': 676, \n",
    "                                                                             '14 years': 728, '15 years': 780, '16 years': 832, \n",
    "                                                                             '17 years': 884, '18 years': 936, '20 years': 1040, \n",
    "                                                                             '0 years': 26, '1 day': 0, '2 days': 0, '3 days': 0, \n",
    "                                                                             '4 days': 0, '5 days': 0, '6 days': 0})"
   ]
  },
  {
   "cell_type": "code",
   "execution_count": 39,
   "metadata": {},
   "outputs": [],
   "source": [
    "# Change breed types that we changed in train to accurately match test.\n",
    "# Remove the secondary breed name.\n",
    "def split_breed(x):\n",
    "    if '/' in x['Breed'] : return x['Breed'].split('/', 1)[1]\n",
    "    else : return x['Breed']\n",
    "    \n",
    "test_df_binarize['Breed'] = test_df_binarize.apply(split_breed, axis=1)"
   ]
  },
  {
   "cell_type": "code",
   "execution_count": 40,
   "metadata": {},
   "outputs": [],
   "source": [
    "# Remove the word \"mix\" from the breed type.\n",
    "test_df_binarize['Breed'] = test_df_binarize['Breed'].str.replace(' Mix', '')"
   ]
  },
  {
   "cell_type": "code",
   "execution_count": 41,
   "metadata": {},
   "outputs": [],
   "source": [
    "# Remove the secondary color name to focus on principal color as we did in training set.\n",
    "def split_color(x):\n",
    "    if '/' in x['Color'] : return x['Color'].split('/', 1)[1]\n",
    "    else : return x['Color']\n",
    "    \n",
    "test_df_binarize['Color'] = test_df_binarize.apply(split_color, axis=1)"
   ]
  },
  {
   "cell_type": "code",
   "execution_count": 42,
   "metadata": {},
   "outputs": [],
   "source": [
    "# Pick the column(s) to binarize.\n",
    "test_df_binarize_state = pd.get_dummies(test_df_binarize['State'])\n",
    "test_df_binarize_gender = pd.get_dummies(test_df_binarize['Gender'])\n",
    "\n",
    "# Only keep one, as we only have two variables.\n",
    "test_df_binarize_state = test_df_binarize_state['Fixed']\n",
    "test_df_binarize_gender = test_df_binarize_gender['Male']\n",
    "\n",
    "# Combine the state binarization and the original dataset.\n",
    "test_df_binarize = pd.concat([test_df_binarize, test_df_binarize_state, test_df_binarize_gender], axis=1)\n",
    "\n",
    "# Change the name of the columns that we just concatenated.\n",
    "test_df_binarize = test_df_binarize.rename(index=str, columns={'Fixed': 'State(Fixed=1)',\n",
    "                                                               'Male': 'Gender(Male=1)'})         "
   ]
  },
  {
   "cell_type": "code",
   "execution_count": 43,
   "metadata": {},
   "outputs": [],
   "source": [
    "# Pick the column(s) to binarize.\n",
    "test_df_binarize_animaltype = pd.get_dummies(test_df_binarize['AnimalType'])\n",
    "test_df_binarize_breed = pd.get_dummies(test_df_binarize['Breed'])\n",
    "test_df_binarize_color = pd.get_dummies(test_df_binarize['Color'])\n",
    "\n",
    "# Need to keep all of the columns, as we have more than two breeds.\n",
    "# Combine the breed binarization and the original dataset.\n",
    "test_df_binarize = pd.concat([test_df_binarize, test_df_binarize_animaltype, \n",
    "                              test_df_binarize_breed, test_df_binarize_color], axis=1)\n",
    "\n",
    "# Normalize age upon outcome on training set maximium.\n",
    "test_df_binarize['AgeuponOutcome_norm'] = test_df_binarize['AgeuponOutcome']/max(train_df_binarize['AgeuponOutcome'])\n",
    "test_df_binarize['AgeuponOutcome_norm'].fillna(test_df_binarize['AgeuponOutcome_norm'].median(), inplace=True)"
   ]
  },
  {
   "cell_type": "code",
   "execution_count": 44,
   "metadata": {},
   "outputs": [
    {
     "data": {
      "text/html": [
       "<div>\n",
       "<style scoped>\n",
       "    .dataframe tbody tr th:only-of-type {\n",
       "        vertical-align: middle;\n",
       "    }\n",
       "\n",
       "    .dataframe tbody tr th {\n",
       "        vertical-align: top;\n",
       "    }\n",
       "\n",
       "    .dataframe thead th {\n",
       "        text-align: right;\n",
       "    }\n",
       "</style>\n",
       "<table border=\"1\" class=\"dataframe\">\n",
       "  <thead>\n",
       "    <tr style=\"text-align: right;\">\n",
       "      <th></th>\n",
       "      <th>ID</th>\n",
       "      <th>Name</th>\n",
       "      <th>DateTime</th>\n",
       "      <th>AnimalType</th>\n",
       "      <th>SexuponOutcome</th>\n",
       "      <th>AgeuponOutcome</th>\n",
       "      <th>Breed</th>\n",
       "      <th>Color</th>\n",
       "      <th>State</th>\n",
       "      <th>Gender</th>\n",
       "      <th>...</th>\n",
       "      <th>Tan</th>\n",
       "      <th>Torbie</th>\n",
       "      <th>Tortie</th>\n",
       "      <th>Tortie Point</th>\n",
       "      <th>Tricolor</th>\n",
       "      <th>Unknown</th>\n",
       "      <th>White</th>\n",
       "      <th>Yellow</th>\n",
       "      <th>Yellow Brindle</th>\n",
       "      <th>AgeuponOutcome_norm</th>\n",
       "    </tr>\n",
       "  </thead>\n",
       "  <tbody>\n",
       "    <tr>\n",
       "      <th>0</th>\n",
       "      <td>0</td>\n",
       "      <td>NaN</td>\n",
       "      <td>2014-05-02T18:36:00.000</td>\n",
       "      <td>Dog</td>\n",
       "      <td>Neutered Male</td>\n",
       "      <td>21.0</td>\n",
       "      <td>Yorkshire Terrier</td>\n",
       "      <td>Tan</td>\n",
       "      <td>Fixed</td>\n",
       "      <td>Male</td>\n",
       "      <td>...</td>\n",
       "      <td>1</td>\n",
       "      <td>0</td>\n",
       "      <td>0</td>\n",
       "      <td>0</td>\n",
       "      <td>0</td>\n",
       "      <td>0</td>\n",
       "      <td>0</td>\n",
       "      <td>0</td>\n",
       "      <td>0</td>\n",
       "      <td>0.020192</td>\n",
       "    </tr>\n",
       "    <tr>\n",
       "      <th>1</th>\n",
       "      <td>1</td>\n",
       "      <td>Sweetie</td>\n",
       "      <td>2015-02-25T18:36:00.000</td>\n",
       "      <td>Dog</td>\n",
       "      <td>Spayed Female</td>\n",
       "      <td>312.0</td>\n",
       "      <td>Dachshund</td>\n",
       "      <td>Tan</td>\n",
       "      <td>Fixed</td>\n",
       "      <td>Female</td>\n",
       "      <td>...</td>\n",
       "      <td>1</td>\n",
       "      <td>0</td>\n",
       "      <td>0</td>\n",
       "      <td>0</td>\n",
       "      <td>0</td>\n",
       "      <td>0</td>\n",
       "      <td>0</td>\n",
       "      <td>0</td>\n",
       "      <td>0</td>\n",
       "      <td>0.300000</td>\n",
       "    </tr>\n",
       "    <tr>\n",
       "      <th>2</th>\n",
       "      <td>2</td>\n",
       "      <td>Brownie</td>\n",
       "      <td>2016-01-05T18:49:00.000</td>\n",
       "      <td>Dog</td>\n",
       "      <td>Spayed Female</td>\n",
       "      <td>364.0</td>\n",
       "      <td>Pit Bull</td>\n",
       "      <td>Brown</td>\n",
       "      <td>Fixed</td>\n",
       "      <td>Female</td>\n",
       "      <td>...</td>\n",
       "      <td>0</td>\n",
       "      <td>0</td>\n",
       "      <td>0</td>\n",
       "      <td>0</td>\n",
       "      <td>0</td>\n",
       "      <td>0</td>\n",
       "      <td>0</td>\n",
       "      <td>0</td>\n",
       "      <td>0</td>\n",
       "      <td>0.350000</td>\n",
       "    </tr>\n",
       "    <tr>\n",
       "      <th>3</th>\n",
       "      <td>3</td>\n",
       "      <td>Tater Tot</td>\n",
       "      <td>2017-05-31T12:49:00.000</td>\n",
       "      <td>Dog</td>\n",
       "      <td>Neutered Male</td>\n",
       "      <td>52.0</td>\n",
       "      <td>Boston Terrier</td>\n",
       "      <td>White</td>\n",
       "      <td>Fixed</td>\n",
       "      <td>Male</td>\n",
       "      <td>...</td>\n",
       "      <td>0</td>\n",
       "      <td>0</td>\n",
       "      <td>0</td>\n",
       "      <td>0</td>\n",
       "      <td>0</td>\n",
       "      <td>0</td>\n",
       "      <td>1</td>\n",
       "      <td>0</td>\n",
       "      <td>0</td>\n",
       "      <td>0.050000</td>\n",
       "    </tr>\n",
       "    <tr>\n",
       "      <th>4</th>\n",
       "      <td>4</td>\n",
       "      <td>NaN</td>\n",
       "      <td>2020-08-20T15:37:00.000</td>\n",
       "      <td>Other</td>\n",
       "      <td>Unknown</td>\n",
       "      <td>204.0</td>\n",
       "      <td>Bat</td>\n",
       "      <td>Black</td>\n",
       "      <td>NaN</td>\n",
       "      <td>NaN</td>\n",
       "      <td>...</td>\n",
       "      <td>0</td>\n",
       "      <td>0</td>\n",
       "      <td>0</td>\n",
       "      <td>0</td>\n",
       "      <td>0</td>\n",
       "      <td>0</td>\n",
       "      <td>0</td>\n",
       "      <td>0</td>\n",
       "      <td>0</td>\n",
       "      <td>0.196154</td>\n",
       "    </tr>\n",
       "  </tbody>\n",
       "</table>\n",
       "<p>5 rows × 339 columns</p>\n",
       "</div>"
      ],
      "text/plain": [
       "   ID       Name                 DateTime AnimalType SexuponOutcome  \\\n",
       "0   0        NaN  2014-05-02T18:36:00.000        Dog  Neutered Male   \n",
       "1   1    Sweetie  2015-02-25T18:36:00.000        Dog  Spayed Female   \n",
       "2   2    Brownie  2016-01-05T18:49:00.000        Dog  Spayed Female   \n",
       "3   3  Tater Tot  2017-05-31T12:49:00.000        Dog  Neutered Male   \n",
       "4   4        NaN  2020-08-20T15:37:00.000      Other        Unknown   \n",
       "\n",
       "   AgeuponOutcome              Breed  Color  State  Gender  ...  Tan  Torbie  \\\n",
       "0            21.0  Yorkshire Terrier    Tan  Fixed    Male  ...    1       0   \n",
       "1           312.0          Dachshund    Tan  Fixed  Female  ...    1       0   \n",
       "2           364.0           Pit Bull  Brown  Fixed  Female  ...    0       0   \n",
       "3            52.0     Boston Terrier  White  Fixed    Male  ...    0       0   \n",
       "4           204.0                Bat  Black    NaN     NaN  ...    0       0   \n",
       "\n",
       "   Tortie  Tortie Point  Tricolor  Unknown  White  Yellow  Yellow Brindle  \\\n",
       "0       0             0         0        0      0       0               0   \n",
       "1       0             0         0        0      0       0               0   \n",
       "2       0             0         0        0      0       0               0   \n",
       "3       0             0         0        0      1       0               0   \n",
       "4       0             0         0        0      0       0               0   \n",
       "\n",
       "   AgeuponOutcome_norm  \n",
       "0             0.020192  \n",
       "1             0.300000  \n",
       "2             0.350000  \n",
       "3             0.050000  \n",
       "4             0.196154  \n",
       "\n",
       "[5 rows x 339 columns]"
      ]
     },
     "execution_count": 44,
     "metadata": {},
     "output_type": "execute_result"
    }
   ],
   "source": [
    "test_df_binarize.head()"
   ]
  },
  {
   "cell_type": "code",
   "execution_count": 45,
   "metadata": {},
   "outputs": [],
   "source": [
    "test_df_binarize.rename(columns = {'ID':'AnimalID'}, inplace = True)"
   ]
  },
  {
   "cell_type": "code",
   "execution_count": 46,
   "metadata": {},
   "outputs": [
    {
     "name": "stdout",
     "output_type": "stream",
     "text": [
      "Num of columns: 339 \n",
      "and columns: ['AnimalID', 'Name', 'DateTime', 'AnimalType', 'SexuponOutcome', 'AgeuponOutcome', 'Breed', 'Color', 'State', 'Gender', 'State(Fixed=1)', 'Gender(Male=1)', 'Cat', 'Dog', 'Other', 'Abyssinian', 'Affenpinscher', 'Airedale Terrier', 'Akbash', 'Akita', 'Alaskan Husky', 'Alaskan Klee Kai', 'Alaskan Malamute', 'American', 'American Bulldog', 'American Curl Shorthair', 'American Eskimo', 'American Foxhound', 'American Pit Bull Terrier', 'American Sable', 'American Shorthair', 'American Staffordshire Terrier', 'American Wirehair', 'Anatol Shepherd', 'Angora', 'Angora-French', 'Armadillo', 'Australian Cattle Dog', 'Australian Kelpie', 'Australian Shepherd', 'Australian Terrier', 'Balinese', 'Basenji', 'Basset Hound', 'Bat', 'Beagle', 'Bearded Collie', 'Beauceron', 'Belgian Hare', 'Belgian Malinois', 'Belgian Sheepdog', 'Belgian Tervuren', 'Bengal', 'Bernese Mountain Dog', 'Bichon Frise', 'Black Mouth Cur', 'Black/Tan Hound', 'Bloodhound', 'Blue Lacy', 'Bluetick Hound', 'Boerboel', 'Bombay', 'Border Collie', 'Border Terrier', 'Boston Terrier', 'Boxer', 'Boykin Span', 'British Shorthair', 'Brittany', 'Bruss Griffon', 'Bull Terrier', 'Bull Terrier Miniature', 'Bulldog', 'Bullmastiff', 'Burmese', 'Cairn Terrier', 'Californian', 'Canaan Dog', 'Cane Corso', 'Cardigan Welsh Corgi', 'Carolina Dog', 'Catahoula', 'Cavalier Span', 'Chartreux', 'Checkered Giant', 'Chesa Bay Retr', 'Chihuahua Longhair', 'Chihuahua Shorthair', 'Chinchilla', 'Chinchilla-Amer', 'Chinchilla-Stnd', 'Chinese Crested', 'Chinese Sharpei', 'Chow Chow', 'Clumber Spaniel', 'Cocker Spaniel', 'Cold Water', 'Collie Rough', 'Collie Smooth', 'Coton De Tulear', 'Cottontail', 'Coyote', 'Dachshund', 'Dachshund Longhair', 'Dachshund Wirehair', 'Dalmatian', 'Dandie Dinmont', 'Devon Rex', 'Doberman Pinsch', 'Dogo Argentino', 'Dogue De Bordeaux', 'Domestic Longhair', 'Domestic Medium Hair', 'Domestic Shorthair', 'Dutch', 'Dutch Shepherd', 'English Bulldog', 'English Cocker Spaniel', 'English Coonhound', 'English Foxhound', 'English Pointer', 'English Setter', 'English Shepherd', 'English Spot', 'English Springer Spaniel', 'Entlebucher', 'Feist', 'Ferret', 'Field Spaniel', 'Finnish Spitz', 'Flat Coat Retriever', 'Flemish Giant', 'Fox', 'French Bulldog', 'Gerbil', 'German Shepherd', 'German Shorthair Pointer', 'German Wirehaired Pointer', 'Glen Of Imaal', 'Golden Retriever', 'Great Dane', 'Great Pyrenees', 'Greyhound', 'Guinea Pig', 'Hamster', 'Harlequin', 'Harrier', 'Havana Brown', 'Havanese', 'Hedgehog', 'Himalayan', 'Hotot', 'Hovawart', 'Ibizan Hound', 'Irish Setter', 'Irish Terrier', 'Irish Wolfhound', 'Italian Greyhound', 'Jack Russell Terrier', 'Japanese Bobtail', 'Jersey Wooly', 'Jindo', 'Kangal', 'Keeshond', 'Kuvasz', 'Labrador Retriever', 'Lakeland Terrier', 'Landseer', 'Leonberger', 'Lhasa Apso', 'Lionhead', 'Lizard', 'Lop-English', 'Lop-Holland', 'Lop-Mini', 'Maine Coon', 'Maltese', 'Manchester Terrier', 'Manx', 'Mastiff', 'Mexican Hairless', 'Miniature Pinscher', 'Miniature Poodle', 'Miniature Schnauzer', 'Mouse', 'Munchkin Longhair', 'Munchkin Shorthair', 'Neapolitan Mastiff', 'Netherlnd Dwarf', 'New Zealand Wht', 'Norfolk Terrier', 'Norwegian Forest Cat', 'Norwich Terrier', 'Nova Scotia Duck Tolling Retriever', 'Old English Bulldog', 'Old English Sheepdog', 'Opossum', 'Oriental Sh', 'Otterhound', 'Papillon', 'Parson Russell Terrier', 'Patterdale Terr', 'Pbgv', 'Pekingese', 'Pembroke Welsh Corgi', 'Persian', 'Pharaoh Hound', 'Pit Bull', 'Pixiebob Shorthair', 'Plott Hound', 'Podengo Pequeno', 'Pointer', 'Pomeranian', 'Port Water Dog', 'Presa Canario', 'Pug', 'Python', 'Queensland Heeler', 'Rabbit Lh', 'Rabbit Sh', 'Raccoon', 'Ragdoll', 'Rat', 'Rat Terrier', 'Redbone Hound', 'Rex', 'Rex-Mini', 'Rhod Ridgeback', 'Rottweiler', 'Russian Blue', 'Saluki', 'Samoyed', 'Schipperke', 'Schnauzer Giant', 'Scottish Terrier', 'Shetland Sheepdog', 'Shiba Inu', 'Shih Tzu', 'Siamese', 'Siberian Husky', 'Silky Terrier', 'Silver', 'Skunk', 'Smooth Fox Terrier', 'Snake', 'Snowshoe', 'Soft Coated Wheaten Terrier', 'Spanish Water Dog', 'Squirrel', 'St. Bernard Rough Coat', 'St. Bernard Smooth Coat', 'Staffordshire', 'Standard Poodle', 'Standard Schnauzer', 'Sussex Span', 'Swedish Vallhund', 'Swiss Hound', 'Tan Hound', 'Tan Hound/Labrador Retriever', 'Tarantula', 'Tibetan Mastiff', 'Tibetan Spaniel', 'Tibetan Terrier', 'Tonkinese', 'Tortoise', 'Toy Fox Terrier', 'Toy Poodle', 'Treeing Cur', 'Treeing Walker Coonhound', 'Turkish Angora', 'Turkish Van', 'Turtle', 'Unknown', 'Vizsla', 'Weimaraner', 'Welsh Springer Spaniel', 'Welsh Terrier', 'West Highland', 'Whippet', 'Wire Hair Fox Terrier', 'Wirehaired Pointing Griffon', 'Yorkshire Terrier', 'Agouti', 'Apricot', 'Black', 'Black Brindle', 'Black Smoke', 'Black Tabby', 'Blue', 'Blue Cream', 'Blue Merle', 'Blue Point', 'Blue Smoke', 'Blue Tabby', 'Blue Tick', 'Blue Tiger', 'Brown', 'Brown Brindle', 'Brown Merle', 'Brown Tabby', 'Brown Tiger', 'Buff', 'Calico', 'Calico Point', 'Chocolate', 'Chocolate Point', 'Cream', 'Cream Tabby', 'Fawn', 'Flame Point', 'Gold', 'Gray', 'Gray Tabby', 'Green', 'Lilac Point', 'Liver', 'Liver Tick', 'Lynx Point', 'Orange', 'Orange Tabby', 'Pink', 'Red', 'Red Merle', 'Red Tick', 'Sable', 'Seal Point', 'Silver', 'Silver Lynx Point', 'Silver Tabby', 'Tan', 'Torbie', 'Tortie', 'Tortie Point', 'Tricolor', 'Unknown', 'White', 'Yellow', 'Yellow Brindle', 'AgeuponOutcome_norm']"
     ]
    }
   ],
   "source": [
    "# Print full list of columns from binarization to check work\n",
    "print(\"Num of columns:\", len(list(test_df_binarize.columns.values)), \n",
    "      \"\\nand columns:\", list(test_df_binarize.columns.values),end=\"\")"
   ]
  },
  {
   "cell_type": "code",
   "execution_count": 47,
   "metadata": {},
   "outputs": [
    {
     "name": "stdout",
     "output_type": "stream",
     "text": [
      "Number of unique columns in the train dataset not present in the test dataset: 64\n",
      "Number of unique columns in the test dataset not present in the train dataset: 7\n"
     ]
    }
   ],
   "source": [
    "# Examine the unique columns in train_df_binarize and test_df_binarize.\n",
    "# We will eventually want all columns in training to also be accounted for in test.\n",
    "x = set(train_df_binarize.columns).symmetric_difference(test_df_binarize.columns)\n",
    "\n",
    "# Parse out only the unique items in both lists within the training list and test list, respectively.\n",
    "train_unique = [value for value in list(x) \n",
    "                if value in list(train_df_binarize.columns.values)]\n",
    "test_unique = [value for value in list(x) \n",
    "               if value in list(test_df_binarize.columns.values)]\n",
    "\n",
    "print (\"Number of unique columns in the train dataset not present in the test dataset:\", len(train_unique))\n",
    "print (\"Number of unique columns in the test dataset not present in the train dataset:\", len(test_unique))"
   ]
  },
  {
   "cell_type": "markdown",
   "metadata": {},
   "source": [
    "We will rectify the issue of the training and test datasets not having the same number of features by adding features initialized with zero to the test dataset. We will also remove features exclusive to the test dataset."
   ]
  },
  {
   "cell_type": "code",
   "execution_count": 48,
   "metadata": {},
   "outputs": [
    {
     "name": "stdout",
     "output_type": "stream",
     "text": [
      "New number of columns in the test binarization dataset adding train only columns: 403\n"
     ]
    }
   ],
   "source": [
    "# Add all of the unique columns in the training dataset to the test dataset and initialize as 0.\n",
    "for col in train_unique:\n",
    "    test_df_binarize[col] = 0\n",
    "    \n",
    "print (\"New number of columns in the test binarization dataset adding train only columns:\", \n",
    "       len(list(test_df_binarize.columns.values)))"
   ]
  },
  {
   "cell_type": "code",
   "execution_count": 49,
   "metadata": {},
   "outputs": [
    {
     "name": "stdout",
     "output_type": "stream",
     "text": [
      "New number of columns in the test binarization dataset removing test only columns: 396\n"
     ]
    }
   ],
   "source": [
    "# Remove all of the unique columns in the test dataset that are not also in the training dataset.\n",
    "test_df_binarize = test_df_binarize.drop([col for col in test_unique], axis=1)\n",
    "\n",
    "print (\"New number of columns in the test binarization dataset removing test only columns:\", \n",
    "       len(list(test_df_binarize.columns.values)))"
   ]
  },
  {
   "cell_type": "code",
   "execution_count": 50,
   "metadata": {},
   "outputs": [],
   "source": [
    "# Export a CSV record of the dataset.\n",
    "test_df_binarize.to_csv('./data/test_df_binarization.csv')"
   ]
  },
  {
   "cell_type": "code",
   "execution_count": null,
   "metadata": {},
   "outputs": [],
   "source": []
  }
 ],
 "metadata": {
  "kernelspec": {
   "display_name": "Python 3",
   "language": "python",
   "name": "python3"
  },
  "language_info": {
   "codemirror_mode": {
    "name": "ipython",
    "version": 3
   },
   "file_extension": ".py",
   "mimetype": "text/x-python",
   "name": "python",
   "nbconvert_exporter": "python",
   "pygments_lexer": "ipython3",
   "version": "3.8.3"
  }
 },
 "nbformat": 4,
 "nbformat_minor": 4
}
