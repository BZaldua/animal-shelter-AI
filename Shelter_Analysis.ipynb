{
 "cells": [
  {
   "cell_type": "code",
   "execution_count": 1,
   "metadata": {},
   "outputs": [],
   "source": [
    "import pandas as pd\n",
    "import matplotlib.pyplot as plt\n",
    "import numpy as np\n",
    "import helper as hlp\n",
    "import seaborn as sns\n",
    "\n",
    "# Pretty display for notebooks\n",
    "%matplotlib inline\n",
    "\n",
    "import warnings\n",
    "warnings.filterwarnings('ignore')"
   ]
  },
  {
   "cell_type": "markdown",
   "metadata": {},
   "source": [
    "## Fetch dataset and create in & out dataframes"
   ]
  },
  {
   "cell_type": "code",
   "execution_count": 2,
   "metadata": {},
   "outputs": [
    {
     "name": "stdout",
     "output_type": "stream",
     "text": [
      "Incomes shape (123102, 11)\n",
      "Outcomes shape (122839, 11)\n"
     ]
    }
   ],
   "source": [
    "incomes_endpoint = 'https://data.austintexas.gov/resource/wter-evkm.json'\n",
    "outcomes_endpoint = 'https://data.austintexas.gov/resource/9t4d-g238.json'\n",
    "\n",
    "import requests\n",
    "params = {'$limit': 10000000} # If not specified it only returns 1000 records\n",
    "r = requests.get(incomes_endpoint, params)\n",
    "in_df = pd.DataFrame(r.json())\n",
    "r = requests.get(outcomes_endpoint, params)\n",
    "out_df = pd.DataFrame(r.json())\n",
    "\n",
    "in_df['income_time'] = pd.to_datetime(in_df['datetime'])\n",
    "out_df['outcome_time'] = pd.to_datetime(out_df['datetime'])\n",
    "out_df['date_of_birth'] = pd.to_datetime(out_df['date_of_birth'])\n",
    "\n",
    "in_df.drop(['datetime','datetime2'], axis=1, inplace=True)\n",
    "out_df.drop(['monthyear', 'datetime'], axis=1, inplace=True)\n",
    "\n",
    "print('Incomes shape',in_df.shape)\n",
    "print('Outcomes shape',out_df.shape)\n"
   ]
  },
  {
   "cell_type": "code",
   "execution_count": 4,
   "metadata": {},
   "outputs": [
    {
     "data": {
      "text/html": [
       "<div>\n",
       "<style scoped>\n",
       "    .dataframe tbody tr th:only-of-type {\n",
       "        vertical-align: middle;\n",
       "    }\n",
       "\n",
       "    .dataframe tbody tr th {\n",
       "        vertical-align: top;\n",
       "    }\n",
       "\n",
       "    .dataframe thead th {\n",
       "        text-align: right;\n",
       "    }\n",
       "</style>\n",
       "<table border=\"1\" class=\"dataframe\">\n",
       "  <thead>\n",
       "    <tr style=\"text-align: right;\">\n",
       "      <th></th>\n",
       "      <th>animal_id</th>\n",
       "      <th>found_location</th>\n",
       "      <th>intake_type</th>\n",
       "      <th>intake_condition</th>\n",
       "      <th>animal_type</th>\n",
       "      <th>sex_upon_intake</th>\n",
       "      <th>age_upon_intake</th>\n",
       "      <th>breed</th>\n",
       "      <th>color</th>\n",
       "      <th>name</th>\n",
       "      <th>income_time</th>\n",
       "    </tr>\n",
       "  </thead>\n",
       "  <tbody>\n",
       "    <tr>\n",
       "      <th>0</th>\n",
       "      <td>A827898</td>\n",
       "      <td>1511 Faro Dr in Austin (TX)</td>\n",
       "      <td>Public Assist</td>\n",
       "      <td>Normal</td>\n",
       "      <td>Dog</td>\n",
       "      <td>Intact Female</td>\n",
       "      <td>4 months</td>\n",
       "      <td>Border Collie/Australian Cattle Dog</td>\n",
       "      <td>White/Black</td>\n",
       "      <td>NaN</td>\n",
       "      <td>2021-01-03 09:04:00</td>\n",
       "    </tr>\n",
       "    <tr>\n",
       "      <th>1</th>\n",
       "      <td>A827897</td>\n",
       "      <td>1215 W Slaughter Ln in Austin (TX)</td>\n",
       "      <td>Stray</td>\n",
       "      <td>Normal</td>\n",
       "      <td>Dog</td>\n",
       "      <td>Intact Female</td>\n",
       "      <td>1 month</td>\n",
       "      <td>Rottweiler</td>\n",
       "      <td>Black/Tan</td>\n",
       "      <td>NaN</td>\n",
       "      <td>2021-01-03 08:44:00</td>\n",
       "    </tr>\n",
       "    <tr>\n",
       "      <th>2</th>\n",
       "      <td>A784105</td>\n",
       "      <td>Loyola And 183 in Austin (TX)</td>\n",
       "      <td>Stray</td>\n",
       "      <td>Injured</td>\n",
       "      <td>Dog</td>\n",
       "      <td>Neutered Male</td>\n",
       "      <td>2 years</td>\n",
       "      <td>Harrier</td>\n",
       "      <td>Liver Tick</td>\n",
       "      <td>Frankie</td>\n",
       "      <td>2021-01-03 08:28:00</td>\n",
       "    </tr>\n",
       "    <tr>\n",
       "      <th>3</th>\n",
       "      <td>A827892</td>\n",
       "      <td>4434 Frontier Trail in Austin (TX)</td>\n",
       "      <td>Owner Surrender</td>\n",
       "      <td>Injured</td>\n",
       "      <td>Cat</td>\n",
       "      <td>Intact Male</td>\n",
       "      <td>1 year</td>\n",
       "      <td>Domestic Shorthair</td>\n",
       "      <td>Orange Tabby</td>\n",
       "      <td>NaN</td>\n",
       "      <td>2021-01-03 08:16:00</td>\n",
       "    </tr>\n",
       "    <tr>\n",
       "      <th>4</th>\n",
       "      <td>A827888</td>\n",
       "      <td>4404 E Oltorf in Austin (TX)</td>\n",
       "      <td>Stray</td>\n",
       "      <td>Sick</td>\n",
       "      <td>Dog</td>\n",
       "      <td>Intact Male</td>\n",
       "      <td>7 months</td>\n",
       "      <td>Pit Bull</td>\n",
       "      <td>Brown/White</td>\n",
       "      <td>NaN</td>\n",
       "      <td>2021-01-03 01:00:00</td>\n",
       "    </tr>\n",
       "  </tbody>\n",
       "</table>\n",
       "</div>"
      ],
      "text/plain": [
       "  animal_id                      found_location      intake_type  \\\n",
       "0   A827898         1511 Faro Dr in Austin (TX)    Public Assist   \n",
       "1   A827897  1215 W Slaughter Ln in Austin (TX)            Stray   \n",
       "2   A784105       Loyola And 183 in Austin (TX)            Stray   \n",
       "3   A827892  4434 Frontier Trail in Austin (TX)  Owner Surrender   \n",
       "4   A827888        4404 E Oltorf in Austin (TX)            Stray   \n",
       "\n",
       "  intake_condition animal_type sex_upon_intake age_upon_intake  \\\n",
       "0           Normal         Dog   Intact Female        4 months   \n",
       "1           Normal         Dog   Intact Female         1 month   \n",
       "2          Injured         Dog   Neutered Male         2 years   \n",
       "3          Injured         Cat     Intact Male          1 year   \n",
       "4             Sick         Dog     Intact Male        7 months   \n",
       "\n",
       "                                 breed         color     name  \\\n",
       "0  Border Collie/Australian Cattle Dog   White/Black      NaN   \n",
       "1                           Rottweiler     Black/Tan      NaN   \n",
       "2                              Harrier    Liver Tick  Frankie   \n",
       "3                   Domestic Shorthair  Orange Tabby      NaN   \n",
       "4                             Pit Bull   Brown/White      NaN   \n",
       "\n",
       "          income_time  \n",
       "0 2021-01-03 09:04:00  \n",
       "1 2021-01-03 08:44:00  \n",
       "2 2021-01-03 08:28:00  \n",
       "3 2021-01-03 08:16:00  \n",
       "4 2021-01-03 01:00:00  "
      ]
     },
     "execution_count": 4,
     "metadata": {},
     "output_type": "execute_result"
    }
   ],
   "source": [
    "in_df.head(5)"
   ]
  },
  {
   "cell_type": "code",
   "execution_count": 5,
   "metadata": {},
   "outputs": [
    {
     "data": {
      "text/html": [
       "<div>\n",
       "<style scoped>\n",
       "    .dataframe tbody tr th:only-of-type {\n",
       "        vertical-align: middle;\n",
       "    }\n",
       "\n",
       "    .dataframe tbody tr th {\n",
       "        vertical-align: top;\n",
       "    }\n",
       "\n",
       "    .dataframe thead th {\n",
       "        text-align: right;\n",
       "    }\n",
       "</style>\n",
       "<table border=\"1\" class=\"dataframe\">\n",
       "  <thead>\n",
       "    <tr style=\"text-align: right;\">\n",
       "      <th></th>\n",
       "      <th>animal_id</th>\n",
       "      <th>name</th>\n",
       "      <th>date_of_birth</th>\n",
       "      <th>outcome_type</th>\n",
       "      <th>animal_type</th>\n",
       "      <th>sex_upon_outcome</th>\n",
       "      <th>age_upon_outcome</th>\n",
       "      <th>breed</th>\n",
       "      <th>color</th>\n",
       "      <th>outcome_subtype</th>\n",
       "      <th>outcome_time</th>\n",
       "    </tr>\n",
       "  </thead>\n",
       "  <tbody>\n",
       "    <tr>\n",
       "      <th>0</th>\n",
       "      <td>A821019</td>\n",
       "      <td>Spot</td>\n",
       "      <td>2017-04-03</td>\n",
       "      <td>Adoption</td>\n",
       "      <td>Dog</td>\n",
       "      <td>Neutered Male</td>\n",
       "      <td>3 years</td>\n",
       "      <td>Pit Bull</td>\n",
       "      <td>White/Black</td>\n",
       "      <td>NaN</td>\n",
       "      <td>2020-12-08 12:37:00</td>\n",
       "    </tr>\n",
       "    <tr>\n",
       "      <th>1</th>\n",
       "      <td>A824438</td>\n",
       "      <td>*Rose</td>\n",
       "      <td>2011-11-27</td>\n",
       "      <td>Adoption</td>\n",
       "      <td>Dog</td>\n",
       "      <td>Spayed Female</td>\n",
       "      <td>9 years</td>\n",
       "      <td>German Shepherd</td>\n",
       "      <td>Tan/Black</td>\n",
       "      <td>NaN</td>\n",
       "      <td>2020-12-08 12:27:00</td>\n",
       "    </tr>\n",
       "    <tr>\n",
       "      <th>2</th>\n",
       "      <td>A825587</td>\n",
       "      <td>*Ludwig</td>\n",
       "      <td>2011-11-06</td>\n",
       "      <td>Adoption</td>\n",
       "      <td>Cat</td>\n",
       "      <td>Neutered Male</td>\n",
       "      <td>9 years</td>\n",
       "      <td>Domestic Medium Hair</td>\n",
       "      <td>Cream Tabby</td>\n",
       "      <td>Foster</td>\n",
       "      <td>2020-12-08 12:22:00</td>\n",
       "    </tr>\n",
       "    <tr>\n",
       "      <th>3</th>\n",
       "      <td>A819626</td>\n",
       "      <td>NaN</td>\n",
       "      <td>2020-06-25</td>\n",
       "      <td>Adoption</td>\n",
       "      <td>Cat</td>\n",
       "      <td>Neutered Male</td>\n",
       "      <td>5 months</td>\n",
       "      <td>Domestic Shorthair</td>\n",
       "      <td>White/Black</td>\n",
       "      <td>Foster</td>\n",
       "      <td>2020-12-08 11:53:00</td>\n",
       "    </tr>\n",
       "    <tr>\n",
       "      <th>4</th>\n",
       "      <td>A819624</td>\n",
       "      <td>NaN</td>\n",
       "      <td>2020-06-25</td>\n",
       "      <td>Adoption</td>\n",
       "      <td>Cat</td>\n",
       "      <td>Neutered Male</td>\n",
       "      <td>5 months</td>\n",
       "      <td>Domestic Shorthair</td>\n",
       "      <td>Black</td>\n",
       "      <td>Foster</td>\n",
       "      <td>2020-12-08 11:52:00</td>\n",
       "    </tr>\n",
       "  </tbody>\n",
       "</table>\n",
       "</div>"
      ],
      "text/plain": [
       "  animal_id     name date_of_birth outcome_type animal_type sex_upon_outcome  \\\n",
       "0   A821019     Spot    2017-04-03     Adoption         Dog    Neutered Male   \n",
       "1   A824438    *Rose    2011-11-27     Adoption         Dog    Spayed Female   \n",
       "2   A825587  *Ludwig    2011-11-06     Adoption         Cat    Neutered Male   \n",
       "3   A819626      NaN    2020-06-25     Adoption         Cat    Neutered Male   \n",
       "4   A819624      NaN    2020-06-25     Adoption         Cat    Neutered Male   \n",
       "\n",
       "  age_upon_outcome                 breed        color outcome_subtype  \\\n",
       "0          3 years              Pit Bull  White/Black             NaN   \n",
       "1          9 years       German Shepherd    Tan/Black             NaN   \n",
       "2          9 years  Domestic Medium Hair  Cream Tabby          Foster   \n",
       "3         5 months    Domestic Shorthair  White/Black          Foster   \n",
       "4         5 months    Domestic Shorthair        Black          Foster   \n",
       "\n",
       "         outcome_time  \n",
       "0 2020-12-08 12:37:00  \n",
       "1 2020-12-08 12:27:00  \n",
       "2 2020-12-08 12:22:00  \n",
       "3 2020-12-08 11:53:00  \n",
       "4 2020-12-08 11:52:00  "
      ]
     },
     "execution_count": 5,
     "metadata": {},
     "output_type": "execute_result"
    }
   ],
   "source": [
    "out_df.head(5)"
   ]
  },
  {
   "cell_type": "markdown",
   "metadata": {},
   "source": [
    "## Create unique id to merge in & out datasets"
   ]
  },
  {
   "cell_type": "code",
   "execution_count": 6,
   "metadata": {},
   "outputs": [
    {
     "data": {
      "text/plain": [
       "A721033    33\n",
       "A718223    14\n",
       "A718877    12\n",
       "A706536    11\n",
       "A717053     9\n",
       "           ..\n",
       "A708668     1\n",
       "A743390     1\n",
       "A730348     1\n",
       "A771822     1\n",
       "A804446     1\n",
       "Name: animal_id, Length: 110054, dtype: int64"
      ]
     },
     "execution_count": 6,
     "metadata": {},
     "output_type": "execute_result"
    }
   ],
   "source": [
    "in_df['animal_id'].value_counts()"
   ]
  },
  {
   "cell_type": "code",
   "execution_count": 7,
   "metadata": {},
   "outputs": [],
   "source": [
    "# In order to merge the two datasets we need a unique parameter to link the datasets. animal_id can't be used \n",
    "# because one animal may stay in the shelter more than once. Thus, the a new id must be created."
   ]
  },
  {
   "cell_type": "code",
   "execution_count": 8,
   "metadata": {},
   "outputs": [],
   "source": [
    "def create_income_id(df, dataframe_type):\n",
    "    \n",
    "    # Get for each animal_id its occurrence number in the shelter\n",
    "    occurrence = df.groupby(['animal_id'])[dataframe_type + '_time'].rank(method='dense', ascending=False).astype(int)\n",
    "    \n",
    "    # The new id will be df['animal_id'] + '_' + rank where rank is the number of occurence of the animal in the shelter \n",
    "    df['income_id'] = df['animal_id'] + '_' + occurrence.astype(str)\n",
    "    return df"
   ]
  },
  {
   "cell_type": "code",
   "execution_count": 9,
   "metadata": {},
   "outputs": [],
   "source": [
    "in_df = create_income_id(in_df, 'income')\n",
    "out_df = create_income_id(out_df, 'outcome')"
   ]
  },
  {
   "cell_type": "markdown",
   "metadata": {},
   "source": [
    "## Check columns in common"
   ]
  },
  {
   "cell_type": "code",
   "execution_count": 10,
   "metadata": {},
   "outputs": [
    {
     "name": "stdout",
     "output_type": "stream",
     "text": [
      "Columns of the income -> Index(['animal_id', 'found_location', 'intake_type', 'intake_condition',\n",
      "       'animal_type', 'sex_upon_intake', 'age_upon_intake', 'breed', 'color',\n",
      "       'name', 'income_time', 'income_id'],\n",
      "      dtype='object')\n",
      "Columns of the ou0tcome -> Index(['animal_id', 'name', 'date_of_birth', 'outcome_type', 'animal_type',\n",
      "       'sex_upon_outcome', 'age_upon_outcome', 'breed', 'color',\n",
      "       'outcome_subtype', 'outcome_time', 'income_id'],\n",
      "      dtype='object')\n"
     ]
    },
    {
     "data": {
      "text/plain": [
       "{'animal_id', 'animal_type', 'breed', 'color', 'income_id', 'name'}"
      ]
     },
     "execution_count": 10,
     "metadata": {},
     "output_type": "execute_result"
    }
   ],
   "source": [
    "print('Columns of the income ->',in_df.columns)\n",
    "print('Columns of the ou0tcome ->',out_df.columns)\n",
    "set(in_df.columns).intersection(out_df.columns)"
   ]
  },
  {
   "cell_type": "markdown",
   "metadata": {},
   "source": [
    "## Remove columns to avoid duplicates in merge"
   ]
  },
  {
   "cell_type": "code",
   "execution_count": 11,
   "metadata": {},
   "outputs": [],
   "source": [
    "#in_df.drop(['index'], axis=1, inplace=True)\n",
    "out_df.drop(['animal_type', 'breed', 'color','name', 'animal_id'], axis=1, inplace=True)"
   ]
  },
  {
   "cell_type": "markdown",
   "metadata": {},
   "source": [
    "#### Merge"
   ]
  },
  {
   "cell_type": "code",
   "execution_count": 12,
   "metadata": {},
   "outputs": [],
   "source": [
    "in_df.set_index('income_id', inplace=True)\n",
    "out_df.set_index('income_id', inplace=True)\n",
    "# Merge datasets using type 'inner' to only take animals with both income and outcome \n",
    "in_out_df = pd.merge(out_df, in_df, how='inner', \n",
    "                  right_index=True, left_index=True, suffixes=['_outcome', '_income'])"
   ]
  },
  {
   "cell_type": "code",
   "execution_count": 13,
   "metadata": {},
   "outputs": [
    {
     "name": "stdout",
     "output_type": "stream",
     "text": [
      "Index(['date_of_birth', 'outcome_type', 'sex_upon_outcome', 'age_upon_outcome',\n",
      "       'outcome_subtype', 'outcome_time', 'animal_id', 'found_location',\n",
      "       'intake_type', 'intake_condition', 'animal_type', 'sex_upon_intake',\n",
      "       'age_upon_intake', 'breed', 'color', 'name', 'income_time'],\n",
      "      dtype='object')\n",
      "Income shape (123102, 11)\n",
      "Outcome shape (122839, 6)\n",
      "In/out shape (121833, 17)\n"
     ]
    },
    {
     "data": {
      "text/html": [
       "<div>\n",
       "<style scoped>\n",
       "    .dataframe tbody tr th:only-of-type {\n",
       "        vertical-align: middle;\n",
       "    }\n",
       "\n",
       "    .dataframe tbody tr th {\n",
       "        vertical-align: top;\n",
       "    }\n",
       "\n",
       "    .dataframe thead th {\n",
       "        text-align: right;\n",
       "    }\n",
       "</style>\n",
       "<table border=\"1\" class=\"dataframe\">\n",
       "  <thead>\n",
       "    <tr style=\"text-align: right;\">\n",
       "      <th></th>\n",
       "      <th>date_of_birth</th>\n",
       "      <th>outcome_type</th>\n",
       "      <th>sex_upon_outcome</th>\n",
       "      <th>age_upon_outcome</th>\n",
       "      <th>outcome_subtype</th>\n",
       "      <th>outcome_time</th>\n",
       "      <th>animal_id</th>\n",
       "      <th>found_location</th>\n",
       "      <th>intake_type</th>\n",
       "      <th>intake_condition</th>\n",
       "      <th>animal_type</th>\n",
       "      <th>sex_upon_intake</th>\n",
       "      <th>age_upon_intake</th>\n",
       "      <th>breed</th>\n",
       "      <th>color</th>\n",
       "      <th>name</th>\n",
       "      <th>income_time</th>\n",
       "    </tr>\n",
       "    <tr>\n",
       "      <th>income_id</th>\n",
       "      <th></th>\n",
       "      <th></th>\n",
       "      <th></th>\n",
       "      <th></th>\n",
       "      <th></th>\n",
       "      <th></th>\n",
       "      <th></th>\n",
       "      <th></th>\n",
       "      <th></th>\n",
       "      <th></th>\n",
       "      <th></th>\n",
       "      <th></th>\n",
       "      <th></th>\n",
       "      <th></th>\n",
       "      <th></th>\n",
       "      <th></th>\n",
       "      <th></th>\n",
       "    </tr>\n",
       "  </thead>\n",
       "  <tbody>\n",
       "    <tr>\n",
       "      <th>A006100_1</th>\n",
       "      <td>2007-07-09</td>\n",
       "      <td>Return to Owner</td>\n",
       "      <td>Neutered Male</td>\n",
       "      <td>10 years</td>\n",
       "      <td>NaN</td>\n",
       "      <td>2017-12-07 00:00:00</td>\n",
       "      <td>A006100</td>\n",
       "      <td>Colony Creek And Hunters Trace in Austin (TX)</td>\n",
       "      <td>Stray</td>\n",
       "      <td>Normal</td>\n",
       "      <td>Dog</td>\n",
       "      <td>Neutered Male</td>\n",
       "      <td>10 years</td>\n",
       "      <td>Spinone Italiano Mix</td>\n",
       "      <td>Yellow/White</td>\n",
       "      <td>Scamp</td>\n",
       "      <td>2017-12-07 14:07:00</td>\n",
       "    </tr>\n",
       "    <tr>\n",
       "      <th>A006100_2</th>\n",
       "      <td>2007-07-09</td>\n",
       "      <td>Return to Owner</td>\n",
       "      <td>Neutered Male</td>\n",
       "      <td>7 years</td>\n",
       "      <td>NaN</td>\n",
       "      <td>2014-12-20 16:35:00</td>\n",
       "      <td>A006100</td>\n",
       "      <td>8700 Research Blvd in Austin (TX)</td>\n",
       "      <td>Public Assist</td>\n",
       "      <td>Normal</td>\n",
       "      <td>Dog</td>\n",
       "      <td>Neutered Male</td>\n",
       "      <td>7 years</td>\n",
       "      <td>Spinone Italiano Mix</td>\n",
       "      <td>Yellow/White</td>\n",
       "      <td>Scamp</td>\n",
       "      <td>2014-12-19 10:21:00</td>\n",
       "    </tr>\n",
       "    <tr>\n",
       "      <th>A006100_3</th>\n",
       "      <td>2007-07-09</td>\n",
       "      <td>Return to Owner</td>\n",
       "      <td>Neutered Male</td>\n",
       "      <td>6 years</td>\n",
       "      <td>NaN</td>\n",
       "      <td>2014-03-08 17:10:00</td>\n",
       "      <td>A006100</td>\n",
       "      <td>8700 Research in Austin (TX)</td>\n",
       "      <td>Public Assist</td>\n",
       "      <td>Normal</td>\n",
       "      <td>Dog</td>\n",
       "      <td>Neutered Male</td>\n",
       "      <td>6 years</td>\n",
       "      <td>Spinone Italiano Mix</td>\n",
       "      <td>Yellow/White</td>\n",
       "      <td>Scamp</td>\n",
       "      <td>2014-03-07 14:26:00</td>\n",
       "    </tr>\n",
       "    <tr>\n",
       "      <th>A047759_1</th>\n",
       "      <td>2004-04-02</td>\n",
       "      <td>Transfer</td>\n",
       "      <td>Neutered Male</td>\n",
       "      <td>10 years</td>\n",
       "      <td>Partner</td>\n",
       "      <td>2014-04-07 15:12:00</td>\n",
       "      <td>A047759</td>\n",
       "      <td>Austin (TX)</td>\n",
       "      <td>Owner Surrender</td>\n",
       "      <td>Normal</td>\n",
       "      <td>Dog</td>\n",
       "      <td>Neutered Male</td>\n",
       "      <td>10 years</td>\n",
       "      <td>Dachshund</td>\n",
       "      <td>Tricolor</td>\n",
       "      <td>Oreo</td>\n",
       "      <td>2014-04-02 15:55:00</td>\n",
       "    </tr>\n",
       "    <tr>\n",
       "      <th>A134067_1</th>\n",
       "      <td>1997-10-16</td>\n",
       "      <td>Return to Owner</td>\n",
       "      <td>Neutered Male</td>\n",
       "      <td>16 years</td>\n",
       "      <td>NaN</td>\n",
       "      <td>2013-11-16 11:54:00</td>\n",
       "      <td>A134067</td>\n",
       "      <td>12034 Research Blvd in Austin (TX)</td>\n",
       "      <td>Public Assist</td>\n",
       "      <td>Injured</td>\n",
       "      <td>Dog</td>\n",
       "      <td>Neutered Male</td>\n",
       "      <td>16 years</td>\n",
       "      <td>Shetland Sheepdog</td>\n",
       "      <td>Brown/White</td>\n",
       "      <td>Bandit</td>\n",
       "      <td>2013-11-16 09:02:00</td>\n",
       "    </tr>\n",
       "  </tbody>\n",
       "</table>\n",
       "</div>"
      ],
      "text/plain": [
       "          date_of_birth     outcome_type sex_upon_outcome age_upon_outcome  \\\n",
       "income_id                                                                    \n",
       "A006100_1    2007-07-09  Return to Owner    Neutered Male         10 years   \n",
       "A006100_2    2007-07-09  Return to Owner    Neutered Male          7 years   \n",
       "A006100_3    2007-07-09  Return to Owner    Neutered Male          6 years   \n",
       "A047759_1    2004-04-02         Transfer    Neutered Male         10 years   \n",
       "A134067_1    1997-10-16  Return to Owner    Neutered Male         16 years   \n",
       "\n",
       "          outcome_subtype        outcome_time animal_id  \\\n",
       "income_id                                                 \n",
       "A006100_1             NaN 2017-12-07 00:00:00   A006100   \n",
       "A006100_2             NaN 2014-12-20 16:35:00   A006100   \n",
       "A006100_3             NaN 2014-03-08 17:10:00   A006100   \n",
       "A047759_1         Partner 2014-04-07 15:12:00   A047759   \n",
       "A134067_1             NaN 2013-11-16 11:54:00   A134067   \n",
       "\n",
       "                                          found_location      intake_type  \\\n",
       "income_id                                                                   \n",
       "A006100_1  Colony Creek And Hunters Trace in Austin (TX)            Stray   \n",
       "A006100_2              8700 Research Blvd in Austin (TX)    Public Assist   \n",
       "A006100_3                   8700 Research in Austin (TX)    Public Assist   \n",
       "A047759_1                                    Austin (TX)  Owner Surrender   \n",
       "A134067_1             12034 Research Blvd in Austin (TX)    Public Assist   \n",
       "\n",
       "          intake_condition animal_type sex_upon_intake age_upon_intake  \\\n",
       "income_id                                                                \n",
       "A006100_1           Normal         Dog   Neutered Male        10 years   \n",
       "A006100_2           Normal         Dog   Neutered Male         7 years   \n",
       "A006100_3           Normal         Dog   Neutered Male         6 years   \n",
       "A047759_1           Normal         Dog   Neutered Male        10 years   \n",
       "A134067_1          Injured         Dog   Neutered Male        16 years   \n",
       "\n",
       "                          breed         color    name         income_time  \n",
       "income_id                                                                  \n",
       "A006100_1  Spinone Italiano Mix  Yellow/White   Scamp 2017-12-07 14:07:00  \n",
       "A006100_2  Spinone Italiano Mix  Yellow/White   Scamp 2014-12-19 10:21:00  \n",
       "A006100_3  Spinone Italiano Mix  Yellow/White   Scamp 2014-03-07 14:26:00  \n",
       "A047759_1             Dachshund      Tricolor    Oreo 2014-04-02 15:55:00  \n",
       "A134067_1     Shetland Sheepdog   Brown/White  Bandit 2013-11-16 09:02:00  "
      ]
     },
     "execution_count": 13,
     "metadata": {},
     "output_type": "execute_result"
    }
   ],
   "source": [
    "print(in_out_df.columns)\n",
    "print('Income shape', in_df.shape)\n",
    "print('Outcome shape', out_df.shape)\n",
    "print('In/out shape', in_out_df.shape)\n",
    "in_out_df.head()\n",
    "# TODO: see why the diference in row numbers (animals with income but not yet an outcome?) "
   ]
  },
  {
   "cell_type": "markdown",
   "metadata": {},
   "source": [
    "### Data cleaning"
   ]
  },
  {
   "cell_type": "code",
   "execution_count": 14,
   "metadata": {},
   "outputs": [
    {
     "data": {
      "text/plain": [
       "Dog          69050\n",
       "Cat          45693\n",
       "Other         6498\n",
       "Bird           573\n",
       "Livestock       19\n",
       "Name: animal_type, dtype: int64"
      ]
     },
     "execution_count": 14,
     "metadata": {},
     "output_type": "execute_result"
    }
   ],
   "source": [
    "animal_types = in_out_df['animal_type'].value_counts()\n",
    "animal_types"
   ]
  },
  {
   "cell_type": "code",
   "execution_count": 15,
   "metadata": {},
   "outputs": [
    {
     "data": {
      "image/png": "[encoded data removed]",
      "text/plain": [
       "<Figure size 720x504 with 1 Axes>"
      ]
     },
     "metadata": {},
     "output_type": "display_data"
    }
   ],
   "source": [
    "# Plot animal types in a chart\n",
    "pie, ax = plt.subplots(figsize=[10, 7])\n",
    "labels = animal_types.keys()\n",
    "plt.pie(x=animal_types, autopct=\"%.1f%%\", explode=[0.05]*len(labels), labels=labels, pctdistance=0.5)\n",
    "plt.title(\"Types of animals\", fontsize=14);"
   ]
  },
  {
   "cell_type": "code",
   "execution_count": 16,
   "metadata": {},
   "outputs": [],
   "source": [
    "# Remove animals of type 'Livestock' and 'Other' because its of no use for the recomendation system\n",
    "in_out_df = in_out_df.loc[in_out_df['animal_type'] != 'Livestock']"
   ]
  },
  {
   "cell_type": "code",
   "execution_count": 17,
   "metadata": {},
   "outputs": [
    {
     "name": "stdout",
     "output_type": "stream",
     "text": [
      "Outcome labels:  ['Return to Owner' 'Transfer' 'Relocate' 'Adoption' 'Euthanasia' 'Died'\n",
      " 'Rto-Adopt' 'Missing' 'Disposal' nan]\n",
      "Records total:  121814\n",
      "Values: \n",
      " Adoption           53737\n",
      "Transfer           36103\n",
      "Return to Owner    21237\n",
      "Euthanasia          8270\n",
      "Died                1143\n",
      "Rto-Adopt            675\n",
      "Disposal             558\n",
      "Missing               66\n",
      "Relocate              20\n",
      "Name: outcome_type, dtype: int64\n"
     ]
    }
   ],
   "source": [
    "# See the different outcome types\n",
    "outcome_labels = in_out_df['outcome_type'].unique()\n",
    "total_records = in_out_df.shape[0]\n",
    "outcome_types = in_out_df['outcome_type'].value_counts()\n",
    "print(\"Outcome labels: \", outcome_labels)\n",
    "print(\"Records total: \", total_records)\n",
    "print(\"Values: \\n\", outcome_types)"
   ]
  },
  {
   "cell_type": "code",
   "execution_count": 18,
   "metadata": {},
   "outputs": [
    {
     "data": {
      "image/png": "[encoded data removed]",
      "text/plain": [
       "<Figure size 720x504 with 1 Axes>"
      ]
     },
     "metadata": {
      "needs_background": "light"
     },
     "output_type": "display_data"
    }
   ],
   "source": [
    "ax = outcome_types.plot(kind='bar', figsize=(10, 7), width=0.8, edgecolor=None)\n",
    "plt.title(\"Outcome types\",fontsize= 16)\n",
    "\n",
    "for p in ax.patches:\n",
    "    width = p.get_width()\n",
    "    height = p.get_height()\n",
    "    x, y = p.get_xy() \n",
    "    ax.annotate(f'{(height / total_records):.0%}', (x + width/2, y + height*1.02), ha='center')\n"
   ]
  },
  {
   "cell_type": "code",
   "execution_count": 19,
   "metadata": {},
   "outputs": [
    {
     "data": {
      "text/plain": [
       "Stray                 85025\n",
       "Owner Surrender       24007\n",
       "Public Assist          7465\n",
       "Wildlife               4836\n",
       "Euthanasia Request      257\n",
       "Abandoned               224\n",
       "Name: intake_type, dtype: int64"
      ]
     },
     "execution_count": 19,
     "metadata": {},
     "output_type": "execute_result"
    }
   ],
   "source": [
    "# Check income type\n",
    "intake_types = in_out_df['intake_type'].value_counts()\n",
    "intake_types"
   ]
  },
  {
   "cell_type": "code",
   "execution_count": 20,
   "metadata": {},
   "outputs": [
    {
     "data": {
      "image/png": "[encoded data removed]",
      "text/plain": [
       "<Figure size 720x504 with 1 Axes>"
      ]
     },
     "metadata": {
      "needs_background": "light"
     },
     "output_type": "display_data"
    }
   ],
   "source": [
    "ax = intake_types.plot(kind='bar', figsize=(10, 7), width=0.8, edgecolor=None)\n",
    "plt.title(\"Intake types\",fontsize= 16)\n",
    "\n",
    "for p in ax.patches:\n",
    "    width = p.get_width()\n",
    "    height = p.get_height()\n",
    "    x, y = p.get_xy() \n",
    "    ax.annotate(f'{(height / total_records):.0%}', (x + width/2, y + height*1.02), ha='center')"
   ]
  },
  {
   "cell_type": "code",
   "execution_count": 21,
   "metadata": {},
   "outputs": [],
   "source": [
    "# Remove 'outcome_type' of 'Return to Owner'. For the recomendation system we don't want cases of \n",
    "# lost animals to train the model\n",
    "in_out_df = in_out_df.loc[in_out_df['outcome_type'] != 'Return to Owner']"
   ]
  },
  {
   "cell_type": "markdown",
   "metadata": {},
   "source": [
    "## Create column time in shelter using outcome and income times"
   ]
  },
  {
   "cell_type": "code",
   "execution_count": 22,
   "metadata": {},
   "outputs": [
    {
     "data": {
      "text/plain": [
       "count                     100577\n",
       "mean     20 days 13:39:26.336239\n",
       "std      51 days 23:01:49.305753\n",
       "min         -2411 days +06:11:00\n",
       "25%              2 days 20:58:00\n",
       "50%              6 days 01:16:00\n",
       "75%             20 days 23:27:00\n",
       "max           1521 days 23:31:00\n",
       "Name: time_in_shelter, dtype: object"
      ]
     },
     "execution_count": 22,
     "metadata": {},
     "output_type": "execute_result"
    }
   ],
   "source": [
    "in_out_df['time_in_shelter'] = in_out_df['outcome_time'] - in_out_df['income_time']\n",
    "in_out_df['time_in_shelter'].describe()"
   ]
  },
  {
   "cell_type": "code",
   "execution_count": 23,
   "metadata": {},
   "outputs": [],
   "source": [
    "# Remove rows where income_time is greater than outcome_time\n",
    "in_out_df = in_out_df.loc[in_out_df['income_time'] < in_out_df['outcome_time']]"
   ]
  },
  {
   "cell_type": "markdown",
   "metadata": {},
   "source": [
    "# Export dataframe"
   ]
  },
  {
   "cell_type": "code",
   "execution_count": 24,
   "metadata": {},
   "outputs": [],
   "source": [
    "# in_out_df.to_csv('./data/in_out_shelter.csv', encoding='utf-8')"
   ]
  },
  {
   "cell_type": "markdown",
   "metadata": {},
   "source": [
    "# Training + Testing"
   ]
  },
  {
   "cell_type": "code",
   "execution_count": 25,
   "metadata": {},
   "outputs": [],
   "source": [
    "# Import libraries\n",
    "from sklearn.model_selection import train_test_split"
   ]
  },
  {
   "cell_type": "markdown",
   "metadata": {},
   "source": [
    "### Encode data"
   ]
  },
  {
   "cell_type": "code",
   "execution_count": 26,
   "metadata": {},
   "outputs": [],
   "source": [
    "# Choose subtypes. Take into account every possible choice, no matter if the rows have been deleted\n",
    "def subtype(x):\n",
    "    if x['outcome_type'] == 'Adoption' and pd.isnull(x['outcome_subtype']) : return 'Adoption'\n",
    "    elif x['outcome_type'] == 'Return_to_owner' and pd.isnull(x['outcome_subtype']): return 'Return to Owner'\n",
    "    elif pd.isnull(x['outcome_type']) : return 'Other'\n",
    "    else: return x['outcome_type']\n",
    "\n",
    "in_out_df['outcome_subtype'] = in_out_df.apply(subtype, axis=1)"
   ]
  },
  {
   "cell_type": "code",
   "execution_count": 27,
   "metadata": {},
   "outputs": [],
   "source": [
    "# Remove the secondary breed name.\n",
    "def split_breed(x):\n",
    "    if '/' in x['breed'] : return x['breed'].split('/', 1)[1]\n",
    "    else : return x['breed']\n",
    "    \n",
    "in_out_df['breed'] = in_out_df.apply(split_breed, axis=1)\n",
    "in_out_df['breed'] = in_out_df['breed'].str.replace(' Mix', '')"
   ]
  },
  {
   "cell_type": "code",
   "execution_count": 28,
   "metadata": {},
   "outputs": [],
   "source": [
    "# Remove the secondary color name to focus on the principal color.\n",
    "def split_color(x):\n",
    "    if '/' in x['color'] : return x['color'].split('/', 1)[1]\n",
    "    else : return x['color']\n",
    "    \n",
    "in_out_df['color'] = in_out_df.apply(split_color, axis=1)"
   ]
  },
  {
   "cell_type": "code",
   "execution_count": 29,
   "metadata": {},
   "outputs": [],
   "source": [
    "# Divide sex_upon_outcome into 2: state + sex\n",
    "in_out_df['state'], in_out_df['gender'] = in_out_df['sex_upon_outcome'].str.split(' ', 1).str\n",
    "\n",
    "# Replace state values\n",
    "in_out_df['state'] = in_out_df['state'].map({'Neutered': 'Fixed', 'Spayed': 'Fixed', 'Intact': 'Intact'})"
   ]
  },
  {
   "cell_type": "code",
   "execution_count": 30,
   "metadata": {},
   "outputs": [],
   "source": [
    "# Create dummy values for those columns\n",
    "state_dummies = pd.get_dummies(in_out_df['state'])\n",
    "gender_dummies = pd.get_dummies(in_out_df['gender'])\n",
    "animalType_dummies = pd.get_dummies(in_out_df['animal_type'])\n",
    "breed_dummies = pd.get_dummies(in_out_df['breed'])\n",
    "color_dummies = pd.get_dummies(in_out_df['color'])\n",
    "\n",
    "# Only keep one, as we only have two variables.\n",
    "state_dummies = state_dummies['Fixed']\n",
    "gender_dummies = gender_dummies['Male']\n",
    "\n",
    "# Combine the state binarization and the original dataset.\n",
    "in_out_df = pd.concat([in_out_df, state_dummies, gender_dummies], axis=1)\n",
    "\n",
    "# Change the name of the columns that we just concatenated.\n",
    "in_out_df = in_out_df.rename(index=str, columns={'Fixed': 'isFixed(Fixed=1)', 'Male': 'isMale(Male=1)'})\n",
    "\n",
    "\n",
    "# Need to keep all of the columns, as we have more than two breeds.\n",
    "# Combine the breed binarization and the original dataset.\n",
    "in_out_df = pd.concat([in_out_df, animalType_dummies, breed_dummies, color_dummies], axis=1)\n"
   ]
  },
  {
   "cell_type": "code",
   "execution_count": 31,
   "metadata": {},
   "outputs": [
    {
     "name": "stdout",
     "output_type": "stream",
     "text": [
      "Time: \n",
      " ['10 years' '18 years' '14 years' '16 years' '17 years' '19 years'\n",
      " '15 years' '13 years' '20 years' '12 years' '11 years' '9 years'\n",
      " '5 years' '8 years' '7 years' '6 years' '23 years' '4 years' '3 years'\n",
      " '2 years' '1 year' '10 months' '9 months' '11 months' '7 months'\n",
      " '8 months' '6 months' '3 months' '5 months' '4 months' '2 months'\n",
      " '1 week' '3 weeks' '1 weeks' '1 day' '1 month' '2 weeks' '3 days'\n",
      " '2 days' '4 weeks' '0 years' '4 days' '5 weeks' '5 days' '6 days'\n",
      " '-1 years' '25 years' '22 years' '-2 years' '21 years']\n"
     ]
    }
   ],
   "source": [
    "print(\"Time: \\n\", in_out_df['age_upon_outcome'].unique())\n",
    "\n",
    "# Map all age_upon_outcome values to numbers as we did in the test dataset. Mapped to weeks and rounded to the nearest week.\n",
    "in_out_df['age_upon_outcome'] = in_out_df['age_upon_outcome'].map({'1 week': 1, '1 weeks': 1, '2 weeks': 2, \n",
    "                                                                   '3 weeks': 3, '4 weeks': 4, '5 weeks': 5, \n",
    "                                                                   '1 month': 4, '2 months': 9, '3 months': 13, \n",
    "                                                                   '4 months': 17, '5 months': 21, '6 months': 26, \n",
    "                                                                   '7 months': 30, '8 months': 34, '9 months': 38, \n",
    "                                                                   '10 months': 43, '11 months': 47, '1 year': 52, \n",
    "                                                                   '2 years': 204, '3 years': 156, '4 years': 208, \n",
    "                                                                   '5 years': 260, '6 years': 312, '7 years': 364, \n",
    "                                                                   '8 years': 416, '9 years': 468, '10 years': 520, \n",
    "                                                                   '11 years': 572, '12 years': 624, '13 years': 676, \n",
    "                                                                   '14 years': 728, '15 years': 780, '16 years': 832, \n",
    "                                                                   '17 years': 884, '18 years': 936, '20 years': 1040, \n",
    "                                                                   '0 years': 26, '1 day': 0, '2 days': 0, '3 days': 0, \n",
    "                                                                   '4 days': 0, '5 days': 0, '6 days': 0})\n",
    "\n",
    "# Normalize age upon outcome.\n",
    "in_out_df['age_upon_outcome_norm'] = in_out_df['age_upon_outcome']/max(in_out_df['age_upon_outcome'])\n",
    "\n",
    "# Fill NaN values with the median value for the column.\n",
    "in_out_df['age_upon_outcome_norm'].fillna(in_out_df['age_upon_outcome'].median(), inplace=True)\n"
   ]
  },
  {
   "cell_type": "code",
   "execution_count": 32,
   "metadata": {},
   "outputs": [],
   "source": [
    "in_out_df.to_csv('./data/data_to_train.csv')"
   ]
  },
  {
   "cell_type": "markdown",
   "metadata": {},
   "source": [
    "### Divide and prepare"
   ]
  },
  {
   "cell_type": "code",
   "execution_count": 184,
   "metadata": {},
   "outputs": [],
   "source": [
    "# Split data\n",
    "train_df, test_df = train_test_split(in_out_df, test_size=0.2, shuffle=True)"
   ]
  },
  {
   "cell_type": "code",
   "execution_count": 185,
   "metadata": {},
   "outputs": [],
   "source": [
    "# Drop columns in test_df\n",
    "test_df.drop(['outcome_type', 'outcome_subtype'], axis=1, inplace=True)"
   ]
  }
 ],
 "metadata": {
  "kernelspec": {
   "display_name": "Python 3",
   "language": "python",
   "name": "python3"
  },
  "language_info": {
   "codemirror_mode": {
    "name": "ipython",
    "version": 3
   },
   "file_extension": ".py",
   "mimetype": "text/x-python",
   "name": "python",
   "nbconvert_exporter": "python",
   "pygments_lexer": "ipython3",
   "version": "3.8.3"
  }
 },
 "nbformat": 4,
 "nbformat_minor": 4
}
