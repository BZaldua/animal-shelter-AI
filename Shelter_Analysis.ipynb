{
 "cells": [
  {
   "cell_type": "code",
   "execution_count": null,
   "metadata": {},
   "outputs": [],
   "source": [
    "import pandas as pd\n",
    "import matplotlib.pyplot as plt\n",
    "import numpy as np\n",
    "import helper as hlp\n",
    "import seaborn as sns\n",
    "\n",
    "# Pretty display for notebooks\n",
    "%matplotlib inline\n",
    "\n",
    "import warnings\n",
    "warnings.filterwarnings('ignore')"
   ]
  },
  {
   "cell_type": "markdown",
   "metadata": {},
   "source": [
    "## Fetch dataset and create in & out dataframes"
   ]
  },
  {
   "cell_type": "code",
   "execution_count": null,
   "metadata": {},
   "outputs": [],
   "source": [
    "incomes_endpoint = 'https://data.austintexas.gov/resource/wter-evkm.json'\n",
    "outcomes_endpoint = 'https://data.austintexas.gov/resource/9t4d-g238.json'\n",
    "\n",
    "import requests\n",
    "params = {'$limit': 10000000} # If not specified it only returns 1000 records\n",
    "r = requests.get(incomes_endpoint, params)\n",
    "in_df = pd.DataFrame(r.json())\n",
    "r = requests.get(outcomes_endpoint, params)\n",
    "out_df = pd.DataFrame(r.json())\n",
    "\n",
    "in_df['income_time'] = pd.to_datetime(in_df['datetime'])\n",
    "out_df['outcome_time'] = pd.to_datetime(out_df['datetime'])\n",
    "out_df['date_of_birth'] = pd.to_datetime(out_df['date_of_birth'])\n",
    "\n",
    "in_df.drop(['datetime','datetime2'], axis=1, inplace=True)\n",
    "out_df.drop(['monthyear', 'datetime'], axis=1, inplace=True)\n",
    "\n",
    "print('Incomes shape',in_df.shape)\n",
    "print('Outcomes shape',out_df.shape)\n"
   ]
  },
  {
   "cell_type": "code",
   "execution_count": null,
   "metadata": {},
   "outputs": [],
   "source": [
    "in_df.head(5)"
   ]
  },
  {
   "cell_type": "code",
   "execution_count": null,
   "metadata": {},
   "outputs": [],
   "source": [
    "out_df.head(5)"
   ]
  },
  {
   "cell_type": "markdown",
   "metadata": {},
   "source": [
    "## Create unique id to merge in & out datasets"
   ]
  },
  {
   "cell_type": "code",
   "execution_count": null,
   "metadata": {},
   "outputs": [],
   "source": [
    "in_df['animal_id'].value_counts()"
   ]
  },
  {
   "cell_type": "code",
   "execution_count": null,
   "metadata": {},
   "outputs": [],
   "source": [
    "# In order to merge the two datasets we need a unique parameter to link the datasets. animal_id can't be used \n",
    "# because one animal may stay in the shelter more than once. Thus, the a new id must be created."
   ]
  },
  {
   "cell_type": "code",
   "execution_count": null,
   "metadata": {},
   "outputs": [],
   "source": [
    "def create_income_id(df, dataframe_type):\n",
    "    \n",
    "    # Get for each animal_id its occurrence number in the shelter\n",
    "    occurrence = df.groupby(['animal_id'])[dataframe_type + '_time'].rank(method='dense', ascending=False).astype(int)\n",
    "    \n",
    "    # The new id will be df['animal_id'] + '_' + rank where rank is the number of occurence of the animal in the shelter \n",
    "    df['income_id'] = df['animal_id'] + '_' + occurrence.astype(str)\n",
    "    return df"
   ]
  },
  {
   "cell_type": "code",
   "execution_count": null,
   "metadata": {},
   "outputs": [],
   "source": [
    "in_df = create_income_id(in_df, 'income')\n",
    "out_df = create_income_id(out_df, 'outcome')"
   ]
  },
  {
   "cell_type": "markdown",
   "metadata": {},
   "source": [
    "## Check columns in common"
   ]
  },
  {
   "cell_type": "code",
   "execution_count": null,
   "metadata": {},
   "outputs": [],
   "source": [
    "print('Columns of the income ->',in_df.columns)\n",
    "print('Columns of the ou0tcome ->',out_df.columns)\n",
    "set(in_df.columns).intersection(out_df.columns)"
   ]
  },
  {
   "cell_type": "markdown",
   "metadata": {},
   "source": [
    "## Remove columns to avoid duplicates in merge"
   ]
  },
  {
   "cell_type": "code",
   "execution_count": null,
   "metadata": {},
   "outputs": [],
   "source": [
    "#in_df.drop(['index'], axis=1, inplace=True)\n",
    "out_df.drop(['animal_type', 'breed', 'color','name', 'animal_id'], axis=1, inplace=True)"
   ]
  },
  {
   "cell_type": "markdown",
   "metadata": {},
   "source": [
    "#### Merge"
   ]
  },
  {
   "cell_type": "code",
   "execution_count": null,
   "metadata": {},
   "outputs": [],
   "source": [
    "in_df.set_index('income_id', inplace=True)\n",
    "out_df.set_index('income_id', inplace=True)\n",
    "# Merge datasets using type 'inner' to only take animals with both income and outcome \n",
    "in_out_df = pd.merge(out_df, in_df, how='inner', \n",
    "                  right_index=True, left_index=True, suffixes=['_outcome', '_income'])"
   ]
  },
  {
   "cell_type": "code",
   "execution_count": null,
   "metadata": {},
   "outputs": [],
   "source": [
    "print(in_out_df.columns)\n",
    "print('Income shape', in_df.shape)\n",
    "print('Outcome shape', out_df.shape)\n",
    "print('In/out shape', in_out_df.shape)\n",
    "in_out_df.head()\n",
    "# TODO: see why the diference in row numbers (animals with income but not yet an outcome?) "
   ]
  },
  {
   "cell_type": "markdown",
   "metadata": {},
   "source": [
    "### Data cleaning"
   ]
  },
  {
   "cell_type": "code",
   "execution_count": null,
   "metadata": {},
   "outputs": [],
   "source": [
    "animal_types = in_out_df['animal_type'].value_counts()\n",
    "animal_types"
   ]
  },
  {
   "cell_type": "code",
   "execution_count": null,
   "metadata": {},
   "outputs": [],
   "source": [
    "# Plot animal types in a chart\n",
    "pie, ax = plt.subplots(figsize=[10, 7])\n",
    "labels = animal_types.keys()\n",
    "plt.pie(x=animal_types, autopct=\"%.1f%%\", explode=[0.05]*len(labels), labels=labels, pctdistance=0.5)\n",
    "plt.title(\"Types of animals\", fontsize=14);"
   ]
  },
  {
   "cell_type": "code",
   "execution_count": null,
   "metadata": {},
   "outputs": [],
   "source": [
    "# Remove animals of type 'Livestock' and 'Other' because its of no use for the recomendation system\n",
    "in_out_df = in_out_df.loc[in_out_df['animal_type'] != 'Livestock']"
   ]
  },
  {
   "cell_type": "code",
   "execution_count": null,
   "metadata": {},
   "outputs": [],
   "source": [
    "# See the different outcome types\n",
    "outcome_labels = in_out_df['outcome_type'].unique()\n",
    "total_records = in_out_df.shape[0]\n",
    "outcome_types = in_out_df['outcome_type'].value_counts()\n",
    "print(\"Outcome labels: \", outcome_labels)\n",
    "print(\"Records total: \", total_records)\n",
    "print(\"Values: \\n\", outcome_types)"
   ]
  },
  {
   "cell_type": "code",
   "execution_count": null,
   "metadata": {},
   "outputs": [],
   "source": [
    "ax = outcome_types.plot(kind='bar', figsize=(10, 7), width=0.8, edgecolor=None)\n",
    "plt.title(\"Outcome types\",fontsize= 16)\n",
    "\n",
    "for p in ax.patches:\n",
    "    width = p.get_width()\n",
    "    height = p.get_height()\n",
    "    x, y = p.get_xy() \n",
    "    ax.annotate(f'{(height / total_records):.0%}', (x + width/2, y + height*1.02), ha='center')\n"
   ]
  },
  {
   "cell_type": "code",
   "execution_count": null,
   "metadata": {},
   "outputs": [],
   "source": [
    "# Check income type\n",
    "intake_types = in_out_df['intake_type'].value_counts()\n",
    "intake_types"
   ]
  },
  {
   "cell_type": "code",
   "execution_count": null,
   "metadata": {},
   "outputs": [],
   "source": [
    "ax = intake_types.plot(kind='bar', figsize=(10, 7), width=0.8, edgecolor=None)\n",
    "plt.title(\"Intake types\",fontsize= 16)\n",
    "\n",
    "for p in ax.patches:\n",
    "    width = p.get_width()\n",
    "    height = p.get_height()\n",
    "    x, y = p.get_xy() \n",
    "    ax.annotate(f'{(height / total_records):.0%}', (x + width/2, y + height*1.02), ha='center')"
   ]
  },
  {
   "cell_type": "code",
   "execution_count": null,
   "metadata": {},
   "outputs": [],
   "source": [
    "# Remove 'outcome_type' of 'Return to Owner'. For the recomendation system we don't want cases of \n",
    "# lost animals to train the model\n",
    "in_out_df = in_out_df.loc[in_out_df['outcome_type'] != 'Return to Owner']"
   ]
  },
  {
   "cell_type": "markdown",
   "metadata": {},
   "source": [
    "## Create column time in shelter using outcome and income times"
   ]
  },
  {
   "cell_type": "code",
   "execution_count": null,
   "metadata": {},
   "outputs": [],
   "source": [
    "in_out_df['time_in_shelter'] = in_out_df['outcome_time'] - in_out_df['income_time']\n",
    "in_out_df['time_in_shelter'].describe()"
   ]
  },
  {
   "cell_type": "code",
   "execution_count": null,
   "metadata": {},
   "outputs": [],
   "source": [
    "# Remove rows where income_time is greater than outcome_time\n",
    "in_out_df = in_out_df.loc[in_out_df['income_time'] < in_out_df['outcome_time']]"
   ]
  },
  {
   "cell_type": "markdown",
   "metadata": {},
   "source": [
    "# Export dataframe"
   ]
  },
  {
   "cell_type": "code",
   "execution_count": null,
   "metadata": {},
   "outputs": [],
   "source": [
    "in_out_df.to_csv('./data/in_out_shelter.csv', encoding='utf-8')"
   ]
  },
  {
   "cell_type": "code",
   "execution_count": null,
   "metadata": {},
   "outputs": [],
   "source": []
  }
 ],
 "metadata": {
  "kernelspec": {
   "display_name": "Python 3",
   "language": "python",
   "name": "python3"
  },
  "language_info": {
   "codemirror_mode": {
    "name": "ipython",
    "version": 3
   },
   "file_extension": ".py",
   "mimetype": "text/x-python",
   "name": "python",
   "nbconvert_exporter": "python",
   "pygments_lexer": "ipython3",
   "version": "3.7.9"
  }
 },
 "nbformat": 4,
 "nbformat_minor": 4
}
