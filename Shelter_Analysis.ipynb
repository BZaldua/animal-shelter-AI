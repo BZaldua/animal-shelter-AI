{
 "cells": [
  {
   "cell_type": "markdown",
   "metadata": {},
   "source": [
    "Link to dataset: [Here](https://www.kaggle.com/aaronschlegel/austin-animal-center-shelter-intakes-and-outcomes)"
   ]
  },
  {
   "cell_type": "code",
   "execution_count": 1,
   "metadata": {},
   "outputs": [],
   "source": [
    "import pandas as pd\n",
    "import matplotlib.pyplot as plt\n",
    "import numpy as np\n",
    "import helper as hlp\n",
    "import seaborn as sns\n",
    "\n",
    "# Pretty display for notebooks\n",
    "%matplotlib inline"
   ]
  },
  {
   "cell_type": "markdown",
   "metadata": {},
   "source": [
    "## Fetch dataset and create in & out dataframes"
   ]
  },
  {
   "cell_type": "code",
   "execution_count": 2,
   "metadata": {},
   "outputs": [
    {
     "name": "stdout",
     "output_type": "stream",
     "text": [
      "Incomes shape (122993, 11)\n",
      "Outcomes shape (122839, 11)\n"
     ]
    }
   ],
   "source": [
    "incomes_endpoint = 'https://data.austintexas.gov/resource/wter-evkm.json'\n",
    "outcomes_endpoint = 'https://data.austintexas.gov/resource/9t4d-g238.json'\n",
    "\n",
    "import requests\n",
    "params = {'$limit': 10000000} # If not specified it only returns 1000 records\n",
    "r = requests.get(incomes_endpoint, params)\n",
    "in_df = pd.DataFrame(r.json())\n",
    "r = requests.get(outcomes_endpoint, params)\n",
    "out_df = pd.DataFrame(r.json())\n",
    "\n",
    "in_df['income_time'] = pd.to_datetime(in_df['datetime'])\n",
    "out_df['outcome_time'] = pd.to_datetime(out_df['datetime'])\n",
    "out_df['date_of_birth'] = pd.to_datetime(out_df['date_of_birth'])\n",
    "\n",
    "in_df.drop(['datetime','datetime2'], axis=1, inplace=True)\n",
    "out_df.drop(['monthyear', 'datetime'], axis=1, inplace=True)\n",
    "\n",
    "print('Incomes shape',in_df.shape)\n",
    "print('Outcomes shape',out_df.shape)\n"
   ]
  },
  {
   "cell_type": "code",
   "execution_count": 3,
   "metadata": {},
   "outputs": [
    {
     "data": {
      "text/html": [
       "<div>\n",
       "<style scoped>\n",
       "    .dataframe tbody tr th:only-of-type {\n",
       "        vertical-align: middle;\n",
       "    }\n",
       "\n",
       "    .dataframe tbody tr th {\n",
       "        vertical-align: top;\n",
       "    }\n",
       "\n",
       "    .dataframe thead th {\n",
       "        text-align: right;\n",
       "    }\n",
       "</style>\n",
       "<table border=\"1\" class=\"dataframe\">\n",
       "  <thead>\n",
       "    <tr style=\"text-align: right;\">\n",
       "      <th></th>\n",
       "      <th>animal_id</th>\n",
       "      <th>found_location</th>\n",
       "      <th>intake_type</th>\n",
       "      <th>intake_condition</th>\n",
       "      <th>animal_type</th>\n",
       "      <th>sex_upon_intake</th>\n",
       "      <th>age_upon_intake</th>\n",
       "      <th>breed</th>\n",
       "      <th>color</th>\n",
       "      <th>name</th>\n",
       "      <th>income_time</th>\n",
       "    </tr>\n",
       "  </thead>\n",
       "  <tbody>\n",
       "    <tr>\n",
       "      <th>0</th>\n",
       "      <td>A827590</td>\n",
       "      <td>4812 E Riverside Dr in Austin (TX)</td>\n",
       "      <td>Stray</td>\n",
       "      <td>Normal</td>\n",
       "      <td>Dog</td>\n",
       "      <td>Neutered Male</td>\n",
       "      <td>2 years</td>\n",
       "      <td>Labrador Retriever Mix</td>\n",
       "      <td>Brown/Brown</td>\n",
       "      <td>NaN</td>\n",
       "      <td>2020-12-26 16:27:00</td>\n",
       "    </tr>\n",
       "    <tr>\n",
       "      <th>1</th>\n",
       "      <td>A827289</td>\n",
       "      <td>12433 Dessau Rd in Austin (TX)</td>\n",
       "      <td>Owner Surrender</td>\n",
       "      <td>Normal</td>\n",
       "      <td>Cat</td>\n",
       "      <td>Spayed Female</td>\n",
       "      <td>3 years</td>\n",
       "      <td>Domestic Shorthair</td>\n",
       "      <td>Blue/White</td>\n",
       "      <td>Essie</td>\n",
       "      <td>2020-12-26 15:52:00</td>\n",
       "    </tr>\n",
       "    <tr>\n",
       "      <th>2</th>\n",
       "      <td>A827550</td>\n",
       "      <td>1500 E Riverside Dr in Austin (TX)</td>\n",
       "      <td>Public Assist</td>\n",
       "      <td>Normal</td>\n",
       "      <td>Dog</td>\n",
       "      <td>Neutered Male</td>\n",
       "      <td>2 years</td>\n",
       "      <td>Unknown</td>\n",
       "      <td>Black</td>\n",
       "      <td>Tigga</td>\n",
       "      <td>2020-12-26 15:34:00</td>\n",
       "    </tr>\n",
       "    <tr>\n",
       "      <th>3</th>\n",
       "      <td>A827584</td>\n",
       "      <td>Montopolis Dr And Ponca St in Austin (TX)</td>\n",
       "      <td>Stray</td>\n",
       "      <td>Normal</td>\n",
       "      <td>Dog</td>\n",
       "      <td>Intact Male</td>\n",
       "      <td>2 years</td>\n",
       "      <td>Miniature Poodle</td>\n",
       "      <td>White</td>\n",
       "      <td>NaN</td>\n",
       "      <td>2020-12-26 14:26:00</td>\n",
       "    </tr>\n",
       "    <tr>\n",
       "      <th>4</th>\n",
       "      <td>A554278</td>\n",
       "      <td>3002 Birdwood Circle in Austin (TX)</td>\n",
       "      <td>Stray</td>\n",
       "      <td>Normal</td>\n",
       "      <td>Dog</td>\n",
       "      <td>Neutered Male</td>\n",
       "      <td>13 years</td>\n",
       "      <td>Dachshund Mix</td>\n",
       "      <td>Brown/White</td>\n",
       "      <td>Oscar</td>\n",
       "      <td>2020-12-26 14:20:00</td>\n",
       "    </tr>\n",
       "  </tbody>\n",
       "</table>\n",
       "</div>"
      ],
      "text/plain": [
       "  animal_id                             found_location      intake_type  \\\n",
       "0   A827590         4812 E Riverside Dr in Austin (TX)            Stray   \n",
       "1   A827289             12433 Dessau Rd in Austin (TX)  Owner Surrender   \n",
       "2   A827550         1500 E Riverside Dr in Austin (TX)    Public Assist   \n",
       "3   A827584  Montopolis Dr And Ponca St in Austin (TX)            Stray   \n",
       "4   A554278        3002 Birdwood Circle in Austin (TX)            Stray   \n",
       "\n",
       "  intake_condition animal_type sex_upon_intake age_upon_intake  \\\n",
       "0           Normal         Dog   Neutered Male         2 years   \n",
       "1           Normal         Cat   Spayed Female         3 years   \n",
       "2           Normal         Dog   Neutered Male         2 years   \n",
       "3           Normal         Dog     Intact Male         2 years   \n",
       "4           Normal         Dog   Neutered Male        13 years   \n",
       "\n",
       "                    breed        color   name         income_time  \n",
       "0  Labrador Retriever Mix  Brown/Brown    NaN 2020-12-26 16:27:00  \n",
       "1      Domestic Shorthair   Blue/White  Essie 2020-12-26 15:52:00  \n",
       "2                 Unknown        Black  Tigga 2020-12-26 15:34:00  \n",
       "3        Miniature Poodle        White    NaN 2020-12-26 14:26:00  \n",
       "4           Dachshund Mix  Brown/White  Oscar 2020-12-26 14:20:00  "
      ]
     },
     "execution_count": 3,
     "metadata": {},
     "output_type": "execute_result"
    }
   ],
   "source": [
    "in_df.head(5)"
   ]
  },
  {
   "cell_type": "code",
   "execution_count": 4,
   "metadata": {},
   "outputs": [
    {
     "data": {
      "text/html": [
       "<div>\n",
       "<style scoped>\n",
       "    .dataframe tbody tr th:only-of-type {\n",
       "        vertical-align: middle;\n",
       "    }\n",
       "\n",
       "    .dataframe tbody tr th {\n",
       "        vertical-align: top;\n",
       "    }\n",
       "\n",
       "    .dataframe thead th {\n",
       "        text-align: right;\n",
       "    }\n",
       "</style>\n",
       "<table border=\"1\" class=\"dataframe\">\n",
       "  <thead>\n",
       "    <tr style=\"text-align: right;\">\n",
       "      <th></th>\n",
       "      <th>animal_id</th>\n",
       "      <th>name</th>\n",
       "      <th>date_of_birth</th>\n",
       "      <th>outcome_type</th>\n",
       "      <th>animal_type</th>\n",
       "      <th>sex_upon_outcome</th>\n",
       "      <th>age_upon_outcome</th>\n",
       "      <th>breed</th>\n",
       "      <th>color</th>\n",
       "      <th>outcome_subtype</th>\n",
       "      <th>outcome_time</th>\n",
       "    </tr>\n",
       "  </thead>\n",
       "  <tbody>\n",
       "    <tr>\n",
       "      <th>0</th>\n",
       "      <td>A821019</td>\n",
       "      <td>Spot</td>\n",
       "      <td>2017-04-03</td>\n",
       "      <td>Adoption</td>\n",
       "      <td>Dog</td>\n",
       "      <td>Neutered Male</td>\n",
       "      <td>3 years</td>\n",
       "      <td>Pit Bull</td>\n",
       "      <td>White/Black</td>\n",
       "      <td>NaN</td>\n",
       "      <td>2020-12-08 12:37:00</td>\n",
       "    </tr>\n",
       "    <tr>\n",
       "      <th>1</th>\n",
       "      <td>A824438</td>\n",
       "      <td>*Rose</td>\n",
       "      <td>2011-11-27</td>\n",
       "      <td>Adoption</td>\n",
       "      <td>Dog</td>\n",
       "      <td>Spayed Female</td>\n",
       "      <td>9 years</td>\n",
       "      <td>German Shepherd</td>\n",
       "      <td>Tan/Black</td>\n",
       "      <td>NaN</td>\n",
       "      <td>2020-12-08 12:27:00</td>\n",
       "    </tr>\n",
       "    <tr>\n",
       "      <th>2</th>\n",
       "      <td>A825587</td>\n",
       "      <td>*Ludwig</td>\n",
       "      <td>2011-11-06</td>\n",
       "      <td>Adoption</td>\n",
       "      <td>Cat</td>\n",
       "      <td>Neutered Male</td>\n",
       "      <td>9 years</td>\n",
       "      <td>Domestic Medium Hair</td>\n",
       "      <td>Cream Tabby</td>\n",
       "      <td>Foster</td>\n",
       "      <td>2020-12-08 12:22:00</td>\n",
       "    </tr>\n",
       "    <tr>\n",
       "      <th>3</th>\n",
       "      <td>A819626</td>\n",
       "      <td>NaN</td>\n",
       "      <td>2020-06-25</td>\n",
       "      <td>Adoption</td>\n",
       "      <td>Cat</td>\n",
       "      <td>Neutered Male</td>\n",
       "      <td>5 months</td>\n",
       "      <td>Domestic Shorthair</td>\n",
       "      <td>White/Black</td>\n",
       "      <td>Foster</td>\n",
       "      <td>2020-12-08 11:53:00</td>\n",
       "    </tr>\n",
       "    <tr>\n",
       "      <th>4</th>\n",
       "      <td>A819624</td>\n",
       "      <td>NaN</td>\n",
       "      <td>2020-06-25</td>\n",
       "      <td>Adoption</td>\n",
       "      <td>Cat</td>\n",
       "      <td>Neutered Male</td>\n",
       "      <td>5 months</td>\n",
       "      <td>Domestic Shorthair</td>\n",
       "      <td>Black</td>\n",
       "      <td>Foster</td>\n",
       "      <td>2020-12-08 11:52:00</td>\n",
       "    </tr>\n",
       "  </tbody>\n",
       "</table>\n",
       "</div>"
      ],
      "text/plain": [
       "  animal_id     name date_of_birth outcome_type animal_type sex_upon_outcome  \\\n",
       "0   A821019     Spot    2017-04-03     Adoption         Dog    Neutered Male   \n",
       "1   A824438    *Rose    2011-11-27     Adoption         Dog    Spayed Female   \n",
       "2   A825587  *Ludwig    2011-11-06     Adoption         Cat    Neutered Male   \n",
       "3   A819626      NaN    2020-06-25     Adoption         Cat    Neutered Male   \n",
       "4   A819624      NaN    2020-06-25     Adoption         Cat    Neutered Male   \n",
       "\n",
       "  age_upon_outcome                 breed        color outcome_subtype  \\\n",
       "0          3 years              Pit Bull  White/Black             NaN   \n",
       "1          9 years       German Shepherd    Tan/Black             NaN   \n",
       "2          9 years  Domestic Medium Hair  Cream Tabby          Foster   \n",
       "3         5 months    Domestic Shorthair  White/Black          Foster   \n",
       "4         5 months    Domestic Shorthair        Black          Foster   \n",
       "\n",
       "         outcome_time  \n",
       "0 2020-12-08 12:37:00  \n",
       "1 2020-12-08 12:27:00  \n",
       "2 2020-12-08 12:22:00  \n",
       "3 2020-12-08 11:53:00  \n",
       "4 2020-12-08 11:52:00  "
      ]
     },
     "execution_count": 4,
     "metadata": {},
     "output_type": "execute_result"
    }
   ],
   "source": [
    "out_df.head(5)"
   ]
  },
  {
   "cell_type": "markdown",
   "metadata": {},
   "source": [
    "## Create unique id to merge in & out datasets"
   ]
  },
  {
   "cell_type": "code",
   "execution_count": 5,
   "metadata": {},
   "outputs": [
    {
     "data": {
      "text/plain": [
       "A721033    33\n",
       "A718223    14\n",
       "A718877    12\n",
       "A706536    11\n",
       "A717053     9\n",
       "           ..\n",
       "A818640     1\n",
       "A694907     1\n",
       "A679670     1\n",
       "A756627     1\n",
       "A814985     1\n",
       "Name: animal_id, Length: 109957, dtype: int64"
      ]
     },
     "execution_count": 5,
     "metadata": {},
     "output_type": "execute_result"
    }
   ],
   "source": [
    "in_df['animal_id'].value_counts()"
   ]
  },
  {
   "cell_type": "code",
   "execution_count": 6,
   "metadata": {},
   "outputs": [],
   "source": [
    "# In order to merge the two datasets we need a unique parameter to link the datasets. animal_id can't be used \n",
    "# because one animal may stay in the shelter more than once. Thus, the a new id must be created."
   ]
  },
  {
   "cell_type": "code",
   "execution_count": 7,
   "metadata": {},
   "outputs": [],
   "source": [
    "def create_income_id(df, dataframe_type):\n",
    "    \n",
    "    # Get for each animal_id its occurrence number in the shelter\n",
    "    occurrence = df.groupby(['animal_id'])[dataframe_type + '_time'].rank(method='dense', ascending=False).astype(int)\n",
    "    \n",
    "    # The new id will be df['animal_id'] + '_' + rank where rank is the number of occurence of the animal in the shelter \n",
    "    df['income_id'] = df['animal_id'] + '_' + occurrence.astype(str)\n",
    "    return df"
   ]
  },
  {
   "cell_type": "code",
   "execution_count": 8,
   "metadata": {},
   "outputs": [],
   "source": [
    "in_df = create_income_id(in_df, 'income')\n",
    "out_df = create_income_id(out_df, 'outcome')"
   ]
  },
  {
   "cell_type": "markdown",
   "metadata": {},
   "source": [
    "## Check columns in common"
   ]
  },
  {
   "cell_type": "code",
   "execution_count": 9,
   "metadata": {},
   "outputs": [
    {
     "name": "stdout",
     "output_type": "stream",
     "text": [
      "Columns of the income -> Index(['animal_id', 'found_location', 'intake_type', 'intake_condition',\n",
      "       'animal_type', 'sex_upon_intake', 'age_upon_intake', 'breed', 'color',\n",
      "       'name', 'income_time', 'income_id'],\n",
      "      dtype='object')\n",
      "Columns of the ou0tcome -> Index(['animal_id', 'name', 'date_of_birth', 'outcome_type', 'animal_type',\n",
      "       'sex_upon_outcome', 'age_upon_outcome', 'breed', 'color',\n",
      "       'outcome_subtype', 'outcome_time', 'income_id'],\n",
      "      dtype='object')\n"
     ]
    },
    {
     "data": {
      "text/plain": [
       "{'animal_id', 'animal_type', 'breed', 'color', 'income_id', 'name'}"
      ]
     },
     "execution_count": 9,
     "metadata": {},
     "output_type": "execute_result"
    }
   ],
   "source": [
    "print('Columns of the income ->',in_df.columns)\n",
    "print('Columns of the ou0tcome ->',out_df.columns)\n",
    "set(in_df.columns).intersection(out_df.columns)"
   ]
  },
  {
   "cell_type": "markdown",
   "metadata": {},
   "source": [
    "## Remove columns to avoid duplicates in merge"
   ]
  },
  {
   "cell_type": "code",
   "execution_count": 10,
   "metadata": {},
   "outputs": [],
   "source": [
    "#in_df.drop(['index'], axis=1, inplace=True)\n",
    "out_df.drop(['animal_type', 'breed', 'color','name', 'animal_id'], axis=1, inplace=True)"
   ]
  },
  {
   "cell_type": "markdown",
   "metadata": {},
   "source": [
    "#### Merge"
   ]
  },
  {
   "cell_type": "code",
   "execution_count": 11,
   "metadata": {},
   "outputs": [],
   "source": [
    "in_df.set_index('income_id', inplace=True)\n",
    "out_df.set_index('income_id', inplace=True)\n",
    "# Merge datasets using type 'inner' to only take animals with both income and outcome \n",
    "in_out_df = pd.merge(out_df, in_df, how='inner', \n",
    "                  right_index=True, left_index=True, suffixes=['_outcome', '_income'])"
   ]
  },
  {
   "cell_type": "code",
   "execution_count": 12,
   "metadata": {},
   "outputs": [
    {
     "name": "stdout",
     "output_type": "stream",
     "text": [
      "Index(['date_of_birth', 'outcome_type', 'sex_upon_outcome', 'age_upon_outcome',\n",
      "       'outcome_subtype', 'outcome_time', 'animal_id', 'found_location',\n",
      "       'intake_type', 'intake_condition', 'animal_type', 'sex_upon_intake',\n",
      "       'age_upon_intake', 'breed', 'color', 'name', 'income_time'],\n",
      "      dtype='object')\n",
      "Income shape (122993, 11)\n",
      "Outcome shape (122839, 6)\n",
      "In/out shape (121834, 17)\n"
     ]
    },
    {
     "data": {
      "text/html": [
       "<div>\n",
       "<style scoped>\n",
       "    .dataframe tbody tr th:only-of-type {\n",
       "        vertical-align: middle;\n",
       "    }\n",
       "\n",
       "    .dataframe tbody tr th {\n",
       "        vertical-align: top;\n",
       "    }\n",
       "\n",
       "    .dataframe thead th {\n",
       "        text-align: right;\n",
       "    }\n",
       "</style>\n",
       "<table border=\"1\" class=\"dataframe\">\n",
       "  <thead>\n",
       "    <tr style=\"text-align: right;\">\n",
       "      <th></th>\n",
       "      <th>date_of_birth</th>\n",
       "      <th>outcome_type</th>\n",
       "      <th>sex_upon_outcome</th>\n",
       "      <th>age_upon_outcome</th>\n",
       "      <th>outcome_subtype</th>\n",
       "      <th>outcome_time</th>\n",
       "      <th>animal_id</th>\n",
       "      <th>found_location</th>\n",
       "      <th>intake_type</th>\n",
       "      <th>intake_condition</th>\n",
       "      <th>animal_type</th>\n",
       "      <th>sex_upon_intake</th>\n",
       "      <th>age_upon_intake</th>\n",
       "      <th>breed</th>\n",
       "      <th>color</th>\n",
       "      <th>name</th>\n",
       "      <th>income_time</th>\n",
       "    </tr>\n",
       "    <tr>\n",
       "      <th>income_id</th>\n",
       "      <th></th>\n",
       "      <th></th>\n",
       "      <th></th>\n",
       "      <th></th>\n",
       "      <th></th>\n",
       "      <th></th>\n",
       "      <th></th>\n",
       "      <th></th>\n",
       "      <th></th>\n",
       "      <th></th>\n",
       "      <th></th>\n",
       "      <th></th>\n",
       "      <th></th>\n",
       "      <th></th>\n",
       "      <th></th>\n",
       "      <th></th>\n",
       "      <th></th>\n",
       "    </tr>\n",
       "  </thead>\n",
       "  <tbody>\n",
       "    <tr>\n",
       "      <th>A006100_1</th>\n",
       "      <td>2007-07-09</td>\n",
       "      <td>Return to Owner</td>\n",
       "      <td>Neutered Male</td>\n",
       "      <td>10 years</td>\n",
       "      <td>NaN</td>\n",
       "      <td>2017-12-07 00:00:00</td>\n",
       "      <td>A006100</td>\n",
       "      <td>Colony Creek And Hunters Trace in Austin (TX)</td>\n",
       "      <td>Stray</td>\n",
       "      <td>Normal</td>\n",
       "      <td>Dog</td>\n",
       "      <td>Neutered Male</td>\n",
       "      <td>10 years</td>\n",
       "      <td>Spinone Italiano Mix</td>\n",
       "      <td>Yellow/White</td>\n",
       "      <td>Scamp</td>\n",
       "      <td>2017-12-07 14:07:00</td>\n",
       "    </tr>\n",
       "    <tr>\n",
       "      <th>A006100_2</th>\n",
       "      <td>2007-07-09</td>\n",
       "      <td>Return to Owner</td>\n",
       "      <td>Neutered Male</td>\n",
       "      <td>7 years</td>\n",
       "      <td>NaN</td>\n",
       "      <td>2014-12-20 16:35:00</td>\n",
       "      <td>A006100</td>\n",
       "      <td>8700 Research Blvd in Austin (TX)</td>\n",
       "      <td>Public Assist</td>\n",
       "      <td>Normal</td>\n",
       "      <td>Dog</td>\n",
       "      <td>Neutered Male</td>\n",
       "      <td>7 years</td>\n",
       "      <td>Spinone Italiano Mix</td>\n",
       "      <td>Yellow/White</td>\n",
       "      <td>Scamp</td>\n",
       "      <td>2014-12-19 10:21:00</td>\n",
       "    </tr>\n",
       "    <tr>\n",
       "      <th>A006100_3</th>\n",
       "      <td>2007-07-09</td>\n",
       "      <td>Return to Owner</td>\n",
       "      <td>Neutered Male</td>\n",
       "      <td>6 years</td>\n",
       "      <td>NaN</td>\n",
       "      <td>2014-03-08 17:10:00</td>\n",
       "      <td>A006100</td>\n",
       "      <td>8700 Research in Austin (TX)</td>\n",
       "      <td>Public Assist</td>\n",
       "      <td>Normal</td>\n",
       "      <td>Dog</td>\n",
       "      <td>Neutered Male</td>\n",
       "      <td>6 years</td>\n",
       "      <td>Spinone Italiano Mix</td>\n",
       "      <td>Yellow/White</td>\n",
       "      <td>Scamp</td>\n",
       "      <td>2014-03-07 14:26:00</td>\n",
       "    </tr>\n",
       "    <tr>\n",
       "      <th>A047759_1</th>\n",
       "      <td>2004-04-02</td>\n",
       "      <td>Transfer</td>\n",
       "      <td>Neutered Male</td>\n",
       "      <td>10 years</td>\n",
       "      <td>Partner</td>\n",
       "      <td>2014-04-07 15:12:00</td>\n",
       "      <td>A047759</td>\n",
       "      <td>Austin (TX)</td>\n",
       "      <td>Owner Surrender</td>\n",
       "      <td>Normal</td>\n",
       "      <td>Dog</td>\n",
       "      <td>Neutered Male</td>\n",
       "      <td>10 years</td>\n",
       "      <td>Dachshund</td>\n",
       "      <td>Tricolor</td>\n",
       "      <td>Oreo</td>\n",
       "      <td>2014-04-02 15:55:00</td>\n",
       "    </tr>\n",
       "    <tr>\n",
       "      <th>A134067_1</th>\n",
       "      <td>1997-10-16</td>\n",
       "      <td>Return to Owner</td>\n",
       "      <td>Neutered Male</td>\n",
       "      <td>16 years</td>\n",
       "      <td>NaN</td>\n",
       "      <td>2013-11-16 11:54:00</td>\n",
       "      <td>A134067</td>\n",
       "      <td>12034 Research Blvd in Austin (TX)</td>\n",
       "      <td>Public Assist</td>\n",
       "      <td>Injured</td>\n",
       "      <td>Dog</td>\n",
       "      <td>Neutered Male</td>\n",
       "      <td>16 years</td>\n",
       "      <td>Shetland Sheepdog</td>\n",
       "      <td>Brown/White</td>\n",
       "      <td>Bandit</td>\n",
       "      <td>2013-11-16 09:02:00</td>\n",
       "    </tr>\n",
       "  </tbody>\n",
       "</table>\n",
       "</div>"
      ],
      "text/plain": [
       "          date_of_birth     outcome_type sex_upon_outcome age_upon_outcome  \\\n",
       "income_id                                                                    \n",
       "A006100_1    2007-07-09  Return to Owner    Neutered Male         10 years   \n",
       "A006100_2    2007-07-09  Return to Owner    Neutered Male          7 years   \n",
       "A006100_3    2007-07-09  Return to Owner    Neutered Male          6 years   \n",
       "A047759_1    2004-04-02         Transfer    Neutered Male         10 years   \n",
       "A134067_1    1997-10-16  Return to Owner    Neutered Male         16 years   \n",
       "\n",
       "          outcome_subtype        outcome_time animal_id  \\\n",
       "income_id                                                 \n",
       "A006100_1             NaN 2017-12-07 00:00:00   A006100   \n",
       "A006100_2             NaN 2014-12-20 16:35:00   A006100   \n",
       "A006100_3             NaN 2014-03-08 17:10:00   A006100   \n",
       "A047759_1         Partner 2014-04-07 15:12:00   A047759   \n",
       "A134067_1             NaN 2013-11-16 11:54:00   A134067   \n",
       "\n",
       "                                          found_location      intake_type  \\\n",
       "income_id                                                                   \n",
       "A006100_1  Colony Creek And Hunters Trace in Austin (TX)            Stray   \n",
       "A006100_2              8700 Research Blvd in Austin (TX)    Public Assist   \n",
       "A006100_3                   8700 Research in Austin (TX)    Public Assist   \n",
       "A047759_1                                    Austin (TX)  Owner Surrender   \n",
       "A134067_1             12034 Research Blvd in Austin (TX)    Public Assist   \n",
       "\n",
       "          intake_condition animal_type sex_upon_intake age_upon_intake  \\\n",
       "income_id                                                                \n",
       "A006100_1           Normal         Dog   Neutered Male        10 years   \n",
       "A006100_2           Normal         Dog   Neutered Male         7 years   \n",
       "A006100_3           Normal         Dog   Neutered Male         6 years   \n",
       "A047759_1           Normal         Dog   Neutered Male        10 years   \n",
       "A134067_1          Injured         Dog   Neutered Male        16 years   \n",
       "\n",
       "                          breed         color    name         income_time  \n",
       "income_id                                                                  \n",
       "A006100_1  Spinone Italiano Mix  Yellow/White   Scamp 2017-12-07 14:07:00  \n",
       "A006100_2  Spinone Italiano Mix  Yellow/White   Scamp 2014-12-19 10:21:00  \n",
       "A006100_3  Spinone Italiano Mix  Yellow/White   Scamp 2014-03-07 14:26:00  \n",
       "A047759_1             Dachshund      Tricolor    Oreo 2014-04-02 15:55:00  \n",
       "A134067_1     Shetland Sheepdog   Brown/White  Bandit 2013-11-16 09:02:00  "
      ]
     },
     "execution_count": 12,
     "metadata": {},
     "output_type": "execute_result"
    }
   ],
   "source": [
    "print(in_out_df.columns)\n",
    "print('Income shape', in_df.shape)\n",
    "print('Outcome shape', out_df.shape)\n",
    "print('In/out shape', in_out_df.shape)\n",
    "in_out_df.head()\n",
    "# TODO: see why the diference in row numbers (animals with income but not yet an outcome?) "
   ]
  },
  {
   "cell_type": "markdown",
   "metadata": {},
   "source": [
    "### Data cleaning"
   ]
  },
  {
   "cell_type": "code",
   "execution_count": 13,
   "metadata": {},
   "outputs": [
    {
     "data": {
      "text/plain": [
       "Dog          69051\n",
       "Cat          45693\n",
       "Other         6498\n",
       "Bird           573\n",
       "Livestock       19\n",
       "Name: animal_type, dtype: int64"
      ]
     },
     "execution_count": 13,
     "metadata": {},
     "output_type": "execute_result"
    }
   ],
   "source": [
    "in_out_df['animal_type'].value_counts()"
   ]
  },
  {
   "cell_type": "code",
   "execution_count": 14,
   "metadata": {},
   "outputs": [],
   "source": [
    "# Remove animals of type 'Livestock' and 'Other' because its of no use for the recomendation system\n",
    "in_out_df = in_out_df.loc[in_out_df['animal_type'] != 'Other']\n",
    "in_out_df = in_out_df.loc[in_out_df['animal_type'] != 'Livestock']"
   ]
  },
  {
   "cell_type": "code",
   "execution_count": 20,
   "metadata": {},
   "outputs": [
    {
     "name": "stdout",
     "output_type": "stream",
     "text": [
      "['Transfer' 'Relocate' 'Adoption' 'Euthanasia' 'Died' 'Rto-Adopt'\n",
      " 'Missing' 'Disposal']\n",
      "93520\n",
      "Adoption      53094\n",
      "Transfer      34869\n",
      "Euthanasia     3758\n",
      "Died            930\n",
      "Rto-Adopt       667\n",
      "Disposal        129\n",
      "Missing          63\n",
      "Relocate         10\n",
      "Name: outcome_type, dtype: int64\n"
     ]
    }
   ],
   "source": [
    "# See the different outcome types\n",
    "print(in_out_df['outcome_type'].unique())\n",
    "print(in_out_df.shape[0])\n",
    "print(in_out_df['outcome_type'].value_counts())"
   ]
  },
  {
   "cell_type": "code",
   "execution_count": 19,
   "metadata": {},
   "outputs": [],
   "source": [
    "# Remove 'outcome_type' of 'Return to Owner'. For the recomendation system we don't want cases of \n",
    "# lost animals to train the model\n",
    "in_out_df = in_out_df.loc[in_out_df['outcome_type'] != 'Return to Owner']"
   ]
  },
  {
   "cell_type": "markdown",
   "metadata": {},
   "source": [
    "## Create column time in shelter using outcome and income times"
   ]
  },
  {
   "cell_type": "code",
   "execution_count": 17,
   "metadata": {},
   "outputs": [
    {
     "data": {
      "text/plain": [
       "count                      94126\n",
       "mean     21 days 17:36:01.328432\n",
       "std      52 days 15:56:06.979541\n",
       "min         -2411 days +06:11:00\n",
       "25%              3 days 19:41:00\n",
       "50%              6 days 08:17:30\n",
       "75%             23 days 00:08:45\n",
       "max           1521 days 23:31:00\n",
       "Name: time_in_shelter, dtype: object"
      ]
     },
     "execution_count": 17,
     "metadata": {},
     "output_type": "execute_result"
    }
   ],
   "source": [
    "in_out_df['time_in_shelter'] = in_out_df['outcome_time'] - in_out_df['income_time']\n",
    "in_out_df['time_in_shelter'].describe()"
   ]
  },
  {
   "cell_type": "code",
   "execution_count": 18,
   "metadata": {},
   "outputs": [],
   "source": [
    "# Remove rows where income_time is greater than outcome_time\n",
    "in_out_df = in_out_df.loc[in_out_df['income_time'] < in_out_df['outcome_time']]"
   ]
  },
  {
   "cell_type": "markdown",
   "metadata": {},
   "source": [
    "# Export dataframe"
   ]
  },
  {
   "cell_type": "code",
   "execution_count": 22,
   "metadata": {},
   "outputs": [],
   "source": [
    "in_out_df.to_csv('./data/in_out_shelter.csv', encoding='utf-8')"
   ]
  },
  {
   "cell_type": "code",
   "execution_count": null,
   "metadata": {},
   "outputs": [],
   "source": []
  }
 ],
 "metadata": {
  "kernelspec": {
   "display_name": "Python 3",
   "language": "python",
   "name": "python3"
  },
  "language_info": {
   "codemirror_mode": {
    "name": "ipython",
    "version": 3
   },
   "file_extension": ".py",
   "mimetype": "text/x-python",
   "name": "python",
   "nbconvert_exporter": "python",
   "pygments_lexer": "ipython3",
   "version": "3.8.3"
  }
 },
 "nbformat": 4,
 "nbformat_minor": 4
}
